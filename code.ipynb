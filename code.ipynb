{
  "nbformat": 4,
  "nbformat_minor": 0,
  "metadata": {
    "colab": {
      "name": "code.ipynb",
      "provenance": [],
      "collapsed_sections": [],
      "authorship_tag": "ABX9TyNWCjagnRkXftQQUg/svy0R",
      "include_colab_link": true
    },
    "kernelspec": {
      "name": "python3",
      "display_name": "Python 3"
    },
    "language_info": {
      "name": "python"
    }
  },
  "cells": [
    {
      "cell_type": "markdown",
      "metadata": {
        "id": "view-in-github",
        "colab_type": "text"
      },
      "source": [
        "<a href=\"https://colab.research.google.com/github/GHADAJUFAIR1/Bootcamps/blob/main/code.ipynb\" target=\"_parent\"><img src=\"https://colab.research.google.com/assets/colab-badge.svg\" alt=\"Open In Colab\"/></a>"
      ]
    },
    {
      "cell_type": "markdown",
      "metadata": {
        "id": "Wduwh1OT_gyI"
      },
      "source": [
        "# **Collect** **and** **Explore** **The** **Data** "
      ]
    },
    {
      "cell_type": "code",
      "metadata": {
        "id": "mb2yn27X-BKi"
      },
      "source": [
        "import pandas as pd\n",
        "import numpy as np \n",
        "import csv\n",
        "import re # for regular expression\n",
        "import string\n",
        "import nltk \n",
        "from nltk.corpus import stopwords\n",
        "from nltk.tokenize import word_tokenize\n",
        "from nltk.tokenize import RegexpTokenizer\n",
        "from collections import Counter \n",
        "\n",
        "%matplotlib inline"
      ],
      "execution_count": 1,
      "outputs": []
    },
    {
      "cell_type": "code",
      "metadata": {
        "colab": {
          "base_uri": "https://localhost:8080/"
        },
        "id": "etVn2_BY-DrW",
        "outputId": "0373251d-f5d0-4b97-a2df-bc6ac16ba4f2"
      },
      "source": [
        "from google.colab import drive \n",
        "drive.mount('/content/gdrive')"
      ],
      "execution_count": 2,
      "outputs": [
        {
          "output_type": "stream",
          "name": "stdout",
          "text": [
            "Drive already mounted at /content/gdrive; to attempt to forcibly remount, call drive.mount(\"/content/gdrive\", force_remount=True).\n"
          ]
        }
      ]
    },
    {
      "cell_type": "code",
      "metadata": {
        "id": "hzjSn190-kVv"
      },
      "source": [
        "Data = pd.read_excel ('gdrive/My Drive/EatmarnaDataset.xlsx')"
      ],
      "execution_count": 3,
      "outputs": []
    },
    {
      "cell_type": "code",
      "metadata": {
        "colab": {
          "base_uri": "https://localhost:8080/"
        },
        "id": "ny4nAvUDAAEG",
        "outputId": "1fbfb334-9c8c-4045-f4a0-413bfa0e6775"
      },
      "source": [
        "Data.shape"
      ],
      "execution_count": 4,
      "outputs": [
        {
          "output_type": "execute_result",
          "data": {
            "text/plain": [
              "(27870, 7)"
            ]
          },
          "metadata": {},
          "execution_count": 4
        }
      ]
    },
    {
      "cell_type": "code",
      "metadata": {
        "colab": {
          "base_uri": "https://localhost:8080/"
        },
        "id": "wMsnHxTQAB8L",
        "outputId": "be2deefc-aa48-4556-8a17-1b954057fd0d"
      },
      "source": [
        "Data.columns"
      ],
      "execution_count": 5,
      "outputs": [
        {
          "output_type": "execute_result",
          "data": {
            "text/plain": [
              "Index(['id', '@username', 'display name', 'text', 'date', 'retweets', 'likes'], dtype='object')"
            ]
          },
          "metadata": {},
          "execution_count": 5
        }
      ]
    },
    {
      "cell_type": "code",
      "metadata": {
        "colab": {
          "base_uri": "https://localhost:8080/",
          "height": 204
        },
        "id": "-QW6PBnU-yd7",
        "outputId": "9a3382a9-d12f-4fc0-f5bb-adfaa383664a"
      },
      "source": [
        "#show first five dataframe content \n",
        "Data.head()"
      ],
      "execution_count": 6,
      "outputs": [
        {
          "output_type": "execute_result",
          "data": {
            "text/html": [
              "<div>\n",
              "<style scoped>\n",
              "    .dataframe tbody tr th:only-of-type {\n",
              "        vertical-align: middle;\n",
              "    }\n",
              "\n",
              "    .dataframe tbody tr th {\n",
              "        vertical-align: top;\n",
              "    }\n",
              "\n",
              "    .dataframe thead th {\n",
              "        text-align: right;\n",
              "    }\n",
              "</style>\n",
              "<table border=\"1\" class=\"dataframe\">\n",
              "  <thead>\n",
              "    <tr style=\"text-align: right;\">\n",
              "      <th></th>\n",
              "      <th>id</th>\n",
              "      <th>@username</th>\n",
              "      <th>display name</th>\n",
              "      <th>text</th>\n",
              "      <th>date</th>\n",
              "      <th>retweets</th>\n",
              "      <th>likes</th>\n",
              "    </tr>\n",
              "  </thead>\n",
              "  <tbody>\n",
              "    <tr>\n",
              "      <th>0</th>\n",
              "      <td>1456153547188445185</td>\n",
              "      <td>jiil3r</td>\n",
              "      <td>حجز العمرة #اعتمرنا</td>\n",
              "      <td>#اعتمرنا اصدار تصريح 🛑.\\nمتوفر حجز تصاريح \\nال...</td>\n",
              "      <td>2021-11-04T06:57:14+00:00</td>\n",
              "      <td>0</td>\n",
              "      <td>0</td>\n",
              "    </tr>\n",
              "    <tr>\n",
              "      <th>1</th>\n",
              "      <td>1456153488644362243</td>\n",
              "      <td>jiil3r</td>\n",
              "      <td>حجز العمرة #اعتمرنا</td>\n",
              "      <td>#اعتمرنا نسعد بخدمتكم في اصدار تصاريح لكل مما ...</td>\n",
              "      <td>2021-11-04T06:57:00+00:00</td>\n",
              "      <td>0</td>\n",
              "      <td>0</td>\n",
              "    </tr>\n",
              "    <tr>\n",
              "      <th>2</th>\n",
              "      <td>1456151700822241284</td>\n",
              "      <td>eatmarna14</td>\n",
              "      <td>حجز تصاريح عمره #اعتمرنا</td>\n",
              "      <td>من حجوزاتي الان صلاة الروضة الشريفة ليوم الجمع...</td>\n",
              "      <td>2021-11-04T06:49:54+00:00</td>\n",
              "      <td>0</td>\n",
              "      <td>0</td>\n",
              "    </tr>\n",
              "    <tr>\n",
              "      <th>3</th>\n",
              "      <td>1456149271984680960</td>\n",
              "      <td>jiil3r</td>\n",
              "      <td>حجز العمرة #اعتمرنا</td>\n",
              "      <td>اصدار تصريح 🟢.\\nنستخرج لكم تصاريح من تطبيق اعت...</td>\n",
              "      <td>2021-11-04T06:40:15+00:00</td>\n",
              "      <td>0</td>\n",
              "      <td>0</td>\n",
              "    </tr>\n",
              "    <tr>\n",
              "      <th>4</th>\n",
              "      <td>1456147951710052354</td>\n",
              "      <td>9__Rema</td>\n",
              "      <td>ريما</td>\n",
              "      <td>#الاتحاد_الفتح\\nاللي يبي حجز عمره أو صلاه أو ز...</td>\n",
              "      <td>2021-11-04T06:35:00+00:00</td>\n",
              "      <td>0</td>\n",
              "      <td>0</td>\n",
              "    </tr>\n",
              "  </tbody>\n",
              "</table>\n",
              "</div>"
            ],
            "text/plain": [
              "                    id   @username  ... retweets likes\n",
              "0  1456153547188445185      jiil3r  ...        0     0\n",
              "1  1456153488644362243      jiil3r  ...        0     0\n",
              "2  1456151700822241284  eatmarna14  ...        0     0\n",
              "3  1456149271984680960      jiil3r  ...        0     0\n",
              "4  1456147951710052354     9__Rema  ...        0     0\n",
              "\n",
              "[5 rows x 7 columns]"
            ]
          },
          "metadata": {},
          "execution_count": 6
        }
      ]
    },
    {
      "cell_type": "code",
      "metadata": {
        "colab": {
          "base_uri": "https://localhost:8080/"
        },
        "id": "AxD6zqSC-8F3",
        "outputId": "8bcb69e7-1e73-4465-e446-6e9e406a9b73"
      },
      "source": [
        "# explore the data type at each series\n",
        "Data.info()"
      ],
      "execution_count": 7,
      "outputs": [
        {
          "output_type": "stream",
          "name": "stdout",
          "text": [
            "<class 'pandas.core.frame.DataFrame'>\n",
            "RangeIndex: 27870 entries, 0 to 27869\n",
            "Data columns (total 7 columns):\n",
            " #   Column        Non-Null Count  Dtype \n",
            "---  ------        --------------  ----- \n",
            " 0   id            27870 non-null  int64 \n",
            " 1   @username     27870 non-null  object\n",
            " 2   display name  27865 non-null  object\n",
            " 3   text          27870 non-null  object\n",
            " 4   date          27870 non-null  object\n",
            " 5   retweets      27870 non-null  int64 \n",
            " 6   likes         27870 non-null  int64 \n",
            "dtypes: int64(3), object(4)\n",
            "memory usage: 1.5+ MB\n"
          ]
        }
      ]
    },
    {
      "cell_type": "code",
      "metadata": {
        "colab": {
          "base_uri": "https://localhost:8080/"
        },
        "id": "nacgIkrs-8Rt",
        "outputId": "78924580-c48f-4d5a-d3f1-ffe31f2625d2"
      },
      "source": [
        "# check to null values \n",
        "Data.isna().sum()"
      ],
      "execution_count": 8,
      "outputs": [
        {
          "output_type": "execute_result",
          "data": {
            "text/plain": [
              "id              0\n",
              "@username       0\n",
              "display name    5\n",
              "text            0\n",
              "date            0\n",
              "retweets        0\n",
              "likes           0\n",
              "dtype: int64"
            ]
          },
          "metadata": {},
          "execution_count": 8
        }
      ]
    },
    {
      "cell_type": "markdown",
      "metadata": {
        "id": "Xd_I6viOALFJ"
      },
      "source": [
        "# **Clean** **the** **data**"
      ]
    },
    {
      "cell_type": "code",
      "metadata": {
        "colab": {
          "base_uri": "https://localhost:8080/",
          "height": 204
        },
        "id": "ZwTzAsHE-8Xf",
        "outputId": "1ccb9c14-cb41-4480-be4b-dcb4ef4b3cf8"
      },
      "source": [
        "Data.drop_duplicates(subset = \"text\", keep = False, inplace = True)\n",
        "Data.head(5)"
      ],
      "execution_count": 9,
      "outputs": [
        {
          "output_type": "execute_result",
          "data": {
            "text/html": [
              "<div>\n",
              "<style scoped>\n",
              "    .dataframe tbody tr th:only-of-type {\n",
              "        vertical-align: middle;\n",
              "    }\n",
              "\n",
              "    .dataframe tbody tr th {\n",
              "        vertical-align: top;\n",
              "    }\n",
              "\n",
              "    .dataframe thead th {\n",
              "        text-align: right;\n",
              "    }\n",
              "</style>\n",
              "<table border=\"1\" class=\"dataframe\">\n",
              "  <thead>\n",
              "    <tr style=\"text-align: right;\">\n",
              "      <th></th>\n",
              "      <th>id</th>\n",
              "      <th>@username</th>\n",
              "      <th>display name</th>\n",
              "      <th>text</th>\n",
              "      <th>date</th>\n",
              "      <th>retweets</th>\n",
              "      <th>likes</th>\n",
              "    </tr>\n",
              "  </thead>\n",
              "  <tbody>\n",
              "    <tr>\n",
              "      <th>0</th>\n",
              "      <td>1456153547188445185</td>\n",
              "      <td>jiil3r</td>\n",
              "      <td>حجز العمرة #اعتمرنا</td>\n",
              "      <td>#اعتمرنا اصدار تصريح 🛑.\\nمتوفر حجز تصاريح \\nال...</td>\n",
              "      <td>2021-11-04T06:57:14+00:00</td>\n",
              "      <td>0</td>\n",
              "      <td>0</td>\n",
              "    </tr>\n",
              "    <tr>\n",
              "      <th>2</th>\n",
              "      <td>1456151700822241284</td>\n",
              "      <td>eatmarna14</td>\n",
              "      <td>حجز تصاريح عمره #اعتمرنا</td>\n",
              "      <td>من حجوزاتي الان صلاة الروضة الشريفة ليوم الجمع...</td>\n",
              "      <td>2021-11-04T06:49:54+00:00</td>\n",
              "      <td>0</td>\n",
              "      <td>0</td>\n",
              "    </tr>\n",
              "    <tr>\n",
              "      <th>3</th>\n",
              "      <td>1456149271984680960</td>\n",
              "      <td>jiil3r</td>\n",
              "      <td>حجز العمرة #اعتمرنا</td>\n",
              "      <td>اصدار تصريح 🟢.\\nنستخرج لكم تصاريح من تطبيق اعت...</td>\n",
              "      <td>2021-11-04T06:40:15+00:00</td>\n",
              "      <td>0</td>\n",
              "      <td>0</td>\n",
              "    </tr>\n",
              "    <tr>\n",
              "      <th>4</th>\n",
              "      <td>1456147951710052354</td>\n",
              "      <td>9__Rema</td>\n",
              "      <td>ريما</td>\n",
              "      <td>#الاتحاد_الفتح\\nاللي يبي حجز عمره أو صلاه أو ز...</td>\n",
              "      <td>2021-11-04T06:35:00+00:00</td>\n",
              "      <td>0</td>\n",
              "      <td>0</td>\n",
              "    </tr>\n",
              "    <tr>\n",
              "      <th>5</th>\n",
              "      <td>1456147896798167044</td>\n",
              "      <td>9__Rema</td>\n",
              "      <td>ريما</td>\n",
              "      <td>#كفر_قوي\\nاللي يبي حجز عمره أو صلاه أو زياره ا...</td>\n",
              "      <td>2021-11-04T06:34:47+00:00</td>\n",
              "      <td>0</td>\n",
              "      <td>0</td>\n",
              "    </tr>\n",
              "  </tbody>\n",
              "</table>\n",
              "</div>"
            ],
            "text/plain": [
              "                    id   @username  ... retweets likes\n",
              "0  1456153547188445185      jiil3r  ...        0     0\n",
              "2  1456151700822241284  eatmarna14  ...        0     0\n",
              "3  1456149271984680960      jiil3r  ...        0     0\n",
              "4  1456147951710052354     9__Rema  ...        0     0\n",
              "5  1456147896798167044     9__Rema  ...        0     0\n",
              "\n",
              "[5 rows x 7 columns]"
            ]
          },
          "metadata": {},
          "execution_count": 9
        }
      ]
    },
    {
      "cell_type": "code",
      "metadata": {
        "colab": {
          "base_uri": "https://localhost:8080/"
        },
        "id": "zVAYAhXr-8aw",
        "outputId": "12e3acc0-dbec-48ad-af3b-8694d06619f1"
      },
      "source": [
        "# how much data do I have after removing duplicated tweets?\n",
        "len(Data)"
      ],
      "execution_count": 10,
      "outputs": [
        {
          "output_type": "execute_result",
          "data": {
            "text/plain": [
              "24632"
            ]
          },
          "metadata": {},
          "execution_count": 10
        }
      ]
    },
    {
      "cell_type": "code",
      "metadata": {
        "id": "g3IwwgehAlhm"
      },
      "source": [
        "# Removing mentions and links from tweets\n",
        "Data['text']=Data['text'].str.replace(\"(@[A-Za-z0-9_-]+)|(#[A-Za-z0-9_-]+)|http\\S+\", \"\")"
      ],
      "execution_count": 11,
      "outputs": []
    },
    {
      "cell_type": "code",
      "metadata": {
        "id": "qPrzu_caAlkZ"
      },
      "source": [
        "# Removing hashtags and new lines from tweets\n",
        "def processPost(tweet):\n",
        "    #Replace #word with word\n",
        "    tweet = re.sub(r'#([^\\s]+)', r'\\1', tweet)\n",
        "    \n",
        "    #Remove new lines with white space\n",
        "    tweet = tweet.replace('\\n',' ')\n",
        "    tweet = tweet.replace('\\t',' ')\n",
        "    tweet = tweet.replace('_',' ')\n",
        "    tweet = tweet.replace('\\r',' ')\n",
        "        \n",
        "    return tweet"
      ],
      "execution_count": 12,
      "outputs": []
    },
    {
      "cell_type": "code",
      "metadata": {
        "colab": {
          "base_uri": "https://localhost:8080/",
          "height": 204
        },
        "id": "AN-GqPYeAlnO",
        "outputId": "c102f7cb-3377-40c5-fbf4-3600e9cda9e7"
      },
      "source": [
        "Data[\"text\"] = Data['text'].apply(lambda x: processPost(x))\n",
        "Data.head(5)"
      ],
      "execution_count": 13,
      "outputs": [
        {
          "output_type": "execute_result",
          "data": {
            "text/html": [
              "<div>\n",
              "<style scoped>\n",
              "    .dataframe tbody tr th:only-of-type {\n",
              "        vertical-align: middle;\n",
              "    }\n",
              "\n",
              "    .dataframe tbody tr th {\n",
              "        vertical-align: top;\n",
              "    }\n",
              "\n",
              "    .dataframe thead th {\n",
              "        text-align: right;\n",
              "    }\n",
              "</style>\n",
              "<table border=\"1\" class=\"dataframe\">\n",
              "  <thead>\n",
              "    <tr style=\"text-align: right;\">\n",
              "      <th></th>\n",
              "      <th>id</th>\n",
              "      <th>@username</th>\n",
              "      <th>display name</th>\n",
              "      <th>text</th>\n",
              "      <th>date</th>\n",
              "      <th>retweets</th>\n",
              "      <th>likes</th>\n",
              "    </tr>\n",
              "  </thead>\n",
              "  <tbody>\n",
              "    <tr>\n",
              "      <th>0</th>\n",
              "      <td>1456153547188445185</td>\n",
              "      <td>jiil3r</td>\n",
              "      <td>حجز العمرة #اعتمرنا</td>\n",
              "      <td>اعتمرنا اصدار تصريح 🛑. متوفر حجز تصاريح  العمر...</td>\n",
              "      <td>2021-11-04T06:57:14+00:00</td>\n",
              "      <td>0</td>\n",
              "      <td>0</td>\n",
              "    </tr>\n",
              "    <tr>\n",
              "      <th>2</th>\n",
              "      <td>1456151700822241284</td>\n",
              "      <td>eatmarna14</td>\n",
              "      <td>حجز تصاريح عمره #اعتمرنا</td>\n",
              "      <td>من حجوزاتي الان صلاة الروضة الشريفة ليوم الجمع...</td>\n",
              "      <td>2021-11-04T06:49:54+00:00</td>\n",
              "      <td>0</td>\n",
              "      <td>0</td>\n",
              "    </tr>\n",
              "    <tr>\n",
              "      <th>3</th>\n",
              "      <td>1456149271984680960</td>\n",
              "      <td>jiil3r</td>\n",
              "      <td>حجز العمرة #اعتمرنا</td>\n",
              "      <td>اصدار تصريح 🟢. نستخرج لكم تصاريح من تطبيق اعتم...</td>\n",
              "      <td>2021-11-04T06:40:15+00:00</td>\n",
              "      <td>0</td>\n",
              "      <td>0</td>\n",
              "    </tr>\n",
              "    <tr>\n",
              "      <th>4</th>\n",
              "      <td>1456147951710052354</td>\n",
              "      <td>9__Rema</td>\n",
              "      <td>ريما</td>\n",
              "      <td>الاتحاد الفتح اللي يبي حجز عمره أو صلاه أو زيا...</td>\n",
              "      <td>2021-11-04T06:35:00+00:00</td>\n",
              "      <td>0</td>\n",
              "      <td>0</td>\n",
              "    </tr>\n",
              "    <tr>\n",
              "      <th>5</th>\n",
              "      <td>1456147896798167044</td>\n",
              "      <td>9__Rema</td>\n",
              "      <td>ريما</td>\n",
              "      <td>كفر قوي اللي يبي حجز عمره أو صلاه أو زياره الي...</td>\n",
              "      <td>2021-11-04T06:34:47+00:00</td>\n",
              "      <td>0</td>\n",
              "      <td>0</td>\n",
              "    </tr>\n",
              "  </tbody>\n",
              "</table>\n",
              "</div>"
            ],
            "text/plain": [
              "                    id   @username  ... retweets likes\n",
              "0  1456153547188445185      jiil3r  ...        0     0\n",
              "2  1456151700822241284  eatmarna14  ...        0     0\n",
              "3  1456149271984680960      jiil3r  ...        0     0\n",
              "4  1456147951710052354     9__Rema  ...        0     0\n",
              "5  1456147896798167044     9__Rema  ...        0     0\n",
              "\n",
              "[5 rows x 7 columns]"
            ]
          },
          "metadata": {},
          "execution_count": 13
        }
      ]
    },
    {
      "cell_type": "code",
      "metadata": {
        "id": "3A1qrs8qAlqC"
      },
      "source": [
        "# remove punctuations علامات الترقيم  \n",
        "arabic_punctuations = '''`÷×؛<>_()*&^%][ـ،/:\"؟.,'{}~¦+|!”…“–ـ'''\n",
        "english_punctuations = string.punctuation\n",
        "punctuations_list = arabic_punctuations + english_punctuations\n",
        "\n",
        "def remove_punctuations(text):\n",
        "    translator = str.maketrans('', '', punctuations_list)\n",
        "    return text.translate(translator)"
      ],
      "execution_count": 14,
      "outputs": []
    },
    {
      "cell_type": "code",
      "metadata": {
        "id": "2W60k7-KDgs0"
      },
      "source": [
        "def normalize_arabic(text):\n",
        "    text = re.sub(\"[إأآا]\", \"ا\", text)\n",
        "    text = re.sub(\"ى\", \"ي\", text)\n",
        "    text = re.sub(\"ة\", \"ه\", text)\n",
        "    text = re.sub(\"گ\", \"ك\", text)\n",
        "    return text"
      ],
      "execution_count": 15,
      "outputs": []
    },
    {
      "cell_type": "code",
      "metadata": {
        "id": "jn_89BrVDl9v"
      },
      "source": [
        "# remove repeated letters\n",
        "def remove_repeating_char(text):\n",
        "    return re.sub(r'(.)\\1+', r'\\1', text)"
      ],
      "execution_count": 16,
      "outputs": []
    },
    {
      "cell_type": "code",
      "metadata": {
        "id": "3mJadnJIDuhk"
      },
      "source": [
        "#start processing the tweet\n",
        "def processPost(tweet):\n",
        "\n",
        "    #Replace @username with empty string\n",
        "    tweet = re.sub('@[^\\s]+', ' ', tweet)\n",
        "    \n",
        "    #Convert www.* or https?://* to \" \"\n",
        "    tweet = re.sub('((www\\.[^\\s]+)|(https://[^\\s]+))',' ',tweet)\n",
        "    \n",
        "    #Replace #word with word\n",
        "    tweet = re.sub(r'#([^\\s]+)', r'\\1', tweet)\n",
        "\n",
        "    # remove punctuations\n",
        "    tweet= remove_punctuations(tweet)\n",
        "    \n",
        "    # normalize the tweet\n",
        "    tweet= normalize_arabic(tweet)\n",
        "    \n",
        "    # remove repeated letters\n",
        "    tweet=remove_repeating_char(tweet)\n",
        "\n",
        "    #Remove new lines with white space\n",
        "    tweet = tweet.replace('\\n',' ')\n",
        "    tweet = tweet.replace('\\t',' ')\n",
        "        \n",
        "    return tweet\n",
        "        "
      ],
      "execution_count": 17,
      "outputs": []
    },
    {
      "cell_type": "code",
      "metadata": {
        "colab": {
          "base_uri": "https://localhost:8080/",
          "height": 306
        },
        "id": "8tarlkywAls-",
        "outputId": "b36b6fec-1d36-4dd1-d8c0-26b08488c53c"
      },
      "source": [
        "# apply the method in all the text and create another cloumn with the processed text\n",
        "Data[\"clean text\"] = Data['text'].apply(lambda x: processPost(x))\n",
        "Data.head(5)"
      ],
      "execution_count": 18,
      "outputs": [
        {
          "output_type": "execute_result",
          "data": {
            "text/html": [
              "<div>\n",
              "<style scoped>\n",
              "    .dataframe tbody tr th:only-of-type {\n",
              "        vertical-align: middle;\n",
              "    }\n",
              "\n",
              "    .dataframe tbody tr th {\n",
              "        vertical-align: top;\n",
              "    }\n",
              "\n",
              "    .dataframe thead th {\n",
              "        text-align: right;\n",
              "    }\n",
              "</style>\n",
              "<table border=\"1\" class=\"dataframe\">\n",
              "  <thead>\n",
              "    <tr style=\"text-align: right;\">\n",
              "      <th></th>\n",
              "      <th>id</th>\n",
              "      <th>@username</th>\n",
              "      <th>display name</th>\n",
              "      <th>text</th>\n",
              "      <th>date</th>\n",
              "      <th>retweets</th>\n",
              "      <th>likes</th>\n",
              "      <th>clean text</th>\n",
              "    </tr>\n",
              "  </thead>\n",
              "  <tbody>\n",
              "    <tr>\n",
              "      <th>0</th>\n",
              "      <td>1456153547188445185</td>\n",
              "      <td>jiil3r</td>\n",
              "      <td>حجز العمرة #اعتمرنا</td>\n",
              "      <td>اعتمرنا اصدار تصريح 🛑. متوفر حجز تصاريح  العمر...</td>\n",
              "      <td>2021-11-04T06:57:14+00:00</td>\n",
              "      <td>0</td>\n",
              "      <td>0</td>\n",
              "      <td>اعتمرنا اصدار تصريح 🛑 متوفر حجز تصاريح العمره📍...</td>\n",
              "    </tr>\n",
              "    <tr>\n",
              "      <th>2</th>\n",
              "      <td>1456151700822241284</td>\n",
              "      <td>eatmarna14</td>\n",
              "      <td>حجز تصاريح عمره #اعتمرنا</td>\n",
              "      <td>من حجوزاتي الان صلاة الروضة الشريفة ليوم الجمع...</td>\n",
              "      <td>2021-11-04T06:49:54+00:00</td>\n",
              "      <td>0</td>\n",
              "      <td>0</td>\n",
              "      <td>من حجوزاتي الان صلاه الروضه الشريفه ليوم الجمع...</td>\n",
              "    </tr>\n",
              "    <tr>\n",
              "      <th>3</th>\n",
              "      <td>1456149271984680960</td>\n",
              "      <td>jiil3r</td>\n",
              "      <td>حجز العمرة #اعتمرنا</td>\n",
              "      <td>اصدار تصريح 🟢. نستخرج لكم تصاريح من تطبيق اعتم...</td>\n",
              "      <td>2021-11-04T06:40:15+00:00</td>\n",
              "      <td>0</td>\n",
              "      <td>0</td>\n",
              "      <td>اصدار تصريح 🟢 نستخرج لكم تصاريح من تطبيق اعتمر...</td>\n",
              "    </tr>\n",
              "    <tr>\n",
              "      <th>4</th>\n",
              "      <td>1456147951710052354</td>\n",
              "      <td>9__Rema</td>\n",
              "      <td>ريما</td>\n",
              "      <td>الاتحاد الفتح اللي يبي حجز عمره أو صلاه أو زيا...</td>\n",
              "      <td>2021-11-04T06:35:00+00:00</td>\n",
              "      <td>0</td>\n",
              "      <td>0</td>\n",
              "      <td>الاتحاد الفتح الي يبي حجز عمره او صلاه او زيار...</td>\n",
              "    </tr>\n",
              "    <tr>\n",
              "      <th>5</th>\n",
              "      <td>1456147896798167044</td>\n",
              "      <td>9__Rema</td>\n",
              "      <td>ريما</td>\n",
              "      <td>كفر قوي اللي يبي حجز عمره أو صلاه أو زياره الي...</td>\n",
              "      <td>2021-11-04T06:34:47+00:00</td>\n",
              "      <td>0</td>\n",
              "      <td>0</td>\n",
              "      <td>كفر قوي الي يبي حجز عمره او صلاه او زياره اليو...</td>\n",
              "    </tr>\n",
              "  </tbody>\n",
              "</table>\n",
              "</div>"
            ],
            "text/plain": [
              "                    id  ...                                         clean text\n",
              "0  1456153547188445185  ...  اعتمرنا اصدار تصريح 🛑 متوفر حجز تصاريح العمره📍...\n",
              "2  1456151700822241284  ...  من حجوزاتي الان صلاه الروضه الشريفه ليوم الجمع...\n",
              "3  1456149271984680960  ...  اصدار تصريح 🟢 نستخرج لكم تصاريح من تطبيق اعتمر...\n",
              "4  1456147951710052354  ...  الاتحاد الفتح الي يبي حجز عمره او صلاه او زيار...\n",
              "5  1456147896798167044  ...  كفر قوي الي يبي حجز عمره او صلاه او زياره اليو...\n",
              "\n",
              "[5 rows x 8 columns]"
            ]
          },
          "metadata": {},
          "execution_count": 18
        }
      ]
    },
    {
      "cell_type": "code",
      "metadata": {
        "colab": {
          "base_uri": "https://localhost:8080/"
        },
        "id": "oViEE5wQAlvs",
        "outputId": "e777d8e5-2435-48cf-f9f1-c898ebbaaf2c"
      },
      "source": [
        "#Remove Arabic stop words from the tweets\n",
        "#importing nltk library\n",
        "import nltk\n",
        "nltk.download('stopwords')\n",
        "from nltk.corpus import stopwords\n",
        "ar_stops = set(stopwords.words('arabic'))"
      ],
      "execution_count": 19,
      "outputs": [
        {
          "output_type": "stream",
          "name": "stdout",
          "text": [
            "[nltk_data] Downloading package stopwords to /root/nltk_data...\n",
            "[nltk_data]   Package stopwords is already up-to-date!\n"
          ]
        }
      ]
    },
    {
      "cell_type": "code",
      "metadata": {
        "id": "AP58I-ZBAly-"
      },
      "source": [
        "# remove Arabic stop words from the tweets\n",
        "for word in Data['text']:\n",
        "    if word in ar_stops:        \n",
        "        words_filtered.remove(word)"
      ],
      "execution_count": 20,
      "outputs": []
    },
    {
      "cell_type": "code",
      "metadata": {
        "colab": {
          "base_uri": "https://localhost:8080/"
        },
        "id": "YdOSVV2XAl2V",
        "outputId": "3a0046ea-993c-4391-ab18-4d8b8483648c"
      },
      "source": [
        "# Tokenizing the column 'text'\n",
        "Data.dropna(subset = [\"clean text\"], inplace=True)\n",
        "tokenizer = RegexpTokenizer(r'\\w+')\n",
        "Data[\"tokens\"] = Data[\"clean text\"].apply(tokenizer.tokenize)\n",
        "all_words = [word for tokens in Data[\"tokens\"] for word in tokens]\n",
        "sentence_lengths = [len(tokens) for tokens in Data [\"tokens\"]]\n",
        "VOCAB = sorted(list(set(all_words)))\n",
        "print(\"%s words total, with a vocabulary size of %s\" % (len(all_words), len(VOCAB)))\n",
        "print(\"Max sentence length is %s\" % max(sentence_lengths))\n",
        "\n",
        "                                          "
      ],
      "execution_count": 21,
      "outputs": [
        {
          "output_type": "stream",
          "name": "stdout",
          "text": [
            "508017 words total, with a vocabulary size of 22573\n",
            "Max sentence length is 95\n"
          ]
        }
      ]
    },
    {
      "cell_type": "code",
      "metadata": {
        "colab": {
          "base_uri": "https://localhost:8080/",
          "height": 391
        },
        "id": "MMhGSKBGBxw6",
        "outputId": "40ec9aca-1f09-485b-8cd0-97198f57eca6"
      },
      "source": [
        "Data.head(5)"
      ],
      "execution_count": 22,
      "outputs": [
        {
          "output_type": "execute_result",
          "data": {
            "text/html": [
              "<div>\n",
              "<style scoped>\n",
              "    .dataframe tbody tr th:only-of-type {\n",
              "        vertical-align: middle;\n",
              "    }\n",
              "\n",
              "    .dataframe tbody tr th {\n",
              "        vertical-align: top;\n",
              "    }\n",
              "\n",
              "    .dataframe thead th {\n",
              "        text-align: right;\n",
              "    }\n",
              "</style>\n",
              "<table border=\"1\" class=\"dataframe\">\n",
              "  <thead>\n",
              "    <tr style=\"text-align: right;\">\n",
              "      <th></th>\n",
              "      <th>id</th>\n",
              "      <th>@username</th>\n",
              "      <th>display name</th>\n",
              "      <th>text</th>\n",
              "      <th>date</th>\n",
              "      <th>retweets</th>\n",
              "      <th>likes</th>\n",
              "      <th>clean text</th>\n",
              "      <th>tokens</th>\n",
              "    </tr>\n",
              "  </thead>\n",
              "  <tbody>\n",
              "    <tr>\n",
              "      <th>0</th>\n",
              "      <td>1456153547188445185</td>\n",
              "      <td>jiil3r</td>\n",
              "      <td>حجز العمرة #اعتمرنا</td>\n",
              "      <td>اعتمرنا اصدار تصريح 🛑. متوفر حجز تصاريح  العمر...</td>\n",
              "      <td>2021-11-04T06:57:14+00:00</td>\n",
              "      <td>0</td>\n",
              "      <td>0</td>\n",
              "      <td>اعتمرنا اصدار تصريح 🛑 متوفر حجز تصاريح العمره📍...</td>\n",
              "      <td>[اعتمرنا, اصدار, تصريح, متوفر, حجز, تصاريح, ال...</td>\n",
              "    </tr>\n",
              "    <tr>\n",
              "      <th>2</th>\n",
              "      <td>1456151700822241284</td>\n",
              "      <td>eatmarna14</td>\n",
              "      <td>حجز تصاريح عمره #اعتمرنا</td>\n",
              "      <td>من حجوزاتي الان صلاة الروضة الشريفة ليوم الجمع...</td>\n",
              "      <td>2021-11-04T06:49:54+00:00</td>\n",
              "      <td>0</td>\n",
              "      <td>0</td>\n",
              "      <td>من حجوزاتي الان صلاه الروضه الشريفه ليوم الجمع...</td>\n",
              "      <td>[من, حجوزاتي, الان, صلاه, الروضه, الشريفه, ليو...</td>\n",
              "    </tr>\n",
              "    <tr>\n",
              "      <th>3</th>\n",
              "      <td>1456149271984680960</td>\n",
              "      <td>jiil3r</td>\n",
              "      <td>حجز العمرة #اعتمرنا</td>\n",
              "      <td>اصدار تصريح 🟢. نستخرج لكم تصاريح من تطبيق اعتم...</td>\n",
              "      <td>2021-11-04T06:40:15+00:00</td>\n",
              "      <td>0</td>\n",
              "      <td>0</td>\n",
              "      <td>اصدار تصريح 🟢 نستخرج لكم تصاريح من تطبيق اعتمر...</td>\n",
              "      <td>[اصدار, تصريح, نستخرج, لكم, تصاريح, من, تطبيق,...</td>\n",
              "    </tr>\n",
              "    <tr>\n",
              "      <th>4</th>\n",
              "      <td>1456147951710052354</td>\n",
              "      <td>9__Rema</td>\n",
              "      <td>ريما</td>\n",
              "      <td>الاتحاد الفتح اللي يبي حجز عمره أو صلاه أو زيا...</td>\n",
              "      <td>2021-11-04T06:35:00+00:00</td>\n",
              "      <td>0</td>\n",
              "      <td>0</td>\n",
              "      <td>الاتحاد الفتح الي يبي حجز عمره او صلاه او زيار...</td>\n",
              "      <td>[الاتحاد, الفتح, الي, يبي, حجز, عمره, او, صلاه...</td>\n",
              "    </tr>\n",
              "    <tr>\n",
              "      <th>5</th>\n",
              "      <td>1456147896798167044</td>\n",
              "      <td>9__Rema</td>\n",
              "      <td>ريما</td>\n",
              "      <td>كفر قوي اللي يبي حجز عمره أو صلاه أو زياره الي...</td>\n",
              "      <td>2021-11-04T06:34:47+00:00</td>\n",
              "      <td>0</td>\n",
              "      <td>0</td>\n",
              "      <td>كفر قوي الي يبي حجز عمره او صلاه او زياره اليو...</td>\n",
              "      <td>[كفر, قوي, الي, يبي, حجز, عمره, او, صلاه, او, ...</td>\n",
              "    </tr>\n",
              "  </tbody>\n",
              "</table>\n",
              "</div>"
            ],
            "text/plain": [
              "                    id  ...                                             tokens\n",
              "0  1456153547188445185  ...  [اعتمرنا, اصدار, تصريح, متوفر, حجز, تصاريح, ال...\n",
              "2  1456151700822241284  ...  [من, حجوزاتي, الان, صلاه, الروضه, الشريفه, ليو...\n",
              "3  1456149271984680960  ...  [اصدار, تصريح, نستخرج, لكم, تصاريح, من, تطبيق,...\n",
              "4  1456147951710052354  ...  [الاتحاد, الفتح, الي, يبي, حجز, عمره, او, صلاه...\n",
              "5  1456147896798167044  ...  [كفر, قوي, الي, يبي, حجز, عمره, او, صلاه, او, ...\n",
              "\n",
              "[5 rows x 9 columns]"
            ]
          },
          "metadata": {},
          "execution_count": 22
        }
      ]
    },
    {
      "cell_type": "code",
      "metadata": {
        "colab": {
          "base_uri": "https://localhost:8080/"
        },
        "id": "KInWa9BtBx0C",
        "outputId": "dc760b60-0dd4-41df-d4f3-12fcb03b84a1"
      },
      "source": [
        "print(Data.shape)"
      ],
      "execution_count": 23,
      "outputs": [
        {
          "output_type": "stream",
          "name": "stdout",
          "text": [
            "(24632, 9)\n"
          ]
        }
      ]
    },
    {
      "cell_type": "code",
      "metadata": {
        "colab": {
          "base_uri": "https://localhost:8080/"
        },
        "id": "o6bHtAwUBx3S",
        "outputId": "5cbc8856-e2c4-4b8f-dadb-c4b8b0b4183b"
      },
      "source": [
        "Data.columns"
      ],
      "execution_count": 24,
      "outputs": [
        {
          "output_type": "execute_result",
          "data": {
            "text/plain": [
              "Index(['id', '@username', 'display name', 'text', 'date', 'retweets', 'likes',\n",
              "       'clean text', 'tokens'],\n",
              "      dtype='object')"
            ]
          },
          "metadata": {},
          "execution_count": 24
        }
      ]
    },
    {
      "cell_type": "code",
      "metadata": {
        "colab": {
          "base_uri": "https://localhost:8080/"
        },
        "id": "u--y4xPuBx6_",
        "outputId": "535073bc-e653-40d0-b847-05616dceb4a9"
      },
      "source": [
        "import nltk\n",
        "nltk.download('vader_lexicon')\n",
        "from nltk.sentiment.vader import SentimentIntensityAnalyzer\n",
        "\n",
        "analyser = SentimentIntensityAnalyzer()"
      ],
      "execution_count": 25,
      "outputs": [
        {
          "output_type": "stream",
          "name": "stdout",
          "text": [
            "[nltk_data] Downloading package vader_lexicon to /root/nltk_data...\n",
            "[nltk_data]   Package vader_lexicon is already up-to-date!\n"
          ]
        },
        {
          "output_type": "stream",
          "name": "stderr",
          "text": [
            "/usr/local/lib/python3.7/dist-packages/nltk/twitter/__init__.py:20: UserWarning: The twython library has not been installed. Some functionality from the twitter package will not be available.\n",
            "  warnings.warn(\"The twython library has not been installed. \"\n"
          ]
        }
      ]
    },
    {
      "cell_type": "code",
      "metadata": {
        "id": "w5-gh8wMBx-_"
      },
      "source": [
        "# Using polarity scores for knowing the polarity of each text\n",
        "def sentiment_analyzer_score(sentence):\n",
        "    score = analyser.polarity_scores(sentence)\n",
        "    print(\"{:-<40} {}\".format(sentence, str(score)))"
      ],
      "execution_count": 26,
      "outputs": []
    },
    {
      "cell_type": "code",
      "metadata": {
        "colab": {
          "base_uri": "https://localhost:8080/",
          "height": 476
        },
        "id": "THh_9dxoByDN",
        "outputId": "d618bce3-2229-4dd9-cd5b-dc5c56a9c98a"
      },
      "source": [
        "Data['scores'] = Data['clean text'].apply(lambda review: analyser.polarity_scores(review))\n",
        "Data.head(5)"
      ],
      "execution_count": 27,
      "outputs": [
        {
          "output_type": "execute_result",
          "data": {
            "text/html": [
              "<div>\n",
              "<style scoped>\n",
              "    .dataframe tbody tr th:only-of-type {\n",
              "        vertical-align: middle;\n",
              "    }\n",
              "\n",
              "    .dataframe tbody tr th {\n",
              "        vertical-align: top;\n",
              "    }\n",
              "\n",
              "    .dataframe thead th {\n",
              "        text-align: right;\n",
              "    }\n",
              "</style>\n",
              "<table border=\"1\" class=\"dataframe\">\n",
              "  <thead>\n",
              "    <tr style=\"text-align: right;\">\n",
              "      <th></th>\n",
              "      <th>id</th>\n",
              "      <th>@username</th>\n",
              "      <th>display name</th>\n",
              "      <th>text</th>\n",
              "      <th>date</th>\n",
              "      <th>retweets</th>\n",
              "      <th>likes</th>\n",
              "      <th>clean text</th>\n",
              "      <th>tokens</th>\n",
              "      <th>scores</th>\n",
              "    </tr>\n",
              "  </thead>\n",
              "  <tbody>\n",
              "    <tr>\n",
              "      <th>0</th>\n",
              "      <td>1456153547188445185</td>\n",
              "      <td>jiil3r</td>\n",
              "      <td>حجز العمرة #اعتمرنا</td>\n",
              "      <td>اعتمرنا اصدار تصريح 🛑. متوفر حجز تصاريح  العمر...</td>\n",
              "      <td>2021-11-04T06:57:14+00:00</td>\n",
              "      <td>0</td>\n",
              "      <td>0</td>\n",
              "      <td>اعتمرنا اصدار تصريح 🛑 متوفر حجز تصاريح العمره📍...</td>\n",
              "      <td>[اعتمرنا, اصدار, تصريح, متوفر, حجز, تصاريح, ال...</td>\n",
              "      <td>{'neg': 0.0, 'neu': 1.0, 'pos': 0.0, 'compound...</td>\n",
              "    </tr>\n",
              "    <tr>\n",
              "      <th>2</th>\n",
              "      <td>1456151700822241284</td>\n",
              "      <td>eatmarna14</td>\n",
              "      <td>حجز تصاريح عمره #اعتمرنا</td>\n",
              "      <td>من حجوزاتي الان صلاة الروضة الشريفة ليوم الجمع...</td>\n",
              "      <td>2021-11-04T06:49:54+00:00</td>\n",
              "      <td>0</td>\n",
              "      <td>0</td>\n",
              "      <td>من حجوزاتي الان صلاه الروضه الشريفه ليوم الجمع...</td>\n",
              "      <td>[من, حجوزاتي, الان, صلاه, الروضه, الشريفه, ليو...</td>\n",
              "      <td>{'neg': 0.0, 'neu': 1.0, 'pos': 0.0, 'compound...</td>\n",
              "    </tr>\n",
              "    <tr>\n",
              "      <th>3</th>\n",
              "      <td>1456149271984680960</td>\n",
              "      <td>jiil3r</td>\n",
              "      <td>حجز العمرة #اعتمرنا</td>\n",
              "      <td>اصدار تصريح 🟢. نستخرج لكم تصاريح من تطبيق اعتم...</td>\n",
              "      <td>2021-11-04T06:40:15+00:00</td>\n",
              "      <td>0</td>\n",
              "      <td>0</td>\n",
              "      <td>اصدار تصريح 🟢 نستخرج لكم تصاريح من تطبيق اعتمر...</td>\n",
              "      <td>[اصدار, تصريح, نستخرج, لكم, تصاريح, من, تطبيق,...</td>\n",
              "      <td>{'neg': 0.0, 'neu': 1.0, 'pos': 0.0, 'compound...</td>\n",
              "    </tr>\n",
              "    <tr>\n",
              "      <th>4</th>\n",
              "      <td>1456147951710052354</td>\n",
              "      <td>9__Rema</td>\n",
              "      <td>ريما</td>\n",
              "      <td>الاتحاد الفتح اللي يبي حجز عمره أو صلاه أو زيا...</td>\n",
              "      <td>2021-11-04T06:35:00+00:00</td>\n",
              "      <td>0</td>\n",
              "      <td>0</td>\n",
              "      <td>الاتحاد الفتح الي يبي حجز عمره او صلاه او زيار...</td>\n",
              "      <td>[الاتحاد, الفتح, الي, يبي, حجز, عمره, او, صلاه...</td>\n",
              "      <td>{'neg': 0.0, 'neu': 1.0, 'pos': 0.0, 'compound...</td>\n",
              "    </tr>\n",
              "    <tr>\n",
              "      <th>5</th>\n",
              "      <td>1456147896798167044</td>\n",
              "      <td>9__Rema</td>\n",
              "      <td>ريما</td>\n",
              "      <td>كفر قوي اللي يبي حجز عمره أو صلاه أو زياره الي...</td>\n",
              "      <td>2021-11-04T06:34:47+00:00</td>\n",
              "      <td>0</td>\n",
              "      <td>0</td>\n",
              "      <td>كفر قوي الي يبي حجز عمره او صلاه او زياره اليو...</td>\n",
              "      <td>[كفر, قوي, الي, يبي, حجز, عمره, او, صلاه, او, ...</td>\n",
              "      <td>{'neg': 0.0, 'neu': 1.0, 'pos': 0.0, 'compound...</td>\n",
              "    </tr>\n",
              "  </tbody>\n",
              "</table>\n",
              "</div>"
            ],
            "text/plain": [
              "                    id  ...                                             scores\n",
              "0  1456153547188445185  ...  {'neg': 0.0, 'neu': 1.0, 'pos': 0.0, 'compound...\n",
              "2  1456151700822241284  ...  {'neg': 0.0, 'neu': 1.0, 'pos': 0.0, 'compound...\n",
              "3  1456149271984680960  ...  {'neg': 0.0, 'neu': 1.0, 'pos': 0.0, 'compound...\n",
              "4  1456147951710052354  ...  {'neg': 0.0, 'neu': 1.0, 'pos': 0.0, 'compound...\n",
              "5  1456147896798167044  ...  {'neg': 0.0, 'neu': 1.0, 'pos': 0.0, 'compound...\n",
              "\n",
              "[5 rows x 10 columns]"
            ]
          },
          "metadata": {},
          "execution_count": 27
        }
      ]
    },
    {
      "cell_type": "code",
      "metadata": {
        "colab": {
          "base_uri": "https://localhost:8080/",
          "height": 561
        },
        "id": "Os6MKv5KByHi",
        "outputId": "8474effb-4d1a-493f-a438-86e79f6e153c"
      },
      "source": [
        "Data['compound']  = Data['scores'].apply(lambda score_dict: score_dict['compound'])\n",
        "Data.head(5)"
      ],
      "execution_count": 28,
      "outputs": [
        {
          "output_type": "execute_result",
          "data": {
            "text/html": [
              "<div>\n",
              "<style scoped>\n",
              "    .dataframe tbody tr th:only-of-type {\n",
              "        vertical-align: middle;\n",
              "    }\n",
              "\n",
              "    .dataframe tbody tr th {\n",
              "        vertical-align: top;\n",
              "    }\n",
              "\n",
              "    .dataframe thead th {\n",
              "        text-align: right;\n",
              "    }\n",
              "</style>\n",
              "<table border=\"1\" class=\"dataframe\">\n",
              "  <thead>\n",
              "    <tr style=\"text-align: right;\">\n",
              "      <th></th>\n",
              "      <th>id</th>\n",
              "      <th>@username</th>\n",
              "      <th>display name</th>\n",
              "      <th>text</th>\n",
              "      <th>date</th>\n",
              "      <th>retweets</th>\n",
              "      <th>likes</th>\n",
              "      <th>clean text</th>\n",
              "      <th>tokens</th>\n",
              "      <th>scores</th>\n",
              "      <th>compound</th>\n",
              "    </tr>\n",
              "  </thead>\n",
              "  <tbody>\n",
              "    <tr>\n",
              "      <th>0</th>\n",
              "      <td>1456153547188445185</td>\n",
              "      <td>jiil3r</td>\n",
              "      <td>حجز العمرة #اعتمرنا</td>\n",
              "      <td>اعتمرنا اصدار تصريح 🛑. متوفر حجز تصاريح  العمر...</td>\n",
              "      <td>2021-11-04T06:57:14+00:00</td>\n",
              "      <td>0</td>\n",
              "      <td>0</td>\n",
              "      <td>اعتمرنا اصدار تصريح 🛑 متوفر حجز تصاريح العمره📍...</td>\n",
              "      <td>[اعتمرنا, اصدار, تصريح, متوفر, حجز, تصاريح, ال...</td>\n",
              "      <td>{'neg': 0.0, 'neu': 1.0, 'pos': 0.0, 'compound...</td>\n",
              "      <td>0.0</td>\n",
              "    </tr>\n",
              "    <tr>\n",
              "      <th>2</th>\n",
              "      <td>1456151700822241284</td>\n",
              "      <td>eatmarna14</td>\n",
              "      <td>حجز تصاريح عمره #اعتمرنا</td>\n",
              "      <td>من حجوزاتي الان صلاة الروضة الشريفة ليوم الجمع...</td>\n",
              "      <td>2021-11-04T06:49:54+00:00</td>\n",
              "      <td>0</td>\n",
              "      <td>0</td>\n",
              "      <td>من حجوزاتي الان صلاه الروضه الشريفه ليوم الجمع...</td>\n",
              "      <td>[من, حجوزاتي, الان, صلاه, الروضه, الشريفه, ليو...</td>\n",
              "      <td>{'neg': 0.0, 'neu': 1.0, 'pos': 0.0, 'compound...</td>\n",
              "      <td>0.0</td>\n",
              "    </tr>\n",
              "    <tr>\n",
              "      <th>3</th>\n",
              "      <td>1456149271984680960</td>\n",
              "      <td>jiil3r</td>\n",
              "      <td>حجز العمرة #اعتمرنا</td>\n",
              "      <td>اصدار تصريح 🟢. نستخرج لكم تصاريح من تطبيق اعتم...</td>\n",
              "      <td>2021-11-04T06:40:15+00:00</td>\n",
              "      <td>0</td>\n",
              "      <td>0</td>\n",
              "      <td>اصدار تصريح 🟢 نستخرج لكم تصاريح من تطبيق اعتمر...</td>\n",
              "      <td>[اصدار, تصريح, نستخرج, لكم, تصاريح, من, تطبيق,...</td>\n",
              "      <td>{'neg': 0.0, 'neu': 1.0, 'pos': 0.0, 'compound...</td>\n",
              "      <td>0.0</td>\n",
              "    </tr>\n",
              "    <tr>\n",
              "      <th>4</th>\n",
              "      <td>1456147951710052354</td>\n",
              "      <td>9__Rema</td>\n",
              "      <td>ريما</td>\n",
              "      <td>الاتحاد الفتح اللي يبي حجز عمره أو صلاه أو زيا...</td>\n",
              "      <td>2021-11-04T06:35:00+00:00</td>\n",
              "      <td>0</td>\n",
              "      <td>0</td>\n",
              "      <td>الاتحاد الفتح الي يبي حجز عمره او صلاه او زيار...</td>\n",
              "      <td>[الاتحاد, الفتح, الي, يبي, حجز, عمره, او, صلاه...</td>\n",
              "      <td>{'neg': 0.0, 'neu': 1.0, 'pos': 0.0, 'compound...</td>\n",
              "      <td>0.0</td>\n",
              "    </tr>\n",
              "    <tr>\n",
              "      <th>5</th>\n",
              "      <td>1456147896798167044</td>\n",
              "      <td>9__Rema</td>\n",
              "      <td>ريما</td>\n",
              "      <td>كفر قوي اللي يبي حجز عمره أو صلاه أو زياره الي...</td>\n",
              "      <td>2021-11-04T06:34:47+00:00</td>\n",
              "      <td>0</td>\n",
              "      <td>0</td>\n",
              "      <td>كفر قوي الي يبي حجز عمره او صلاه او زياره اليو...</td>\n",
              "      <td>[كفر, قوي, الي, يبي, حجز, عمره, او, صلاه, او, ...</td>\n",
              "      <td>{'neg': 0.0, 'neu': 1.0, 'pos': 0.0, 'compound...</td>\n",
              "      <td>0.0</td>\n",
              "    </tr>\n",
              "  </tbody>\n",
              "</table>\n",
              "</div>"
            ],
            "text/plain": [
              "                    id  ... compound\n",
              "0  1456153547188445185  ...      0.0\n",
              "2  1456151700822241284  ...      0.0\n",
              "3  1456149271984680960  ...      0.0\n",
              "4  1456147951710052354  ...      0.0\n",
              "5  1456147896798167044  ...      0.0\n",
              "\n",
              "[5 rows x 11 columns]"
            ]
          },
          "metadata": {},
          "execution_count": 28
        }
      ]
    },
    {
      "cell_type": "code",
      "metadata": {
        "colab": {
          "base_uri": "https://localhost:8080/",
          "height": 782
        },
        "id": "Nl5sZrgzByMY",
        "outputId": "a7e2ec03-31e7-4cb2-b785-6c06f2401b57"
      },
      "source": [
        "def Sentimnt(x):\n",
        "    if x>= 0.05:\n",
        "        return \"Positive\"\n",
        "    elif x<= -0.05:\n",
        "        return \"Negative\"\n",
        "    else:\n",
        "        return \"Neutral\"\n",
        "Data['Sentiment'] = Data['compound'].apply(Sentimnt)\n",
        "Data.head(5)"
      ],
      "execution_count": 29,
      "outputs": [
        {
          "output_type": "execute_result",
          "data": {
            "text/html": [
              "<div>\n",
              "<style scoped>\n",
              "    .dataframe tbody tr th:only-of-type {\n",
              "        vertical-align: middle;\n",
              "    }\n",
              "\n",
              "    .dataframe tbody tr th {\n",
              "        vertical-align: top;\n",
              "    }\n",
              "\n",
              "    .dataframe thead th {\n",
              "        text-align: right;\n",
              "    }\n",
              "</style>\n",
              "<table border=\"1\" class=\"dataframe\">\n",
              "  <thead>\n",
              "    <tr style=\"text-align: right;\">\n",
              "      <th></th>\n",
              "      <th>id</th>\n",
              "      <th>@username</th>\n",
              "      <th>display name</th>\n",
              "      <th>text</th>\n",
              "      <th>date</th>\n",
              "      <th>retweets</th>\n",
              "      <th>likes</th>\n",
              "      <th>clean text</th>\n",
              "      <th>tokens</th>\n",
              "      <th>scores</th>\n",
              "      <th>compound</th>\n",
              "      <th>Sentiment</th>\n",
              "    </tr>\n",
              "  </thead>\n",
              "  <tbody>\n",
              "    <tr>\n",
              "      <th>0</th>\n",
              "      <td>1456153547188445185</td>\n",
              "      <td>jiil3r</td>\n",
              "      <td>حجز العمرة #اعتمرنا</td>\n",
              "      <td>اعتمرنا اصدار تصريح 🛑. متوفر حجز تصاريح  العمر...</td>\n",
              "      <td>2021-11-04T06:57:14+00:00</td>\n",
              "      <td>0</td>\n",
              "      <td>0</td>\n",
              "      <td>اعتمرنا اصدار تصريح 🛑 متوفر حجز تصاريح العمره📍...</td>\n",
              "      <td>[اعتمرنا, اصدار, تصريح, متوفر, حجز, تصاريح, ال...</td>\n",
              "      <td>{'neg': 0.0, 'neu': 1.0, 'pos': 0.0, 'compound...</td>\n",
              "      <td>0.0</td>\n",
              "      <td>Neutral</td>\n",
              "    </tr>\n",
              "    <tr>\n",
              "      <th>2</th>\n",
              "      <td>1456151700822241284</td>\n",
              "      <td>eatmarna14</td>\n",
              "      <td>حجز تصاريح عمره #اعتمرنا</td>\n",
              "      <td>من حجوزاتي الان صلاة الروضة الشريفة ليوم الجمع...</td>\n",
              "      <td>2021-11-04T06:49:54+00:00</td>\n",
              "      <td>0</td>\n",
              "      <td>0</td>\n",
              "      <td>من حجوزاتي الان صلاه الروضه الشريفه ليوم الجمع...</td>\n",
              "      <td>[من, حجوزاتي, الان, صلاه, الروضه, الشريفه, ليو...</td>\n",
              "      <td>{'neg': 0.0, 'neu': 1.0, 'pos': 0.0, 'compound...</td>\n",
              "      <td>0.0</td>\n",
              "      <td>Neutral</td>\n",
              "    </tr>\n",
              "    <tr>\n",
              "      <th>3</th>\n",
              "      <td>1456149271984680960</td>\n",
              "      <td>jiil3r</td>\n",
              "      <td>حجز العمرة #اعتمرنا</td>\n",
              "      <td>اصدار تصريح 🟢. نستخرج لكم تصاريح من تطبيق اعتم...</td>\n",
              "      <td>2021-11-04T06:40:15+00:00</td>\n",
              "      <td>0</td>\n",
              "      <td>0</td>\n",
              "      <td>اصدار تصريح 🟢 نستخرج لكم تصاريح من تطبيق اعتمر...</td>\n",
              "      <td>[اصدار, تصريح, نستخرج, لكم, تصاريح, من, تطبيق,...</td>\n",
              "      <td>{'neg': 0.0, 'neu': 1.0, 'pos': 0.0, 'compound...</td>\n",
              "      <td>0.0</td>\n",
              "      <td>Neutral</td>\n",
              "    </tr>\n",
              "    <tr>\n",
              "      <th>4</th>\n",
              "      <td>1456147951710052354</td>\n",
              "      <td>9__Rema</td>\n",
              "      <td>ريما</td>\n",
              "      <td>الاتحاد الفتح اللي يبي حجز عمره أو صلاه أو زيا...</td>\n",
              "      <td>2021-11-04T06:35:00+00:00</td>\n",
              "      <td>0</td>\n",
              "      <td>0</td>\n",
              "      <td>الاتحاد الفتح الي يبي حجز عمره او صلاه او زيار...</td>\n",
              "      <td>[الاتحاد, الفتح, الي, يبي, حجز, عمره, او, صلاه...</td>\n",
              "      <td>{'neg': 0.0, 'neu': 1.0, 'pos': 0.0, 'compound...</td>\n",
              "      <td>0.0</td>\n",
              "      <td>Neutral</td>\n",
              "    </tr>\n",
              "    <tr>\n",
              "      <th>5</th>\n",
              "      <td>1456147896798167044</td>\n",
              "      <td>9__Rema</td>\n",
              "      <td>ريما</td>\n",
              "      <td>كفر قوي اللي يبي حجز عمره أو صلاه أو زياره الي...</td>\n",
              "      <td>2021-11-04T06:34:47+00:00</td>\n",
              "      <td>0</td>\n",
              "      <td>0</td>\n",
              "      <td>كفر قوي الي يبي حجز عمره او صلاه او زياره اليو...</td>\n",
              "      <td>[كفر, قوي, الي, يبي, حجز, عمره, او, صلاه, او, ...</td>\n",
              "      <td>{'neg': 0.0, 'neu': 1.0, 'pos': 0.0, 'compound...</td>\n",
              "      <td>0.0</td>\n",
              "      <td>Neutral</td>\n",
              "    </tr>\n",
              "  </tbody>\n",
              "</table>\n",
              "</div>"
            ],
            "text/plain": [
              "                    id   @username  ... compound Sentiment\n",
              "0  1456153547188445185      jiil3r  ...      0.0   Neutral\n",
              "2  1456151700822241284  eatmarna14  ...      0.0   Neutral\n",
              "3  1456149271984680960      jiil3r  ...      0.0   Neutral\n",
              "4  1456147951710052354     9__Rema  ...      0.0   Neutral\n",
              "5  1456147896798167044     9__Rema  ...      0.0   Neutral\n",
              "\n",
              "[5 rows x 12 columns]"
            ]
          },
          "metadata": {},
          "execution_count": 29
        }
      ]
    },
    {
      "cell_type": "code",
      "metadata": {
        "colab": {
          "base_uri": "https://localhost:8080/",
          "height": 142
        },
        "id": "mRH9YbE2FqZ-",
        "outputId": "7c73312f-6960-46bf-cc19-cff124e51d20"
      },
      "source": [
        "import seaborn as sns\n",
        "%matplotlib inline\n",
        "var1 = Data.groupby('Sentiment').count()['text'].reset_index().sort_values(by='text',ascending=False)\n",
        "sns.set_style(\"white\")\n",
        "sns.set_palette(\"Set2\")\n",
        "var1.style.background_gradient()"
      ],
      "execution_count": 30,
      "outputs": [
        {
          "output_type": "execute_result",
          "data": {
            "text/html": [
              "<style  type=\"text/css\" >\n",
              "#T_4efd2ca6_471f_11ec_bd49_0242ac1c0002row0_col1{\n",
              "            background-color:  #023858;\n",
              "            color:  #f1f1f1;\n",
              "        }#T_4efd2ca6_471f_11ec_bd49_0242ac1c0002row1_col1{\n",
              "            background-color:  #fef6fb;\n",
              "            color:  #000000;\n",
              "        }#T_4efd2ca6_471f_11ec_bd49_0242ac1c0002row2_col1{\n",
              "            background-color:  #fff7fb;\n",
              "            color:  #000000;\n",
              "        }</style><table id=\"T_4efd2ca6_471f_11ec_bd49_0242ac1c0002\" class=\"dataframe\"><thead>    <tr>        <th class=\"blank level0\" ></th>        <th class=\"col_heading level0 col0\" >Sentiment</th>        <th class=\"col_heading level0 col1\" >text</th>    </tr></thead><tbody>\n",
              "                <tr>\n",
              "                        <th id=\"T_4efd2ca6_471f_11ec_bd49_0242ac1c0002level0_row0\" class=\"row_heading level0 row0\" >1</th>\n",
              "                        <td id=\"T_4efd2ca6_471f_11ec_bd49_0242ac1c0002row0_col0\" class=\"data row0 col0\" >Neutral</td>\n",
              "                        <td id=\"T_4efd2ca6_471f_11ec_bd49_0242ac1c0002row0_col1\" class=\"data row0 col1\" >24358</td>\n",
              "            </tr>\n",
              "            <tr>\n",
              "                        <th id=\"T_4efd2ca6_471f_11ec_bd49_0242ac1c0002level0_row1\" class=\"row_heading level0 row1\" >2</th>\n",
              "                        <td id=\"T_4efd2ca6_471f_11ec_bd49_0242ac1c0002row1_col0\" class=\"data row1 col0\" >Positive</td>\n",
              "                        <td id=\"T_4efd2ca6_471f_11ec_bd49_0242ac1c0002row1_col1\" class=\"data row1 col1\" >219</td>\n",
              "            </tr>\n",
              "            <tr>\n",
              "                        <th id=\"T_4efd2ca6_471f_11ec_bd49_0242ac1c0002level0_row2\" class=\"row_heading level0 row2\" >0</th>\n",
              "                        <td id=\"T_4efd2ca6_471f_11ec_bd49_0242ac1c0002row2_col0\" class=\"data row2 col0\" >Negative</td>\n",
              "                        <td id=\"T_4efd2ca6_471f_11ec_bd49_0242ac1c0002row2_col1\" class=\"data row2 col1\" >55</td>\n",
              "            </tr>\n",
              "    </tbody></table>"
            ],
            "text/plain": [
              "<pandas.io.formats.style.Styler at 0x7f1d779f1ad0>"
            ]
          },
          "metadata": {},
          "execution_count": 30
        }
      ]
    },
    {
      "cell_type": "code",
      "metadata": {
        "colab": {
          "base_uri": "https://localhost:8080/",
          "height": 297
        },
        "id": "ZKrzG9pMFqdq",
        "outputId": "48f5bf6d-aadf-4e6d-8b0b-4eae81300722"
      },
      "source": [
        "Data.describe()"
      ],
      "execution_count": 31,
      "outputs": [
        {
          "output_type": "execute_result",
          "data": {
            "text/html": [
              "<div>\n",
              "<style scoped>\n",
              "    .dataframe tbody tr th:only-of-type {\n",
              "        vertical-align: middle;\n",
              "    }\n",
              "\n",
              "    .dataframe tbody tr th {\n",
              "        vertical-align: top;\n",
              "    }\n",
              "\n",
              "    .dataframe thead th {\n",
              "        text-align: right;\n",
              "    }\n",
              "</style>\n",
              "<table border=\"1\" class=\"dataframe\">\n",
              "  <thead>\n",
              "    <tr style=\"text-align: right;\">\n",
              "      <th></th>\n",
              "      <th>id</th>\n",
              "      <th>retweets</th>\n",
              "      <th>likes</th>\n",
              "      <th>compound</th>\n",
              "    </tr>\n",
              "  </thead>\n",
              "  <tbody>\n",
              "    <tr>\n",
              "      <th>count</th>\n",
              "      <td>2.463200e+04</td>\n",
              "      <td>24632.000000</td>\n",
              "      <td>24632.000000</td>\n",
              "      <td>24632.000000</td>\n",
              "    </tr>\n",
              "    <tr>\n",
              "      <th>mean</th>\n",
              "      <td>1.416248e+18</td>\n",
              "      <td>0.658128</td>\n",
              "      <td>1.107056</td>\n",
              "      <td>0.002922</td>\n",
              "    </tr>\n",
              "    <tr>\n",
              "      <th>std</th>\n",
              "      <td>3.320730e+16</td>\n",
              "      <td>8.704501</td>\n",
              "      <td>15.787707</td>\n",
              "      <td>0.046866</td>\n",
              "    </tr>\n",
              "    <tr>\n",
              "      <th>min</th>\n",
              "      <td>1.308018e+18</td>\n",
              "      <td>0.000000</td>\n",
              "      <td>0.000000</td>\n",
              "      <td>-0.790600</td>\n",
              "    </tr>\n",
              "    <tr>\n",
              "      <th>25%</th>\n",
              "      <td>1.408900e+18</td>\n",
              "      <td>0.000000</td>\n",
              "      <td>0.000000</td>\n",
              "      <td>0.000000</td>\n",
              "    </tr>\n",
              "    <tr>\n",
              "      <th>50%</th>\n",
              "      <td>1.415691e+18</td>\n",
              "      <td>0.000000</td>\n",
              "      <td>0.000000</td>\n",
              "      <td>0.000000</td>\n",
              "    </tr>\n",
              "    <tr>\n",
              "      <th>75%</th>\n",
              "      <td>1.443199e+18</td>\n",
              "      <td>0.000000</td>\n",
              "      <td>0.000000</td>\n",
              "      <td>0.000000</td>\n",
              "    </tr>\n",
              "    <tr>\n",
              "      <th>max</th>\n",
              "      <td>1.456479e+18</td>\n",
              "      <td>535.000000</td>\n",
              "      <td>1027.000000</td>\n",
              "      <td>0.947900</td>\n",
              "    </tr>\n",
              "  </tbody>\n",
              "</table>\n",
              "</div>"
            ],
            "text/plain": [
              "                 id      retweets         likes      compound\n",
              "count  2.463200e+04  24632.000000  24632.000000  24632.000000\n",
              "mean   1.416248e+18      0.658128      1.107056      0.002922\n",
              "std    3.320730e+16      8.704501     15.787707      0.046866\n",
              "min    1.308018e+18      0.000000      0.000000     -0.790600\n",
              "25%    1.408900e+18      0.000000      0.000000      0.000000\n",
              "50%    1.415691e+18      0.000000      0.000000      0.000000\n",
              "75%    1.443199e+18      0.000000      0.000000      0.000000\n",
              "max    1.456479e+18    535.000000   1027.000000      0.947900"
            ]
          },
          "metadata": {},
          "execution_count": 31
        }
      ]
    },
    {
      "cell_type": "code",
      "metadata": {
        "id": "UZaH-aIxFqh_"
      },
      "source": [
        "tweets_by_sentiment = Data['Sentiment'].value_counts()"
      ],
      "execution_count": 32,
      "outputs": []
    },
    {
      "cell_type": "code",
      "metadata": {
        "colab": {
          "base_uri": "https://localhost:8080/",
          "height": 265
        },
        "id": "8H8WyOIrFqmC",
        "outputId": "56929f1b-5cba-42cd-fc5e-d1c8afa04b4d"
      },
      "source": [
        "tweets_by_sentiment.plot(kind='pie')"
      ],
      "execution_count": 33,
      "outputs": [
        {
          "output_type": "execute_result",
          "data": {
            "text/plain": [
              "<matplotlib.axes._subplots.AxesSubplot at 0x7f1d5b753c10>"
            ]
          },
          "metadata": {},
          "execution_count": 33
        },
        {
          "output_type": "display_data",
          "data": {
            "image/png": "[encoded data removed]",
            "text/plain": [
              "<Figure size 432x288 with 1 Axes>"
            ]
          },
          "metadata": {}
        }
      ]
    },
    {
      "cell_type": "code",
      "metadata": {
        "colab": {
          "base_uri": "https://localhost:8080/",
          "height": 296
        },
        "id": "D6_6SFb5Fqpe",
        "outputId": "eee232e4-e4ce-4b71-a224-d84c1c3f8066"
      },
      "source": [
        "# visualize the results \n",
        "from matplotlib import pyplot as plt\n",
        "fig, ax = plt.subplots()\n",
        "\n",
        "ax.tick_params(axis='x', labelsize=6)\n",
        "ax.tick_params(axis='y', labelsize=16)\n",
        "\n",
        "ax.set_xlabel('Sentiment', fontsize=15)\n",
        "ax.set_ylabel('Number of tweets' , fontsize=15)\n",
        "\n",
        "tweets_by_sentiment.plot(ax=ax, kind='barh')"
      ],
      "execution_count": 34,
      "outputs": [
        {
          "output_type": "execute_result",
          "data": {
            "text/plain": [
              "<matplotlib.axes._subplots.AxesSubplot at 0x7f1d5c776290>"
            ]
          },
          "metadata": {},
          "execution_count": 34
        },
        {
          "output_type": "display_data",
          "data": {
            "image/png": "[encoded data removed]",
            "text/plain": [
              "<Figure size 432x288 with 1 Axes>"
            ]
          },
          "metadata": {}
        }
      ]
    },
    {
      "cell_type": "code",
      "metadata": {
        "id": "1-E6qUKNFqt0"
      },
      "source": [
        "Data.drop_duplicates(subset='clean text',inplace=True)"
      ],
      "execution_count": 35,
      "outputs": []
    },
    {
      "cell_type": "code",
      "metadata": {
        "colab": {
          "base_uri": "https://localhost:8080/",
          "height": 853
        },
        "id": "QNF3Q9PyFqyu",
        "outputId": "7cd3c4ec-f3b4-443c-becd-ddd6e2c6b063"
      },
      "source": [
        "tokenizer = RegexpTokenizer(r'\\w+')\n",
        "Data[\"clean text tokens\"] = Data[\"clean text\"].apply(tokenizer.tokenize)\n",
        "Data.head(5)"
      ],
      "execution_count": 36,
      "outputs": [
        {
          "output_type": "execute_result",
          "data": {
            "text/html": [
              "<div>\n",
              "<style scoped>\n",
              "    .dataframe tbody tr th:only-of-type {\n",
              "        vertical-align: middle;\n",
              "    }\n",
              "\n",
              "    .dataframe tbody tr th {\n",
              "        vertical-align: top;\n",
              "    }\n",
              "\n",
              "    .dataframe thead th {\n",
              "        text-align: right;\n",
              "    }\n",
              "</style>\n",
              "<table border=\"1\" class=\"dataframe\">\n",
              "  <thead>\n",
              "    <tr style=\"text-align: right;\">\n",
              "      <th></th>\n",
              "      <th>id</th>\n",
              "      <th>@username</th>\n",
              "      <th>display name</th>\n",
              "      <th>text</th>\n",
              "      <th>date</th>\n",
              "      <th>retweets</th>\n",
              "      <th>likes</th>\n",
              "      <th>clean text</th>\n",
              "      <th>tokens</th>\n",
              "      <th>scores</th>\n",
              "      <th>compound</th>\n",
              "      <th>Sentiment</th>\n",
              "      <th>clean text tokens</th>\n",
              "    </tr>\n",
              "  </thead>\n",
              "  <tbody>\n",
              "    <tr>\n",
              "      <th>0</th>\n",
              "      <td>1456153547188445185</td>\n",
              "      <td>jiil3r</td>\n",
              "      <td>حجز العمرة #اعتمرنا</td>\n",
              "      <td>اعتمرنا اصدار تصريح 🛑. متوفر حجز تصاريح  العمر...</td>\n",
              "      <td>2021-11-04T06:57:14+00:00</td>\n",
              "      <td>0</td>\n",
              "      <td>0</td>\n",
              "      <td>اعتمرنا اصدار تصريح 🛑 متوفر حجز تصاريح العمره📍...</td>\n",
              "      <td>[اعتمرنا, اصدار, تصريح, متوفر, حجز, تصاريح, ال...</td>\n",
              "      <td>{'neg': 0.0, 'neu': 1.0, 'pos': 0.0, 'compound...</td>\n",
              "      <td>0.0</td>\n",
              "      <td>Neutral</td>\n",
              "      <td>[اعتمرنا, اصدار, تصريح, متوفر, حجز, تصاريح, ال...</td>\n",
              "    </tr>\n",
              "    <tr>\n",
              "      <th>2</th>\n",
              "      <td>1456151700822241284</td>\n",
              "      <td>eatmarna14</td>\n",
              "      <td>حجز تصاريح عمره #اعتمرنا</td>\n",
              "      <td>من حجوزاتي الان صلاة الروضة الشريفة ليوم الجمع...</td>\n",
              "      <td>2021-11-04T06:49:54+00:00</td>\n",
              "      <td>0</td>\n",
              "      <td>0</td>\n",
              "      <td>من حجوزاتي الان صلاه الروضه الشريفه ليوم الجمع...</td>\n",
              "      <td>[من, حجوزاتي, الان, صلاه, الروضه, الشريفه, ليو...</td>\n",
              "      <td>{'neg': 0.0, 'neu': 1.0, 'pos': 0.0, 'compound...</td>\n",
              "      <td>0.0</td>\n",
              "      <td>Neutral</td>\n",
              "      <td>[من, حجوزاتي, الان, صلاه, الروضه, الشريفه, ليو...</td>\n",
              "    </tr>\n",
              "    <tr>\n",
              "      <th>3</th>\n",
              "      <td>1456149271984680960</td>\n",
              "      <td>jiil3r</td>\n",
              "      <td>حجز العمرة #اعتمرنا</td>\n",
              "      <td>اصدار تصريح 🟢. نستخرج لكم تصاريح من تطبيق اعتم...</td>\n",
              "      <td>2021-11-04T06:40:15+00:00</td>\n",
              "      <td>0</td>\n",
              "      <td>0</td>\n",
              "      <td>اصدار تصريح 🟢 نستخرج لكم تصاريح من تطبيق اعتمر...</td>\n",
              "      <td>[اصدار, تصريح, نستخرج, لكم, تصاريح, من, تطبيق,...</td>\n",
              "      <td>{'neg': 0.0, 'neu': 1.0, 'pos': 0.0, 'compound...</td>\n",
              "      <td>0.0</td>\n",
              "      <td>Neutral</td>\n",
              "      <td>[اصدار, تصريح, نستخرج, لكم, تصاريح, من, تطبيق,...</td>\n",
              "    </tr>\n",
              "    <tr>\n",
              "      <th>4</th>\n",
              "      <td>1456147951710052354</td>\n",
              "      <td>9__Rema</td>\n",
              "      <td>ريما</td>\n",
              "      <td>الاتحاد الفتح اللي يبي حجز عمره أو صلاه أو زيا...</td>\n",
              "      <td>2021-11-04T06:35:00+00:00</td>\n",
              "      <td>0</td>\n",
              "      <td>0</td>\n",
              "      <td>الاتحاد الفتح الي يبي حجز عمره او صلاه او زيار...</td>\n",
              "      <td>[الاتحاد, الفتح, الي, يبي, حجز, عمره, او, صلاه...</td>\n",
              "      <td>{'neg': 0.0, 'neu': 1.0, 'pos': 0.0, 'compound...</td>\n",
              "      <td>0.0</td>\n",
              "      <td>Neutral</td>\n",
              "      <td>[الاتحاد, الفتح, الي, يبي, حجز, عمره, او, صلاه...</td>\n",
              "    </tr>\n",
              "    <tr>\n",
              "      <th>5</th>\n",
              "      <td>1456147896798167044</td>\n",
              "      <td>9__Rema</td>\n",
              "      <td>ريما</td>\n",
              "      <td>كفر قوي اللي يبي حجز عمره أو صلاه أو زياره الي...</td>\n",
              "      <td>2021-11-04T06:34:47+00:00</td>\n",
              "      <td>0</td>\n",
              "      <td>0</td>\n",
              "      <td>كفر قوي الي يبي حجز عمره او صلاه او زياره اليو...</td>\n",
              "      <td>[كفر, قوي, الي, يبي, حجز, عمره, او, صلاه, او, ...</td>\n",
              "      <td>{'neg': 0.0, 'neu': 1.0, 'pos': 0.0, 'compound...</td>\n",
              "      <td>0.0</td>\n",
              "      <td>Neutral</td>\n",
              "      <td>[كفر, قوي, الي, يبي, حجز, عمره, او, صلاه, او, ...</td>\n",
              "    </tr>\n",
              "  </tbody>\n",
              "</table>\n",
              "</div>"
            ],
            "text/plain": [
              "                    id  ...                                  clean text tokens\n",
              "0  1456153547188445185  ...  [اعتمرنا, اصدار, تصريح, متوفر, حجز, تصاريح, ال...\n",
              "2  1456151700822241284  ...  [من, حجوزاتي, الان, صلاه, الروضه, الشريفه, ليو...\n",
              "3  1456149271984680960  ...  [اصدار, تصريح, نستخرج, لكم, تصاريح, من, تطبيق,...\n",
              "4  1456147951710052354  ...  [الاتحاد, الفتح, الي, يبي, حجز, عمره, او, صلاه...\n",
              "5  1456147896798167044  ...  [كفر, قوي, الي, يبي, حجز, عمره, او, صلاه, او, ...\n",
              "\n",
              "[5 rows x 13 columns]"
            ]
          },
          "metadata": {},
          "execution_count": 36
        }
      ]
    },
    {
      "cell_type": "code",
      "metadata": {
        "id": "Qk6H5-9mFq3o"
      },
      "source": [
        "ignore = {'', 'في', 'اله', 'RT', 'السلام', 'عليكم', 'و', 'تم', 'عندي', 'انا', 'الي', 'او', 'معنا', 'ان', 'عبر', 'يارب', 'اذا', 'يتم', 'من', \n",
        "          'مكن','تطبيق', 'احد', 'اي', 'علي', 'و', 'الي', 'التطبيق', 'ما', 'هل', 'لي', 'لم', 'عن', 'عن', 'ولا', 'مع', 'لا', 'الان',\n",
        "         'وبركاته', 'ا', 'م', 'كل', 'له', 'لك', 'الا', 'ورحمه', 'يكون', 'بك', 'فيه', 'غير', 'قياس', 'ال', 'الهم', 'معي', 'يا', 'بعد',\n",
        "         'توكلنا', 'اليوم', 'جميع', 'يوم', 'بنك', 'لكن', 'نور', 'الحمدله', 'الحمد', 'هذا', 'ايش', 'وش', 'يعني', 'قبل', 'انه', 'بشكل',\n",
        "         'ل', 'شي', 'اني', 'ف', 'ب' ,'تغير', 'مو', 'حتي', 'وانا', 'لو', 'التحصيلي', 'اخذ', 'كذا', 'يطلع', 'ايام', 'بس', 'عشان', 'الع', \n",
        "         'متي', 'مره', 'فقط', 'كنت', 'عند', 'ولم', 'لان', 'كم', ''}"
      ],
      "execution_count": 37,
      "outputs": []
    },
    {
      "cell_type": "code",
      "metadata": {
        "colab": {
          "base_uri": "https://localhost:8080/"
        },
        "id": "VoldykHiFq80",
        "outputId": "e2de7753-4c8a-446f-fed6-8ad2249f5779"
      },
      "source": [
        "# remove words that is in the ignore list\n",
        "all_words = [word for tokens in Data [\"clean text tokens\"] for word in tokens if not word in ignore]\n",
        "\n",
        "sentence_lengths = [len(tokens) for tokens in Data [\"clean text tokens\"]]\n",
        "\n",
        "VOCAB = sorted(list(set(all_words)))\n",
        "\n",
        "print(\"%s words total, with a vocabulary size of %s\" % (len(all_words), len(VOCAB)))\n",
        "print(\"Max sentence length is %s\" % max(sentence_lengths))"
      ],
      "execution_count": 38,
      "outputs": [
        {
          "output_type": "stream",
          "name": "stdout",
          "text": [
            "346170 words total, with a vocabulary size of 22480\n",
            "Max sentence length is 95\n"
          ]
        }
      ]
    },
    {
      "cell_type": "code",
      "metadata": {
        "colab": {
          "base_uri": "https://localhost:8080/"
        },
        "id": "xW3nxOUmI44m",
        "outputId": "fb170ad0-819d-47e3-9b6e-867e59283a4c"
      },
      "source": [
        "# count the number of words\n",
        "word_counter = Counter(all_words)\n",
        "# show the most common words\n",
        "word_counter.most_common(10)"
      ],
      "execution_count": 39,
      "outputs": [
        {
          "output_type": "execute_result",
          "data": {
            "text/plain": [
              "[('اعتمرنا', 17738),\n",
              " ('حجز', 9513),\n",
              " ('عمره', 8132),\n",
              " ('الحجز', 4376),\n",
              " ('خاص', 4278),\n",
              " ('الروضه', 4176),\n",
              " ('الشريفه', 3955),\n",
              " ('لحجز', 3753),\n",
              " ('العمره', 3690),\n",
              " ('التواصل', 3347)]"
            ]
          },
          "metadata": {},
          "execution_count": 39
        }
      ]
    },
    {
      "cell_type": "code",
      "metadata": {
        "colab": {
          "base_uri": "https://localhost:8080/"
        },
        "id": "PVzUcYLLI483",
        "outputId": "4128f189-bf41-4dbb-9ff2-e01ba02f6299"
      },
      "source": [
        "# Display 10 least common lines\n",
        "word_counter.most_common()[-10:]"
      ],
      "execution_count": 40,
      "outputs": [
        {
          "output_type": "execute_result",
          "data": {
            "text/plain": [
              "[('ومتاكدين', 1),\n",
              " ('مابقي', 1),\n",
              " ('فالمعلومات', 1),\n",
              " ('327060', 1),\n",
              " ('احا', 1),\n",
              " ('حبيبنا', 1),\n",
              " ('الحلم', 1),\n",
              " ('وبالنزول', 1),\n",
              " ('متابه', 1),\n",
              " ('بالاحمر', 1)]"
            ]
          },
          "metadata": {},
          "execution_count": 40
        }
      ]
    },
    {
      "cell_type": "code",
      "metadata": {
        "colab": {
          "base_uri": "https://localhost:8080/"
        },
        "id": "b3wdOK3mI5BP",
        "outputId": "ba8274bc-58d7-4a7c-a8e5-fd3cc8775b7a"
      },
      "source": [
        "for_df=Data[Data[\"Sentiment\"]==\"Neutral\"]\n",
        "For_words = [ word for tokens in for_df[\"clean text tokens\"] for word in tokens if not word in ignore]\n",
        "for_word_counter = Counter(For_words)\n",
        "for_word_counter.most_common(30)"
      ],
      "execution_count": 41,
      "outputs": [
        {
          "output_type": "execute_result",
          "data": {
            "text/plain": [
              "[('اعتمرنا', 17666),\n",
              " ('حجز', 9471),\n",
              " ('عمره', 8074),\n",
              " ('الحجز', 4371),\n",
              " ('خاص', 4272),\n",
              " ('الروضه', 4174),\n",
              " ('الشريفه', 3953),\n",
              " ('لحجز', 3748),\n",
              " ('العمره', 3683),\n",
              " ('التواصل', 3344),\n",
              " ('مكه', 3128),\n",
              " ('الصلاه', 2760),\n",
              " ('تصريح', 2730),\n",
              " ('الحرم', 2379),\n",
              " ('الجمعه', 2304),\n",
              " ('تصاريح', 1922),\n",
              " ('صلاه', 1865),\n",
              " ('متوفر', 1710),\n",
              " ('الحرام', 1649),\n",
              " ('الحج', 1519),\n",
              " ('صلوات', 1437),\n",
              " ('اخر', 1382),\n",
              " ('يتواصل', 1380),\n",
              " ('المدينه', 1362),\n",
              " ('فوري', 1294),\n",
              " ('المسجد', 1290),\n",
              " ('لكم', 1273),\n",
              " ('تواصل', 1271),\n",
              " ('استفسار', 1258),\n",
              " ('ليوم', 1256)]"
            ]
          },
          "metadata": {},
          "execution_count": 41
        }
      ]
    },
    {
      "cell_type": "code",
      "metadata": {
        "colab": {
          "base_uri": "https://localhost:8080/",
          "height": 385
        },
        "id": "xajhZa5MI5FP",
        "outputId": "d8643b03-46ac-477e-f447-eefc94624f5b"
      },
      "source": [
        "# store the top 20 words in a new data frame\n",
        "lst = word_counter.most_common(20)\n",
        "word_df = pd.DataFrame(lst, columns = ['Word', 'Count'])\n",
        "word_df.head()\n",
        "word_df.set_index('Word', inplace=True)\n",
        "# visualize the top 20 words\n",
        "\n",
        "fig, ax = plt.subplots()\n",
        "\n",
        "ax.tick_params(axis='x', labelsize=15,rotation=45)\n",
        "ax.tick_params(axis='y', labelsize=10)\n",
        "\n",
        "ax.set_xlabel('Word', fontsize=15)\n",
        "ax.set_ylabel('Count' , fontsize=15)\n",
        "ax.set_title('Distribution of words', fontsize=15, fontweight='bold')\n",
        "\n",
        "word_df.plot(ax=ax, kind='bar')"
      ],
      "execution_count": 42,
      "outputs": [
        {
          "output_type": "execute_result",
          "data": {
            "text/plain": [
              "<matplotlib.axes._subplots.AxesSubplot at 0x7f1d51772910>"
            ]
          },
          "metadata": {},
          "execution_count": 42
        },
        {
          "output_type": "display_data",
          "data": {
            "image/png": "[encoded data removed]",
            "text/plain": [
              "<Figure size 432x288 with 1 Axes>"
            ]
          },
          "metadata": {}
        }
      ]
    },
    {
      "cell_type": "code",
      "metadata": {
        "id": "jiYoa22SI5Kz"
      },
      "source": [
        "# remove the \"Neutral\" class\n",
        "Data=Data[Data['Sentiment'] != \"Neutral\"]"
      ],
      "execution_count": 43,
      "outputs": []
    },
    {
      "cell_type": "code",
      "metadata": {
        "colab": {
          "base_uri": "https://localhost:8080/",
          "height": 420
        },
        "id": "8qthEix3I5Q6",
        "outputId": "2be89c7e-817c-41e3-cef2-217fdca58e7f"
      },
      "source": [
        "# preview dataframe to verify that neutral tweets are removed\n",
        "Data.head(2)"
      ],
      "execution_count": 44,
      "outputs": [
        {
          "output_type": "execute_result",
          "data": {
            "text/html": [
              "<div>\n",
              "<style scoped>\n",
              "    .dataframe tbody tr th:only-of-type {\n",
              "        vertical-align: middle;\n",
              "    }\n",
              "\n",
              "    .dataframe tbody tr th {\n",
              "        vertical-align: top;\n",
              "    }\n",
              "\n",
              "    .dataframe thead th {\n",
              "        text-align: right;\n",
              "    }\n",
              "</style>\n",
              "<table border=\"1\" class=\"dataframe\">\n",
              "  <thead>\n",
              "    <tr style=\"text-align: right;\">\n",
              "      <th></th>\n",
              "      <th>id</th>\n",
              "      <th>@username</th>\n",
              "      <th>display name</th>\n",
              "      <th>text</th>\n",
              "      <th>date</th>\n",
              "      <th>retweets</th>\n",
              "      <th>likes</th>\n",
              "      <th>clean text</th>\n",
              "      <th>tokens</th>\n",
              "      <th>scores</th>\n",
              "      <th>compound</th>\n",
              "      <th>Sentiment</th>\n",
              "      <th>clean text tokens</th>\n",
              "    </tr>\n",
              "  </thead>\n",
              "  <tbody>\n",
              "    <tr>\n",
              "      <th>478</th>\n",
              "      <td>1454799825971695617</td>\n",
              "      <td>si12_20</td>\n",
              "      <td>سما لخدمات العمره .. 🌱🕋</td>\n",
              "      <td>لحجز الروضه الشريفه  لليوم رجال ونساء حجز فوري...</td>\n",
              "      <td>2021-10-31T13:18:02+00:00</td>\n",
              "      <td>1</td>\n",
              "      <td>0</td>\n",
              "      <td>لحجز الروضه الشريفه ليوم رجال ونساء حجز فوري ح...</td>\n",
              "      <td>[لحجز, الروضه, الشريفه, ليوم, رجال, ونساء, حجز...</td>\n",
              "      <td>{'neg': 0.0, 'neu': 0.843, 'pos': 0.157, 'comp...</td>\n",
              "      <td>0.4215</td>\n",
              "      <td>Positive</td>\n",
              "      <td>[لحجز, الروضه, الشريفه, ليوم, رجال, ونساء, حجز...</td>\n",
              "    </tr>\n",
              "    <tr>\n",
              "      <th>481</th>\n",
              "      <td>1454779374000132097</td>\n",
              "      <td>Zowar_</td>\n",
              "      <td>Zowar OTA</td>\n",
              "      <td>أجواء روحانية تأسر القلوب ..   \"Join us\" ( اعت...</td>\n",
              "      <td>2021-10-31T11:56:45+00:00</td>\n",
              "      <td>1</td>\n",
              "      <td>2</td>\n",
              "      <td>اجواء روحانيه تاسر القلوب Join us اعتمرنا</td>\n",
              "      <td>[اجواء, روحانيه, تاسر, القلوب, Join, us, اعتمرنا]</td>\n",
              "      <td>{'neg': 0.0, 'neu': 0.732, 'pos': 0.268, 'comp...</td>\n",
              "      <td>0.2960</td>\n",
              "      <td>Positive</td>\n",
              "      <td>[اجواء, روحانيه, تاسر, القلوب, Join, us, اعتمرنا]</td>\n",
              "    </tr>\n",
              "  </tbody>\n",
              "</table>\n",
              "</div>"
            ],
            "text/plain": [
              "                      id  ...                                  clean text tokens\n",
              "478  1454799825971695617  ...  [لحجز, الروضه, الشريفه, ليوم, رجال, ونساء, حجز...\n",
              "481  1454779374000132097  ...  [اجواء, روحانيه, تاسر, القلوب, Join, us, اعتمرنا]\n",
              "\n",
              "[2 rows x 13 columns]"
            ]
          },
          "metadata": {},
          "execution_count": 44
        }
      ]
    },
    {
      "cell_type": "code",
      "metadata": {
        "colab": {
          "base_uri": "https://localhost:8080/"
        },
        "id": "r_zQrPfwI5XF",
        "outputId": "420ad18b-6389-42ed-e899-a3064dedde8e"
      },
      "source": [
        "# change values to numeric\n",
        "Data['Sentiment'] = Data['Sentiment'].map({'Positive': 1, 'Negative': 0})"
      ],
      "execution_count": 45,
      "outputs": [
        {
          "output_type": "stream",
          "name": "stderr",
          "text": [
            "/usr/local/lib/python3.7/dist-packages/ipykernel_launcher.py:2: SettingWithCopyWarning: \n",
            "A value is trying to be set on a copy of a slice from a DataFrame.\n",
            "Try using .loc[row_indexer,col_indexer] = value instead\n",
            "\n",
            "See the caveats in the documentation: https://pandas.pydata.org/pandas-docs/stable/user_guide/indexing.html#returning-a-view-versus-a-copy\n",
            "  \n"
          ]
        }
      ]
    },
    {
      "cell_type": "code",
      "metadata": {
        "colab": {
          "base_uri": "https://localhost:8080/",
          "height": 420
        },
        "id": "xnqsj8NWRXOo",
        "outputId": "a9f371fa-8b8b-46aa-fcb1-67e868b76b5e"
      },
      "source": [
        "Data.head(2)"
      ],
      "execution_count": 46,
      "outputs": [
        {
          "output_type": "execute_result",
          "data": {
            "text/html": [
              "<div>\n",
              "<style scoped>\n",
              "    .dataframe tbody tr th:only-of-type {\n",
              "        vertical-align: middle;\n",
              "    }\n",
              "\n",
              "    .dataframe tbody tr th {\n",
              "        vertical-align: top;\n",
              "    }\n",
              "\n",
              "    .dataframe thead th {\n",
              "        text-align: right;\n",
              "    }\n",
              "</style>\n",
              "<table border=\"1\" class=\"dataframe\">\n",
              "  <thead>\n",
              "    <tr style=\"text-align: right;\">\n",
              "      <th></th>\n",
              "      <th>id</th>\n",
              "      <th>@username</th>\n",
              "      <th>display name</th>\n",
              "      <th>text</th>\n",
              "      <th>date</th>\n",
              "      <th>retweets</th>\n",
              "      <th>likes</th>\n",
              "      <th>clean text</th>\n",
              "      <th>tokens</th>\n",
              "      <th>scores</th>\n",
              "      <th>compound</th>\n",
              "      <th>Sentiment</th>\n",
              "      <th>clean text tokens</th>\n",
              "    </tr>\n",
              "  </thead>\n",
              "  <tbody>\n",
              "    <tr>\n",
              "      <th>478</th>\n",
              "      <td>1454799825971695617</td>\n",
              "      <td>si12_20</td>\n",
              "      <td>سما لخدمات العمره .. 🌱🕋</td>\n",
              "      <td>لحجز الروضه الشريفه  لليوم رجال ونساء حجز فوري...</td>\n",
              "      <td>2021-10-31T13:18:02+00:00</td>\n",
              "      <td>1</td>\n",
              "      <td>0</td>\n",
              "      <td>لحجز الروضه الشريفه ليوم رجال ونساء حجز فوري ح...</td>\n",
              "      <td>[لحجز, الروضه, الشريفه, ليوم, رجال, ونساء, حجز...</td>\n",
              "      <td>{'neg': 0.0, 'neu': 0.843, 'pos': 0.157, 'comp...</td>\n",
              "      <td>0.4215</td>\n",
              "      <td>1</td>\n",
              "      <td>[لحجز, الروضه, الشريفه, ليوم, رجال, ونساء, حجز...</td>\n",
              "    </tr>\n",
              "    <tr>\n",
              "      <th>481</th>\n",
              "      <td>1454779374000132097</td>\n",
              "      <td>Zowar_</td>\n",
              "      <td>Zowar OTA</td>\n",
              "      <td>أجواء روحانية تأسر القلوب ..   \"Join us\" ( اعت...</td>\n",
              "      <td>2021-10-31T11:56:45+00:00</td>\n",
              "      <td>1</td>\n",
              "      <td>2</td>\n",
              "      <td>اجواء روحانيه تاسر القلوب Join us اعتمرنا</td>\n",
              "      <td>[اجواء, روحانيه, تاسر, القلوب, Join, us, اعتمرنا]</td>\n",
              "      <td>{'neg': 0.0, 'neu': 0.732, 'pos': 0.268, 'comp...</td>\n",
              "      <td>0.2960</td>\n",
              "      <td>1</td>\n",
              "      <td>[اجواء, روحانيه, تاسر, القلوب, Join, us, اعتمرنا]</td>\n",
              "    </tr>\n",
              "  </tbody>\n",
              "</table>\n",
              "</div>"
            ],
            "text/plain": [
              "                      id  ...                                  clean text tokens\n",
              "478  1454799825971695617  ...  [لحجز, الروضه, الشريفه, ليوم, رجال, ونساء, حجز...\n",
              "481  1454779374000132097  ...  [اجواء, روحانيه, تاسر, القلوب, Join, us, اعتمرنا]\n",
              "\n",
              "[2 rows x 13 columns]"
            ]
          },
          "metadata": {},
          "execution_count": 46
        }
      ]
    },
    {
      "cell_type": "code",
      "metadata": {
        "id": "vQekB7pGI5dG"
      },
      "source": [
        "# identify the data and the labels\n",
        "tweet = Data['text']\n",
        "target= Data['Sentiment']"
      ],
      "execution_count": 47,
      "outputs": []
    },
    {
      "cell_type": "code",
      "metadata": {
        "colab": {
          "base_uri": "https://localhost:8080/"
        },
        "id": "-XN_sMDJVR65",
        "outputId": "ceb030c0-c794-4571-ce2f-cb1c87a1fa71"
      },
      "source": [
        "# Use TfidfVectorizer for feature extraction (TFIDF to convert textual data to numeric form):\n",
        "from sklearn.feature_extraction.text import TfidfVectorizer\n",
        "tf_vec = TfidfVectorizer()\n",
        "X = tf_vec.fit_transform(tweet)\n",
        "X.shape"
      ],
      "execution_count": 48,
      "outputs": [
        {
          "output_type": "execute_result",
          "data": {
            "text/plain": [
              "(263, 1543)"
            ]
          },
          "metadata": {},
          "execution_count": 48
        }
      ]
    },
    {
      "cell_type": "code",
      "metadata": {
        "id": "CYnJluzPbwWU"
      },
      "source": [
        "# Training Phase\n",
        "from sklearn.model_selection import train_test_split\n",
        "X_train, X_test, y_train, y_test = train_test_split(X, target, test_size=0.33, random_state=0)"
      ],
      "execution_count": 49,
      "outputs": []
    },
    {
      "cell_type": "code",
      "metadata": {
        "colab": {
          "base_uri": "https://localhost:8080/"
        },
        "id": "P8LeJKDsbwfd",
        "outputId": "0ff51c78-13fb-44f1-ff18-172f46f8b128"
      },
      "source": [
        "print(X_train.shape,X_test.shape,y_train.shape,y_test.shape)"
      ],
      "execution_count": 50,
      "outputs": [
        {
          "output_type": "stream",
          "name": "stdout",
          "text": [
            "(176, 1543) (87, 1543) (176,) (87,)\n"
          ]
        }
      ]
    },
    {
      "cell_type": "markdown",
      "metadata": {
        "id": "0xUCAa68cANT"
      },
      "source": [
        "# **NAIVE** **BAYES** **model**"
      ]
    },
    {
      "cell_type": "code",
      "metadata": {
        "id": "FJY-l8VZcpC2"
      },
      "source": [
        "from sklearn.linear_model import LogisticRegression\n",
        "from sklearn.naive_bayes import MultinomialNB\n",
        "from sklearn.model_selection import cross_val_score\n",
        "from sklearn.metrics  import confusion_matrix, classification_report\n",
        "from sklearn import metrics"
      ],
      "execution_count": 51,
      "outputs": []
    },
    {
      "cell_type": "code",
      "metadata": {
        "colab": {
          "base_uri": "https://localhost:8080/"
        },
        "id": "JgNcR7QRbwoK",
        "outputId": "964454c6-0eb1-42f2-81c2-d4caa87d4c6a"
      },
      "source": [
        "# create the classifer and fit the training data and lables\n",
        "classifier_nb = MultinomialNB().fit(X_train.todense(),y_train)\n",
        "\n",
        "print(\"MultinomialNB accuracy: %.2f\"%classifier_nb.score(X_test.todense(), y_test))\n",
        "\n",
        "#do a 10 fold cross-validation \n",
        "results_nb = cross_val_score(classifier_nb, X.todense(),target, cv=10)\n",
        "print(\"\\n10-fold cross-validation:\")\n",
        "print(results_nb)\n",
        "\n",
        "print(\"The average accuracy of the MultinomialNB classifier is : %.2f\" % np.mean(results_nb))\n",
        "\n",
        "print(\"\\nConfusion matrix of the MultinomialNB classifier:\")\n",
        "predicted_nb = classifier_nb.predict(X_test.todense())\n",
        "print(confusion_matrix(y_test,predicted_nb))\n",
        "\n",
        "\n",
        "print(\"\\nClassification_report of MultinomialNB classifier:\")\n",
        "print(classification_report(y_test,predicted_nb))\n",
        "print(\"----------------------------------------------------------------------------\")"
      ],
      "execution_count": 52,
      "outputs": [
        {
          "output_type": "stream",
          "name": "stderr",
          "text": [
            "/usr/local/lib/python3.7/dist-packages/sklearn/utils/validation.py:590: FutureWarning: np.matrix usage is deprecated in 1.0 and will raise a TypeError in 1.2. Please convert to a numpy array with np.asarray. For more information see: https://numpy.org/doc/stable/reference/generated/numpy.matrix.html\n",
            "  FutureWarning,\n",
            "/usr/local/lib/python3.7/dist-packages/sklearn/utils/validation.py:590: FutureWarning: np.matrix usage is deprecated in 1.0 and will raise a TypeError in 1.2. Please convert to a numpy array with np.asarray. For more information see: https://numpy.org/doc/stable/reference/generated/numpy.matrix.html\n",
            "  FutureWarning,\n",
            "/usr/local/lib/python3.7/dist-packages/sklearn/utils/validation.py:590: FutureWarning: np.matrix usage is deprecated in 1.0 and will raise a TypeError in 1.2. Please convert to a numpy array with np.asarray. For more information see: https://numpy.org/doc/stable/reference/generated/numpy.matrix.html\n",
            "  FutureWarning,\n",
            "/usr/local/lib/python3.7/dist-packages/sklearn/utils/validation.py:590: FutureWarning: np.matrix usage is deprecated in 1.0 and will raise a TypeError in 1.2. Please convert to a numpy array with np.asarray. For more information see: https://numpy.org/doc/stable/reference/generated/numpy.matrix.html\n",
            "  FutureWarning,\n",
            "/usr/local/lib/python3.7/dist-packages/sklearn/utils/validation.py:590: FutureWarning: np.matrix usage is deprecated in 1.0 and will raise a TypeError in 1.2. Please convert to a numpy array with np.asarray. For more information see: https://numpy.org/doc/stable/reference/generated/numpy.matrix.html\n",
            "  FutureWarning,\n",
            "/usr/local/lib/python3.7/dist-packages/sklearn/utils/validation.py:590: FutureWarning: np.matrix usage is deprecated in 1.0 and will raise a TypeError in 1.2. Please convert to a numpy array with np.asarray. For more information see: https://numpy.org/doc/stable/reference/generated/numpy.matrix.html\n",
            "  FutureWarning,\n",
            "/usr/local/lib/python3.7/dist-packages/sklearn/utils/validation.py:590: FutureWarning: np.matrix usage is deprecated in 1.0 and will raise a TypeError in 1.2. Please convert to a numpy array with np.asarray. For more information see: https://numpy.org/doc/stable/reference/generated/numpy.matrix.html\n",
            "  FutureWarning,\n",
            "/usr/local/lib/python3.7/dist-packages/sklearn/utils/validation.py:590: FutureWarning: np.matrix usage is deprecated in 1.0 and will raise a TypeError in 1.2. Please convert to a numpy array with np.asarray. For more information see: https://numpy.org/doc/stable/reference/generated/numpy.matrix.html\n",
            "  FutureWarning,\n",
            "/usr/local/lib/python3.7/dist-packages/sklearn/utils/validation.py:590: FutureWarning: np.matrix usage is deprecated in 1.0 and will raise a TypeError in 1.2. Please convert to a numpy array with np.asarray. For more information see: https://numpy.org/doc/stable/reference/generated/numpy.matrix.html\n",
            "  FutureWarning,\n",
            "/usr/local/lib/python3.7/dist-packages/sklearn/utils/validation.py:590: FutureWarning: np.matrix usage is deprecated in 1.0 and will raise a TypeError in 1.2. Please convert to a numpy array with np.asarray. For more information see: https://numpy.org/doc/stable/reference/generated/numpy.matrix.html\n",
            "  FutureWarning,\n",
            "/usr/local/lib/python3.7/dist-packages/sklearn/utils/validation.py:590: FutureWarning: np.matrix usage is deprecated in 1.0 and will raise a TypeError in 1.2. Please convert to a numpy array with np.asarray. For more information see: https://numpy.org/doc/stable/reference/generated/numpy.matrix.html\n",
            "  FutureWarning,\n",
            "/usr/local/lib/python3.7/dist-packages/sklearn/utils/validation.py:590: FutureWarning: np.matrix usage is deprecated in 1.0 and will raise a TypeError in 1.2. Please convert to a numpy array with np.asarray. For more information see: https://numpy.org/doc/stable/reference/generated/numpy.matrix.html\n",
            "  FutureWarning,\n",
            "/usr/local/lib/python3.7/dist-packages/sklearn/utils/validation.py:590: FutureWarning: np.matrix usage is deprecated in 1.0 and will raise a TypeError in 1.2. Please convert to a numpy array with np.asarray. For more information see: https://numpy.org/doc/stable/reference/generated/numpy.matrix.html\n",
            "  FutureWarning,\n",
            "/usr/local/lib/python3.7/dist-packages/sklearn/utils/validation.py:590: FutureWarning: np.matrix usage is deprecated in 1.0 and will raise a TypeError in 1.2. Please convert to a numpy array with np.asarray. For more information see: https://numpy.org/doc/stable/reference/generated/numpy.matrix.html\n",
            "  FutureWarning,\n",
            "/usr/local/lib/python3.7/dist-packages/sklearn/utils/validation.py:590: FutureWarning: np.matrix usage is deprecated in 1.0 and will raise a TypeError in 1.2. Please convert to a numpy array with np.asarray. For more information see: https://numpy.org/doc/stable/reference/generated/numpy.matrix.html\n",
            "  FutureWarning,\n",
            "/usr/local/lib/python3.7/dist-packages/sklearn/utils/validation.py:590: FutureWarning: np.matrix usage is deprecated in 1.0 and will raise a TypeError in 1.2. Please convert to a numpy array with np.asarray. For more information see: https://numpy.org/doc/stable/reference/generated/numpy.matrix.html\n",
            "  FutureWarning,\n",
            "/usr/local/lib/python3.7/dist-packages/sklearn/utils/validation.py:590: FutureWarning: np.matrix usage is deprecated in 1.0 and will raise a TypeError in 1.2. Please convert to a numpy array with np.asarray. For more information see: https://numpy.org/doc/stable/reference/generated/numpy.matrix.html\n",
            "  FutureWarning,\n",
            "/usr/local/lib/python3.7/dist-packages/sklearn/utils/validation.py:590: FutureWarning: np.matrix usage is deprecated in 1.0 and will raise a TypeError in 1.2. Please convert to a numpy array with np.asarray. For more information see: https://numpy.org/doc/stable/reference/generated/numpy.matrix.html\n",
            "  FutureWarning,\n",
            "/usr/local/lib/python3.7/dist-packages/sklearn/utils/validation.py:590: FutureWarning: np.matrix usage is deprecated in 1.0 and will raise a TypeError in 1.2. Please convert to a numpy array with np.asarray. For more information see: https://numpy.org/doc/stable/reference/generated/numpy.matrix.html\n",
            "  FutureWarning,\n",
            "/usr/local/lib/python3.7/dist-packages/sklearn/utils/validation.py:590: FutureWarning: np.matrix usage is deprecated in 1.0 and will raise a TypeError in 1.2. Please convert to a numpy array with np.asarray. For more information see: https://numpy.org/doc/stable/reference/generated/numpy.matrix.html\n",
            "  FutureWarning,\n",
            "/usr/local/lib/python3.7/dist-packages/sklearn/utils/validation.py:590: FutureWarning: np.matrix usage is deprecated in 1.0 and will raise a TypeError in 1.2. Please convert to a numpy array with np.asarray. For more information see: https://numpy.org/doc/stable/reference/generated/numpy.matrix.html\n",
            "  FutureWarning,\n",
            "/usr/local/lib/python3.7/dist-packages/sklearn/utils/validation.py:590: FutureWarning: np.matrix usage is deprecated in 1.0 and will raise a TypeError in 1.2. Please convert to a numpy array with np.asarray. For more information see: https://numpy.org/doc/stable/reference/generated/numpy.matrix.html\n",
            "  FutureWarning,\n",
            "/usr/local/lib/python3.7/dist-packages/sklearn/utils/validation.py:590: FutureWarning: np.matrix usage is deprecated in 1.0 and will raise a TypeError in 1.2. Please convert to a numpy array with np.asarray. For more information see: https://numpy.org/doc/stable/reference/generated/numpy.matrix.html\n",
            "  FutureWarning,\n"
          ]
        },
        {
          "output_type": "stream",
          "name": "stdout",
          "text": [
            "MultinomialNB accuracy: 0.74\n",
            "\n",
            "10-fold cross-validation:\n",
            "[0.77777778 0.77777778 0.77777778 0.76923077 0.80769231 0.80769231\n",
            " 0.80769231 0.80769231 0.80769231 0.80769231]\n",
            "The average accuracy of the MultinomialNB classifier is : 0.79\n",
            "\n",
            "Confusion matrix of the MultinomialNB classifier:\n",
            "[[ 0 23]\n",
            " [ 0 64]]\n",
            "\n",
            "Classification_report of MultinomialNB classifier:\n",
            "              precision    recall  f1-score   support\n",
            "\n",
            "           0       0.00      0.00      0.00        23\n",
            "           1       0.74      1.00      0.85        64\n",
            "\n",
            "    accuracy                           0.74        87\n",
            "   macro avg       0.37      0.50      0.42        87\n",
            "weighted avg       0.54      0.74      0.62        87\n",
            "\n",
            "----------------------------------------------------------------------------\n"
          ]
        },
        {
          "output_type": "stream",
          "name": "stderr",
          "text": [
            "/usr/local/lib/python3.7/dist-packages/sklearn/metrics/_classification.py:1308: UndefinedMetricWarning: Precision and F-score are ill-defined and being set to 0.0 in labels with no predicted samples. Use `zero_division` parameter to control this behavior.\n",
            "  _warn_prf(average, modifier, msg_start, len(result))\n",
            "/usr/local/lib/python3.7/dist-packages/sklearn/metrics/_classification.py:1308: UndefinedMetricWarning: Precision and F-score are ill-defined and being set to 0.0 in labels with no predicted samples. Use `zero_division` parameter to control this behavior.\n",
            "  _warn_prf(average, modifier, msg_start, len(result))\n",
            "/usr/local/lib/python3.7/dist-packages/sklearn/metrics/_classification.py:1308: UndefinedMetricWarning: Precision and F-score are ill-defined and being set to 0.0 in labels with no predicted samples. Use `zero_division` parameter to control this behavior.\n",
            "  _warn_prf(average, modifier, msg_start, len(result))\n"
          ]
        }
      ]
    },
    {
      "cell_type": "code",
      "metadata": {
        "id": "tvPA7Kdsbwwx"
      },
      "source": [
        "# calculate the fpr and tpr for all thresholds of the classification\n",
        "probs = classifier_nb.predict_proba(X_test)\n",
        "preds = probs[:,1]\n",
        "\n",
        "fpr, tpr, threshold = metrics.roc_curve(y_test, preds)\n",
        "roc_auc = metrics.auc(fpr, tpr)"
      ],
      "execution_count": 53,
      "outputs": []
    },
    {
      "cell_type": "code",
      "metadata": {
        "colab": {
          "base_uri": "https://localhost:8080/",
          "height": 295
        },
        "id": "XBTZv9r4bw6E",
        "outputId": "4fe75b57-02e2-43bf-cf0d-87be2324b4f6"
      },
      "source": [
        "# plot the AUC for Naive Bayesian Classifier\n",
        "plt.title('Receiver Operating Characteristic NB classifier')\n",
        "plt.plot(fpr, tpr, 'b', label = 'AUC = %0.2f' % roc_auc)\n",
        "plt.legend(loc = 'lower right')\n",
        "plt.plot([0, 1], [0, 1],'r--')\n",
        "plt.xlim([0, 1])\n",
        "plt.ylim([0, 1])\n",
        "plt.ylabel('True Positive Rate')\n",
        "plt.xlabel('False Positive Rate')\n",
        "plt.show()"
      ],
      "execution_count": 54,
      "outputs": [
        {
          "output_type": "display_data",
          "data": {
            "image/png": "[encoded data removed]",
            "text/plain": [
              "<Figure size 432x288 with 1 Axes>"
            ]
          },
          "metadata": {}
        }
      ]
    },
    {
      "cell_type": "markdown",
      "metadata": {
        "id": "XNfmM17AdXTV"
      },
      "source": [
        "# **LOGISTIC** **REGRESSION** **model**"
      ]
    },
    {
      "cell_type": "code",
      "metadata": {
        "id": "ENnGSTZkbxC3"
      },
      "source": [
        "# build the second classifer, logsitic regrssion \n",
        "classifier_log =  LogisticRegression().fit(X_train,y_train)"
      ],
      "execution_count": 55,
      "outputs": []
    },
    {
      "cell_type": "code",
      "metadata": {
        "colab": {
          "base_uri": "https://localhost:8080/"
        },
        "id": "sVViECdwbxOz",
        "outputId": "e0088d26-07a0-4a78-e053-b2e0f0a24862"
      },
      "source": [
        "print(\"Logisitic Accuracy: %.2F\"%classifier_log.score(X_test, y_test))\n",
        "results_log = cross_val_score(classifier_log, X,target, cv=10)\n",
        "\n",
        "\n",
        "print(\"\\n10-fold cross-validation:\")\n",
        "print(results_log)\n",
        "\n",
        "\n",
        "print(\"The average accuracy of the Logisitic classifier is : %.2f\" % np.mean(results_log))\n",
        "print(\"\\nConfusion matrix of the Logisitic classifier:\")\n",
        "predicted_log= classifier_log.predict(X_test)\n",
        "print(confusion_matrix(y_test,predicted_log))\n",
        "\n",
        "\n",
        "print(\"\\nClassification_report of Logisitic classifier:\")\n",
        "print(classification_report(y_test,predicted_log))\n",
        "print(\"----------------------------------------------------------------------------\")"
      ],
      "execution_count": 56,
      "outputs": [
        {
          "output_type": "stream",
          "name": "stdout",
          "text": [
            "Logisitic Accuracy: 0.74\n",
            "\n",
            "10-fold cross-validation:\n",
            "[0.77777778 0.77777778 0.77777778 0.80769231 0.80769231 0.80769231\n",
            " 0.80769231 0.80769231 0.80769231 0.80769231]\n",
            "The average accuracy of the Logisitic classifier is : 0.80\n",
            "\n",
            "Confusion matrix of the Logisitic classifier:\n",
            "[[ 0 23]\n",
            " [ 0 64]]\n",
            "\n",
            "Classification_report of Logisitic classifier:\n",
            "              precision    recall  f1-score   support\n",
            "\n",
            "           0       0.00      0.00      0.00        23\n",
            "           1       0.74      1.00      0.85        64\n",
            "\n",
            "    accuracy                           0.74        87\n",
            "   macro avg       0.37      0.50      0.42        87\n",
            "weighted avg       0.54      0.74      0.62        87\n",
            "\n",
            "----------------------------------------------------------------------------\n"
          ]
        },
        {
          "output_type": "stream",
          "name": "stderr",
          "text": [
            "/usr/local/lib/python3.7/dist-packages/sklearn/metrics/_classification.py:1308: UndefinedMetricWarning: Precision and F-score are ill-defined and being set to 0.0 in labels with no predicted samples. Use `zero_division` parameter to control this behavior.\n",
            "  _warn_prf(average, modifier, msg_start, len(result))\n",
            "/usr/local/lib/python3.7/dist-packages/sklearn/metrics/_classification.py:1308: UndefinedMetricWarning: Precision and F-score are ill-defined and being set to 0.0 in labels with no predicted samples. Use `zero_division` parameter to control this behavior.\n",
            "  _warn_prf(average, modifier, msg_start, len(result))\n",
            "/usr/local/lib/python3.7/dist-packages/sklearn/metrics/_classification.py:1308: UndefinedMetricWarning: Precision and F-score are ill-defined and being set to 0.0 in labels with no predicted samples. Use `zero_division` parameter to control this behavior.\n",
            "  _warn_prf(average, modifier, msg_start, len(result))\n"
          ]
        }
      ]
    },
    {
      "cell_type": "code",
      "metadata": {
        "id": "quQwYGGobxXo"
      },
      "source": [
        "# calculate the fpr and tpr for all thresholds of the classification\n",
        "\n",
        "probs = classifier_log.predict_proba(X_test)\n",
        "preds = probs[:,1]\n",
        "\n",
        "fpr, tpr, threshold = metrics.roc_curve(y_test, preds)\n",
        "roc_auc = metrics.auc(fpr, tpr)"
      ],
      "execution_count": 57,
      "outputs": []
    },
    {
      "cell_type": "code",
      "metadata": {
        "colab": {
          "base_uri": "https://localhost:8080/",
          "height": 295
        },
        "id": "3LJ7JRTBbxgP",
        "outputId": "411fd059-86ed-44ef-df96-9840e66b8863"
      },
      "source": [
        "# polt AUC for Logistic Regression\n",
        "plt.title('Receiver Operating Characteristic for Logisitic classifier')\n",
        "plt.plot(fpr, tpr, 'b', label = 'AUC = %0.2f' % roc_auc)\n",
        "plt.legend(loc = 'lower right')\n",
        "plt.plot([0, 1], [0, 1],'r--')\n",
        "plt.xlim([0, 1])\n",
        "plt.ylim([0, 1])\n",
        "plt.ylabel('True Positive Rate')\n",
        "plt.xlabel('False Positive Rate')\n",
        "plt.show()"
      ],
      "execution_count": 58,
      "outputs": [
        {
          "output_type": "display_data",
          "data": {
            "image/png": "[encoded data removed]",
            "text/plain": [
              "<Figure size 432x288 with 1 Axes>"
            ]
          },
          "metadata": {}
        }
      ]
    },
    {
      "cell_type": "code",
      "metadata": {
        "id": "sxkyM261bxo5"
      },
      "source": [
        ""
      ],
      "execution_count": 58,
      "outputs": []
    },
    {
      "cell_type": "code",
      "metadata": {
        "id": "yMZ7cyF5fVUO"
      },
      "source": [
        ""
      ],
      "execution_count": 58,
      "outputs": []
    },
    {
      "cell_type": "code",
      "metadata": {
        "id": "P_Z1Yjw8fVoe"
      },
      "source": [
        ""
      ],
      "execution_count": 58,
      "outputs": []
    },
    {
      "cell_type": "code",
      "metadata": {
        "id": "T2-sMEydfVvj"
      },
      "source": [
        ""
      ],
      "execution_count": 58,
      "outputs": []
    },
    {
      "cell_type": "code",
      "metadata": {
        "id": "PNIu2mOffV2Z"
      },
      "source": [
        ""
      ],
      "execution_count": 58,
      "outputs": []
    }
  ]
}