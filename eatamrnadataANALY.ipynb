{
  "nbformat": 4,
  "nbformat_minor": 0,
  "metadata": {
    "colab": {
      "name": "eatamrnadata-3.ipynb",
      "provenance": [],
      "collapsed_sections": []
    },
    "kernelspec": {
      "name": "python3",
      "display_name": "Python 3"
    },
    "language_info": {
      "name": "python"
    }
  },
  "cells": [
    {
      "cell_type": "markdown",
      "metadata": {
        "id": "eaS262SXARn6"
      },
      "source": [
        "# **Eatmarna** **Tweets** **Analysis**\n",
        "\n",
        "\n",
        "\n",
        "\n",
        "\n",
        "\n",
        "\n",
        "\n",
        "\n",
        "\n",
        "\n"
      ]
    },
    {
      "cell_type": "markdown",
      "metadata": {
        "id": "1UYHbW8pBULY"
      },
      "source": [
        "**What** **is** **Eatmarna** \n",
        "Eatmarna is a governmental application developed by Ministry of Hajj and Umrah for the service of the guests of Rahman,It’s one of the most popular applications in Saudi Arabia, used to  enable those wishing to perform Umrah and visit to request the issuance of permits to enter the Two Holy Mosques to perform Umrah, visit and prayers according to the capacity approved by the concerned authorities to ensure the provision of a spiritual and safe atmosphere that achieves health precautionary measures and controls And the regulatory system.\n"
      ]
    },
    {
      "cell_type": "markdown",
      "metadata": {
        "id": "2HzHtoINBzKn"
      },
      "source": [
        "**Problem** **Definition** **and** **Goal** \n",
        "In twitter Account (@MOHU_CSC) there are considerable variety in the customers’ opinion of the provided services. These hashtags describe the customer's experience with such as #اعتمرنا \n",
        "The goal is to figure out the customers registration problems, take their opinion about the Eatmarna application performance and if the customer services team have high responsiveness or not.  \n"
      ]
    },
    {
      "cell_type": "markdown",
      "metadata": {
        "id": "3Lh7qTMVB7Ra"
      },
      "source": [
        "**Objective** **of** **Analytical** **Solution**\n",
        "•\tIn this project, we aim to analyze number of tweets to achieve several objectives, such as:\n",
        "•\tDescribe the problems related to the registration process.\n",
        "•\tMeasure Customers’ satisfaction regarding customer services team responsiveness. \n",
        "•\tMeasure Customers’ satisfaction about the application performance.\n"
      ]
    },
    {
      "cell_type": "markdown",
      "metadata": {
        "id": "iNWIwMnSB4uf"
      },
      "source": [
        "# **1**\t**Data** **collection** \n",
        "I connected to Twitter API, extracting the data I need about Eatmarna, the libraries/tools that we will use in this phase: pandas, and NumPy.\n",
        "The data collection mechanism extracted tweets to people mentioning (@MOHU_CSC), searching about specific keywords (تطبيق اعتمرنا) and extract tweets from a hashtag (#اعتمرنا). After observing the data, we have noticed that most of the text of the tweets has been written in the Arabic language. Moreover, the data revealed the key factors and issues contributing to customer satisfaction, which we will further analyze in the subsequent phases.\n"
      ]
    },
    {
      "cell_type": "markdown",
      "metadata": {
        "id": "Wduwh1OT_gyI"
      },
      "source": [
        "# **Collect** **and** **Explore** **The** **Data** "
      ]
    },
    {
      "cell_type": "code",
      "metadata": {
        "id": "mb2yn27X-BKi"
      },
      "source": [
        "# import library, pandas to read the dataset, matplotlib to visualize data, and re to clean the text\n",
        "import pandas as pd\n",
        "import numpy as np \n",
        "import csv\n",
        "import re # for regular expression\n",
        "import string\n",
        "import nltk \n",
        "from nltk.corpus import stopwords\n",
        "from nltk.tokenize import word_tokenize\n",
        "from nltk.tokenize import RegexpTokenizer\n",
        "from collections import Counter \n",
        "%matplotlib inline"
      ],
      "execution_count": 1,
      "outputs": []
    },
    {
      "cell_type": "code",
      "metadata": {
        "colab": {
          "base_uri": "https://localhost:8080/"
        },
        "id": "etVn2_BY-DrW",
        "outputId": "4dcec70f-8e7a-436f-f2b3-6058974cf8f8"
      },
      "source": [
        "from google.colab import drive \n",
        "drive.mount('/content/gdrive')"
      ],
      "execution_count": 2,
      "outputs": [
        {
          "output_type": "stream",
          "name": "stdout",
          "text": [
            "Drive already mounted at /content/gdrive; to attempt to forcibly remount, call drive.mount(\"/content/gdrive\", force_remount=True).\n"
          ]
        }
      ]
    },
    {
      "cell_type": "code",
      "metadata": {
        "id": "yUJJtq5yD0Nw"
      },
      "source": [
        "url = 'https://github.com/GHADAJUFAIR1/Bootcamps/blob/main/EatmarnaDataset.xlsx?raw=true'\n",
        "Data = pd.read_excel(url)\n",
        "# Dataset is now stored in a Pandas Dataframe"
      ],
      "execution_count": 3,
      "outputs": []
    },
    {
      "cell_type": "code",
      "metadata": {
        "id": "hzjSn190-kVv"
      },
      "source": [
        "#path = \"gdrive/My Drive/dataset/EatmarnaDataset.xlsx\"\n",
        "#df_bonus = pd.read_csv(path)\n",
        "#read file\n",
        "#Data = pd.read_excel('drive/My Drive/EatmarnaDataset.xlsx')"
      ],
      "execution_count": 4,
      "outputs": []
    },
    {
      "cell_type": "code",
      "metadata": {
        "id": "ny4nAvUDAAEG",
        "colab": {
          "base_uri": "https://localhost:8080/"
        },
        "outputId": "520ea696-a738-4521-de28-2c5a967b0ea3"
      },
      "source": [
        "#dataset size\n",
        "Data.shape"
      ],
      "execution_count": 5,
      "outputs": [
        {
          "output_type": "execute_result",
          "data": {
            "text/plain": [
              "(27870, 7)"
            ]
          },
          "metadata": {},
          "execution_count": 5
        }
      ]
    },
    {
      "cell_type": "code",
      "metadata": {
        "id": "wMsnHxTQAB8L",
        "colab": {
          "base_uri": "https://localhost:8080/"
        },
        "outputId": "c6b2bd8d-0b66-4be5-d81e-4e51bc510d32"
      },
      "source": [
        "# check on columns \n",
        "Data.columns"
      ],
      "execution_count": 6,
      "outputs": [
        {
          "output_type": "execute_result",
          "data": {
            "text/plain": [
              "Index(['id', '@username', 'display name', 'text', 'date', 'retweets', 'likes'], dtype='object')"
            ]
          },
          "metadata": {},
          "execution_count": 6
        }
      ]
    },
    {
      "cell_type": "code",
      "metadata": {
        "id": "-QW6PBnU-yd7",
        "colab": {
          "base_uri": "https://localhost:8080/",
          "height": 204
        },
        "outputId": "bfd00ccb-90ae-4c14-b64b-29949a510e90"
      },
      "source": [
        "#show first five dataframe content \n",
        "Data.head()"
      ],
      "execution_count": 7,
      "outputs": [
        {
          "output_type": "execute_result",
          "data": {
            "text/html": [
              "<div>\n",
              "<style scoped>\n",
              "    .dataframe tbody tr th:only-of-type {\n",
              "        vertical-align: middle;\n",
              "    }\n",
              "\n",
              "    .dataframe tbody tr th {\n",
              "        vertical-align: top;\n",
              "    }\n",
              "\n",
              "    .dataframe thead th {\n",
              "        text-align: right;\n",
              "    }\n",
              "</style>\n",
              "<table border=\"1\" class=\"dataframe\">\n",
              "  <thead>\n",
              "    <tr style=\"text-align: right;\">\n",
              "      <th></th>\n",
              "      <th>id</th>\n",
              "      <th>@username</th>\n",
              "      <th>display name</th>\n",
              "      <th>text</th>\n",
              "      <th>date</th>\n",
              "      <th>retweets</th>\n",
              "      <th>likes</th>\n",
              "    </tr>\n",
              "  </thead>\n",
              "  <tbody>\n",
              "    <tr>\n",
              "      <th>0</th>\n",
              "      <td>1456153547188445185</td>\n",
              "      <td>jiil3r</td>\n",
              "      <td>حجز العمرة #اعتمرنا</td>\n",
              "      <td>#اعتمرنا اصدار تصريح 🛑.\\nمتوفر حجز تصاريح \\nال...</td>\n",
              "      <td>2021-11-04T06:57:14+00:00</td>\n",
              "      <td>0</td>\n",
              "      <td>0</td>\n",
              "    </tr>\n",
              "    <tr>\n",
              "      <th>1</th>\n",
              "      <td>1456153488644362243</td>\n",
              "      <td>jiil3r</td>\n",
              "      <td>حجز العمرة #اعتمرنا</td>\n",
              "      <td>#اعتمرنا نسعد بخدمتكم في اصدار تصاريح لكل مما ...</td>\n",
              "      <td>2021-11-04T06:57:00+00:00</td>\n",
              "      <td>0</td>\n",
              "      <td>0</td>\n",
              "    </tr>\n",
              "    <tr>\n",
              "      <th>2</th>\n",
              "      <td>1456151700822241284</td>\n",
              "      <td>eatmarna14</td>\n",
              "      <td>حجز تصاريح عمره #اعتمرنا</td>\n",
              "      <td>من حجوزاتي الان صلاة الروضة الشريفة ليوم الجمع...</td>\n",
              "      <td>2021-11-04T06:49:54+00:00</td>\n",
              "      <td>0</td>\n",
              "      <td>0</td>\n",
              "    </tr>\n",
              "    <tr>\n",
              "      <th>3</th>\n",
              "      <td>1456149271984680960</td>\n",
              "      <td>jiil3r</td>\n",
              "      <td>حجز العمرة #اعتمرنا</td>\n",
              "      <td>اصدار تصريح 🟢.\\nنستخرج لكم تصاريح من تطبيق اعت...</td>\n",
              "      <td>2021-11-04T06:40:15+00:00</td>\n",
              "      <td>0</td>\n",
              "      <td>0</td>\n",
              "    </tr>\n",
              "    <tr>\n",
              "      <th>4</th>\n",
              "      <td>1456147951710052354</td>\n",
              "      <td>9__Rema</td>\n",
              "      <td>ريما</td>\n",
              "      <td>#الاتحاد_الفتح\\nاللي يبي حجز عمره أو صلاه أو ز...</td>\n",
              "      <td>2021-11-04T06:35:00+00:00</td>\n",
              "      <td>0</td>\n",
              "      <td>0</td>\n",
              "    </tr>\n",
              "  </tbody>\n",
              "</table>\n",
              "</div>"
            ],
            "text/plain": [
              "                    id   @username  ... retweets likes\n",
              "0  1456153547188445185      jiil3r  ...        0     0\n",
              "1  1456153488644362243      jiil3r  ...        0     0\n",
              "2  1456151700822241284  eatmarna14  ...        0     0\n",
              "3  1456149271984680960      jiil3r  ...        0     0\n",
              "4  1456147951710052354     9__Rema  ...        0     0\n",
              "\n",
              "[5 rows x 7 columns]"
            ]
          },
          "metadata": {},
          "execution_count": 7
        }
      ]
    },
    {
      "cell_type": "code",
      "metadata": {
        "id": "AxD6zqSC-8F3",
        "colab": {
          "base_uri": "https://localhost:8080/"
        },
        "outputId": "6919021d-9ab2-4b5b-9dc5-03e7d51c8b60"
      },
      "source": [
        "# explore the data type at each series\n",
        "Data.info()"
      ],
      "execution_count": 8,
      "outputs": [
        {
          "output_type": "stream",
          "name": "stdout",
          "text": [
            "<class 'pandas.core.frame.DataFrame'>\n",
            "RangeIndex: 27870 entries, 0 to 27869\n",
            "Data columns (total 7 columns):\n",
            " #   Column        Non-Null Count  Dtype \n",
            "---  ------        --------------  ----- \n",
            " 0   id            27870 non-null  int64 \n",
            " 1   @username     27870 non-null  object\n",
            " 2   display name  27865 non-null  object\n",
            " 3   text          27870 non-null  object\n",
            " 4   date          27870 non-null  object\n",
            " 5   retweets      27870 non-null  int64 \n",
            " 6   likes         27870 non-null  int64 \n",
            "dtypes: int64(3), object(4)\n",
            "memory usage: 1.5+ MB\n"
          ]
        }
      ]
    },
    {
      "cell_type": "code",
      "metadata": {
        "id": "nacgIkrs-8Rt",
        "colab": {
          "base_uri": "https://localhost:8080/"
        },
        "outputId": "d806700c-645f-4913-fdec-21ecbb5dafbb"
      },
      "source": [
        "# check to null values \n",
        "Data.isna().sum()"
      ],
      "execution_count": 9,
      "outputs": [
        {
          "output_type": "execute_result",
          "data": {
            "text/plain": [
              "id              0\n",
              "@username       0\n",
              "display name    5\n",
              "text            0\n",
              "date            0\n",
              "retweets        0\n",
              "likes           0\n",
              "dtype: int64"
            ]
          },
          "metadata": {},
          "execution_count": 9
        }
      ]
    },
    {
      "cell_type": "markdown",
      "metadata": {
        "id": "Xd_I6viOALFJ"
      },
      "source": [
        "# **Clean** **the** **data**"
      ]
    },
    {
      "cell_type": "code",
      "metadata": {
        "id": "ZwTzAsHE-8Xf",
        "colab": {
          "base_uri": "https://localhost:8080/",
          "height": 204
        },
        "outputId": "3a2f8d2f-02df-456b-898f-85f628e38e8f"
      },
      "source": [
        "#Remove duplicate tweets\n",
        "Data.drop_duplicates(subset = \"text\", keep = False, inplace = True)\n",
        "Data.head(5)"
      ],
      "execution_count": 10,
      "outputs": [
        {
          "output_type": "execute_result",
          "data": {
            "text/html": [
              "<div>\n",
              "<style scoped>\n",
              "    .dataframe tbody tr th:only-of-type {\n",
              "        vertical-align: middle;\n",
              "    }\n",
              "\n",
              "    .dataframe tbody tr th {\n",
              "        vertical-align: top;\n",
              "    }\n",
              "\n",
              "    .dataframe thead th {\n",
              "        text-align: right;\n",
              "    }\n",
              "</style>\n",
              "<table border=\"1\" class=\"dataframe\">\n",
              "  <thead>\n",
              "    <tr style=\"text-align: right;\">\n",
              "      <th></th>\n",
              "      <th>id</th>\n",
              "      <th>@username</th>\n",
              "      <th>display name</th>\n",
              "      <th>text</th>\n",
              "      <th>date</th>\n",
              "      <th>retweets</th>\n",
              "      <th>likes</th>\n",
              "    </tr>\n",
              "  </thead>\n",
              "  <tbody>\n",
              "    <tr>\n",
              "      <th>0</th>\n",
              "      <td>1456153547188445185</td>\n",
              "      <td>jiil3r</td>\n",
              "      <td>حجز العمرة #اعتمرنا</td>\n",
              "      <td>#اعتمرنا اصدار تصريح 🛑.\\nمتوفر حجز تصاريح \\nال...</td>\n",
              "      <td>2021-11-04T06:57:14+00:00</td>\n",
              "      <td>0</td>\n",
              "      <td>0</td>\n",
              "    </tr>\n",
              "    <tr>\n",
              "      <th>2</th>\n",
              "      <td>1456151700822241284</td>\n",
              "      <td>eatmarna14</td>\n",
              "      <td>حجز تصاريح عمره #اعتمرنا</td>\n",
              "      <td>من حجوزاتي الان صلاة الروضة الشريفة ليوم الجمع...</td>\n",
              "      <td>2021-11-04T06:49:54+00:00</td>\n",
              "      <td>0</td>\n",
              "      <td>0</td>\n",
              "    </tr>\n",
              "    <tr>\n",
              "      <th>3</th>\n",
              "      <td>1456149271984680960</td>\n",
              "      <td>jiil3r</td>\n",
              "      <td>حجز العمرة #اعتمرنا</td>\n",
              "      <td>اصدار تصريح 🟢.\\nنستخرج لكم تصاريح من تطبيق اعت...</td>\n",
              "      <td>2021-11-04T06:40:15+00:00</td>\n",
              "      <td>0</td>\n",
              "      <td>0</td>\n",
              "    </tr>\n",
              "    <tr>\n",
              "      <th>4</th>\n",
              "      <td>1456147951710052354</td>\n",
              "      <td>9__Rema</td>\n",
              "      <td>ريما</td>\n",
              "      <td>#الاتحاد_الفتح\\nاللي يبي حجز عمره أو صلاه أو ز...</td>\n",
              "      <td>2021-11-04T06:35:00+00:00</td>\n",
              "      <td>0</td>\n",
              "      <td>0</td>\n",
              "    </tr>\n",
              "    <tr>\n",
              "      <th>5</th>\n",
              "      <td>1456147896798167044</td>\n",
              "      <td>9__Rema</td>\n",
              "      <td>ريما</td>\n",
              "      <td>#كفر_قوي\\nاللي يبي حجز عمره أو صلاه أو زياره ا...</td>\n",
              "      <td>2021-11-04T06:34:47+00:00</td>\n",
              "      <td>0</td>\n",
              "      <td>0</td>\n",
              "    </tr>\n",
              "  </tbody>\n",
              "</table>\n",
              "</div>"
            ],
            "text/plain": [
              "                    id   @username  ... retweets likes\n",
              "0  1456153547188445185      jiil3r  ...        0     0\n",
              "2  1456151700822241284  eatmarna14  ...        0     0\n",
              "3  1456149271984680960      jiil3r  ...        0     0\n",
              "4  1456147951710052354     9__Rema  ...        0     0\n",
              "5  1456147896798167044     9__Rema  ...        0     0\n",
              "\n",
              "[5 rows x 7 columns]"
            ]
          },
          "metadata": {},
          "execution_count": 10
        }
      ]
    },
    {
      "cell_type": "code",
      "metadata": {
        "id": "zVAYAhXr-8aw",
        "colab": {
          "base_uri": "https://localhost:8080/"
        },
        "outputId": "2bc610a3-b03b-4195-fca5-c5b5eef71db1"
      },
      "source": [
        "# how much data do I have after removing duplicated tweets?\n",
        "len(Data)"
      ],
      "execution_count": 11,
      "outputs": [
        {
          "output_type": "execute_result",
          "data": {
            "text/plain": [
              "24632"
            ]
          },
          "metadata": {},
          "execution_count": 11
        }
      ]
    },
    {
      "cell_type": "code",
      "metadata": {
        "id": "g3IwwgehAlhm"
      },
      "source": [
        "# Removing mentions and links from tweets\n",
        "Data['text']=Data['text'].str.replace(\"(@[A-Za-z0-9_-]+)|(#[A-Za-z0-9_-]+)|http\\S+\", \"\")"
      ],
      "execution_count": 12,
      "outputs": []
    },
    {
      "cell_type": "code",
      "metadata": {
        "id": "qPrzu_caAlkZ"
      },
      "source": [
        "# Removing hashtags and new lines from tweets\n",
        "def processPost(tweet):\n",
        "    #Replace #word with word\n",
        "    tweet = re.sub(r'#([^\\s]+)', r'\\1', tweet)\n",
        "    \n",
        "    #Remove new lines with white space\n",
        "    tweet = tweet.replace('\\n',' ')\n",
        "    tweet = tweet.replace('\\t',' ')\n",
        "    tweet = tweet.replace('_',' ')\n",
        "    tweet = tweet.replace('\\r',' ')\n",
        "        \n",
        "    return tweet"
      ],
      "execution_count": 13,
      "outputs": []
    },
    {
      "cell_type": "code",
      "metadata": {
        "id": "AN-GqPYeAlnO",
        "colab": {
          "base_uri": "https://localhost:8080/",
          "height": 204
        },
        "outputId": "a827e823-019f-4c3c-ca9d-f46ae779b869"
      },
      "source": [
        "Data[\"text\"] = Data['text'].apply(lambda x: processPost(x))\n",
        "Data.head(5)"
      ],
      "execution_count": 14,
      "outputs": [
        {
          "output_type": "execute_result",
          "data": {
            "text/html": [
              "<div>\n",
              "<style scoped>\n",
              "    .dataframe tbody tr th:only-of-type {\n",
              "        vertical-align: middle;\n",
              "    }\n",
              "\n",
              "    .dataframe tbody tr th {\n",
              "        vertical-align: top;\n",
              "    }\n",
              "\n",
              "    .dataframe thead th {\n",
              "        text-align: right;\n",
              "    }\n",
              "</style>\n",
              "<table border=\"1\" class=\"dataframe\">\n",
              "  <thead>\n",
              "    <tr style=\"text-align: right;\">\n",
              "      <th></th>\n",
              "      <th>id</th>\n",
              "      <th>@username</th>\n",
              "      <th>display name</th>\n",
              "      <th>text</th>\n",
              "      <th>date</th>\n",
              "      <th>retweets</th>\n",
              "      <th>likes</th>\n",
              "    </tr>\n",
              "  </thead>\n",
              "  <tbody>\n",
              "    <tr>\n",
              "      <th>0</th>\n",
              "      <td>1456153547188445185</td>\n",
              "      <td>jiil3r</td>\n",
              "      <td>حجز العمرة #اعتمرنا</td>\n",
              "      <td>اعتمرنا اصدار تصريح 🛑. متوفر حجز تصاريح  العمر...</td>\n",
              "      <td>2021-11-04T06:57:14+00:00</td>\n",
              "      <td>0</td>\n",
              "      <td>0</td>\n",
              "    </tr>\n",
              "    <tr>\n",
              "      <th>2</th>\n",
              "      <td>1456151700822241284</td>\n",
              "      <td>eatmarna14</td>\n",
              "      <td>حجز تصاريح عمره #اعتمرنا</td>\n",
              "      <td>من حجوزاتي الان صلاة الروضة الشريفة ليوم الجمع...</td>\n",
              "      <td>2021-11-04T06:49:54+00:00</td>\n",
              "      <td>0</td>\n",
              "      <td>0</td>\n",
              "    </tr>\n",
              "    <tr>\n",
              "      <th>3</th>\n",
              "      <td>1456149271984680960</td>\n",
              "      <td>jiil3r</td>\n",
              "      <td>حجز العمرة #اعتمرنا</td>\n",
              "      <td>اصدار تصريح 🟢. نستخرج لكم تصاريح من تطبيق اعتم...</td>\n",
              "      <td>2021-11-04T06:40:15+00:00</td>\n",
              "      <td>0</td>\n",
              "      <td>0</td>\n",
              "    </tr>\n",
              "    <tr>\n",
              "      <th>4</th>\n",
              "      <td>1456147951710052354</td>\n",
              "      <td>9__Rema</td>\n",
              "      <td>ريما</td>\n",
              "      <td>الاتحاد الفتح اللي يبي حجز عمره أو صلاه أو زيا...</td>\n",
              "      <td>2021-11-04T06:35:00+00:00</td>\n",
              "      <td>0</td>\n",
              "      <td>0</td>\n",
              "    </tr>\n",
              "    <tr>\n",
              "      <th>5</th>\n",
              "      <td>1456147896798167044</td>\n",
              "      <td>9__Rema</td>\n",
              "      <td>ريما</td>\n",
              "      <td>كفر قوي اللي يبي حجز عمره أو صلاه أو زياره الي...</td>\n",
              "      <td>2021-11-04T06:34:47+00:00</td>\n",
              "      <td>0</td>\n",
              "      <td>0</td>\n",
              "    </tr>\n",
              "  </tbody>\n",
              "</table>\n",
              "</div>"
            ],
            "text/plain": [
              "                    id   @username  ... retweets likes\n",
              "0  1456153547188445185      jiil3r  ...        0     0\n",
              "2  1456151700822241284  eatmarna14  ...        0     0\n",
              "3  1456149271984680960      jiil3r  ...        0     0\n",
              "4  1456147951710052354     9__Rema  ...        0     0\n",
              "5  1456147896798167044     9__Rema  ...        0     0\n",
              "\n",
              "[5 rows x 7 columns]"
            ]
          },
          "metadata": {},
          "execution_count": 14
        }
      ]
    },
    {
      "cell_type": "code",
      "metadata": {
        "id": "3A1qrs8qAlqC"
      },
      "source": [
        "# remove punctuations علامات الترقيم  \n",
        "arabic_punctuations = '''`÷×؛<>_()*&^%][ـ،/:\"؟.,'{}~¦+|!”…“–ـ'''\n",
        "english_punctuations = string.punctuation\n",
        "punctuations_list = arabic_punctuations + english_punctuations\n",
        "\n",
        "def remove_punctuations(text):\n",
        "    translator = str.maketrans('', '', punctuations_list)\n",
        "    return text.translate(translator)"
      ],
      "execution_count": 15,
      "outputs": []
    },
    {
      "cell_type": "code",
      "metadata": {
        "id": "2W60k7-KDgs0"
      },
      "source": [
        "def normalize_arabic(text):\n",
        "    text = re.sub(\"[إأآا]\", \"ا\", text)\n",
        "    text = re.sub(\"ى\", \"ي\", text)\n",
        "    text = re.sub(\"ة\", \"ه\", text)\n",
        "    text = re.sub(\"گ\", \"ك\", text)\n",
        "    return text"
      ],
      "execution_count": 16,
      "outputs": []
    },
    {
      "cell_type": "code",
      "metadata": {
        "id": "jn_89BrVDl9v"
      },
      "source": [
        "# remove repeated letters\n",
        "def remove_repeating_char(text):\n",
        "    return re.sub(r'(.)\\1+', r'\\1', text)"
      ],
      "execution_count": 17,
      "outputs": []
    },
    {
      "cell_type": "code",
      "metadata": {
        "id": "3mJadnJIDuhk"
      },
      "source": [
        "#start processing the tweet\n",
        "def processPost(tweet):\n",
        "\n",
        "    #Replace @username with empty string\n",
        "    tweet = re.sub('@[^\\s]+', ' ', tweet)\n",
        "    \n",
        "    #Convert www.* or https?://* to \" \"\n",
        "    tweet = re.sub('((www\\.[^\\s]+)|(https://[^\\s]+))',' ',tweet)\n",
        "    \n",
        "    #Replace #word with word\n",
        "    tweet = re.sub(r'#([^\\s]+)', r'\\1', tweet)\n",
        "\n",
        "    # remove punctuations\n",
        "    tweet= remove_punctuations(tweet)\n",
        "    \n",
        "    # normalize the tweet\n",
        "    tweet= normalize_arabic(tweet)\n",
        "    \n",
        "    # remove repeated letters\n",
        "    tweet=remove_repeating_char(tweet)\n",
        "\n",
        "    #Remove new lines with white space\n",
        "    tweet = tweet.replace('\\n',' ')\n",
        "    tweet = tweet.replace('\\t',' ')\n",
        "    #tweet = tweet.encode('ascii', 'ignore').decode('ascii')\n",
        "        \n",
        "    return tweet\n",
        "        "
      ],
      "execution_count": 18,
      "outputs": []
    },
    {
      "cell_type": "code",
      "metadata": {
        "id": "8tarlkywAls-",
        "colab": {
          "base_uri": "https://localhost:8080/",
          "height": 306
        },
        "outputId": "d7e5b4ff-bd7b-46cd-bb25-b1fd822b7bb7"
      },
      "source": [
        "# apply the method in all the text and create another cloumn with the processed text\n",
        "Data[\"clean text\"] = Data['text'].apply(lambda x: processPost(x))\n",
        "Data.head(5)"
      ],
      "execution_count": 19,
      "outputs": [
        {
          "output_type": "execute_result",
          "data": {
            "text/html": [
              "<div>\n",
              "<style scoped>\n",
              "    .dataframe tbody tr th:only-of-type {\n",
              "        vertical-align: middle;\n",
              "    }\n",
              "\n",
              "    .dataframe tbody tr th {\n",
              "        vertical-align: top;\n",
              "    }\n",
              "\n",
              "    .dataframe thead th {\n",
              "        text-align: right;\n",
              "    }\n",
              "</style>\n",
              "<table border=\"1\" class=\"dataframe\">\n",
              "  <thead>\n",
              "    <tr style=\"text-align: right;\">\n",
              "      <th></th>\n",
              "      <th>id</th>\n",
              "      <th>@username</th>\n",
              "      <th>display name</th>\n",
              "      <th>text</th>\n",
              "      <th>date</th>\n",
              "      <th>retweets</th>\n",
              "      <th>likes</th>\n",
              "      <th>clean text</th>\n",
              "    </tr>\n",
              "  </thead>\n",
              "  <tbody>\n",
              "    <tr>\n",
              "      <th>0</th>\n",
              "      <td>1456153547188445185</td>\n",
              "      <td>jiil3r</td>\n",
              "      <td>حجز العمرة #اعتمرنا</td>\n",
              "      <td>اعتمرنا اصدار تصريح 🛑. متوفر حجز تصاريح  العمر...</td>\n",
              "      <td>2021-11-04T06:57:14+00:00</td>\n",
              "      <td>0</td>\n",
              "      <td>0</td>\n",
              "      <td>اعتمرنا اصدار تصريح 🛑 متوفر حجز تصاريح العمره📍...</td>\n",
              "    </tr>\n",
              "    <tr>\n",
              "      <th>2</th>\n",
              "      <td>1456151700822241284</td>\n",
              "      <td>eatmarna14</td>\n",
              "      <td>حجز تصاريح عمره #اعتمرنا</td>\n",
              "      <td>من حجوزاتي الان صلاة الروضة الشريفة ليوم الجمع...</td>\n",
              "      <td>2021-11-04T06:49:54+00:00</td>\n",
              "      <td>0</td>\n",
              "      <td>0</td>\n",
              "      <td>من حجوزاتي الان صلاه الروضه الشريفه ليوم الجمع...</td>\n",
              "    </tr>\n",
              "    <tr>\n",
              "      <th>3</th>\n",
              "      <td>1456149271984680960</td>\n",
              "      <td>jiil3r</td>\n",
              "      <td>حجز العمرة #اعتمرنا</td>\n",
              "      <td>اصدار تصريح 🟢. نستخرج لكم تصاريح من تطبيق اعتم...</td>\n",
              "      <td>2021-11-04T06:40:15+00:00</td>\n",
              "      <td>0</td>\n",
              "      <td>0</td>\n",
              "      <td>اصدار تصريح 🟢 نستخرج لكم تصاريح من تطبيق اعتمر...</td>\n",
              "    </tr>\n",
              "    <tr>\n",
              "      <th>4</th>\n",
              "      <td>1456147951710052354</td>\n",
              "      <td>9__Rema</td>\n",
              "      <td>ريما</td>\n",
              "      <td>الاتحاد الفتح اللي يبي حجز عمره أو صلاه أو زيا...</td>\n",
              "      <td>2021-11-04T06:35:00+00:00</td>\n",
              "      <td>0</td>\n",
              "      <td>0</td>\n",
              "      <td>الاتحاد الفتح الي يبي حجز عمره او صلاه او زيار...</td>\n",
              "    </tr>\n",
              "    <tr>\n",
              "      <th>5</th>\n",
              "      <td>1456147896798167044</td>\n",
              "      <td>9__Rema</td>\n",
              "      <td>ريما</td>\n",
              "      <td>كفر قوي اللي يبي حجز عمره أو صلاه أو زياره الي...</td>\n",
              "      <td>2021-11-04T06:34:47+00:00</td>\n",
              "      <td>0</td>\n",
              "      <td>0</td>\n",
              "      <td>كفر قوي الي يبي حجز عمره او صلاه او زياره اليو...</td>\n",
              "    </tr>\n",
              "  </tbody>\n",
              "</table>\n",
              "</div>"
            ],
            "text/plain": [
              "                    id  ...                                         clean text\n",
              "0  1456153547188445185  ...  اعتمرنا اصدار تصريح 🛑 متوفر حجز تصاريح العمره📍...\n",
              "2  1456151700822241284  ...  من حجوزاتي الان صلاه الروضه الشريفه ليوم الجمع...\n",
              "3  1456149271984680960  ...  اصدار تصريح 🟢 نستخرج لكم تصاريح من تطبيق اعتمر...\n",
              "4  1456147951710052354  ...  الاتحاد الفتح الي يبي حجز عمره او صلاه او زيار...\n",
              "5  1456147896798167044  ...  كفر قوي الي يبي حجز عمره او صلاه او زياره اليو...\n",
              "\n",
              "[5 rows x 8 columns]"
            ]
          },
          "metadata": {},
          "execution_count": 19
        }
      ]
    },
    {
      "cell_type": "code",
      "metadata": {
        "id": "oViEE5wQAlvs",
        "colab": {
          "base_uri": "https://localhost:8080/"
        },
        "outputId": "a517cfe5-692d-4df9-da04-40a315d68d52"
      },
      "source": [
        "#Remove Arabic stop words from the tweets\n",
        "#importing nltk library\n",
        "import nltk\n",
        "nltk.download('stopwords')\n",
        "from nltk.corpus import stopwords\n",
        "ar_stops = set(stopwords.words('arabic'))"
      ],
      "execution_count": 20,
      "outputs": [
        {
          "output_type": "stream",
          "name": "stdout",
          "text": [
            "[nltk_data] Downloading package stopwords to /root/nltk_data...\n",
            "[nltk_data]   Unzipping corpora/stopwords.zip.\n"
          ]
        }
      ]
    },
    {
      "cell_type": "code",
      "metadata": {
        "id": "AP58I-ZBAly-"
      },
      "source": [
        "# remove Arabic stop words from the tweets\n",
        "for word in Data['text']:\n",
        "    if word in ar_stops:        \n",
        "        words_filtered.remove(word)"
      ],
      "execution_count": 21,
      "outputs": []
    },
    {
      "cell_type": "code",
      "metadata": {
        "id": "YdOSVV2XAl2V",
        "colab": {
          "base_uri": "https://localhost:8080/"
        },
        "outputId": "970b81b4-5419-4f0d-ff80-8052bd8b821f"
      },
      "source": [
        "# Tokenizing the column 'text'\n",
        "Data.dropna(subset = [\"clean text\"], inplace=True)\n",
        "tokenizer = RegexpTokenizer(r'\\w+')\n",
        "Data[\"tokens\"] = Data[\"clean text\"].apply(tokenizer.tokenize)\n",
        "all_words = [word for tokens in Data[\"tokens\"] for word in tokens]\n",
        "sentence_lengths = [len(tokens) for tokens in Data [\"tokens\"]]\n",
        "VOCAB = sorted(list(set(all_words)))\n",
        "print(\"%s words total, with a vocabulary size of %s\" % (len(all_words), len(VOCAB)))\n",
        "print(\"Max sentence length is %s\" % max(sentence_lengths))\n",
        "\n",
        "                                          "
      ],
      "execution_count": 22,
      "outputs": [
        {
          "output_type": "stream",
          "name": "stdout",
          "text": [
            "508017 words total, with a vocabulary size of 22573\n",
            "Max sentence length is 95\n"
          ]
        }
      ]
    },
    {
      "cell_type": "code",
      "metadata": {
        "id": "MMhGSKBGBxw6",
        "colab": {
          "base_uri": "https://localhost:8080/",
          "height": 391
        },
        "outputId": "1b512721-545b-4a4a-eda3-f9bb0dbd9e46"
      },
      "source": [
        "Data.head(5)"
      ],
      "execution_count": 23,
      "outputs": [
        {
          "output_type": "execute_result",
          "data": {
            "text/html": [
              "<div>\n",
              "<style scoped>\n",
              "    .dataframe tbody tr th:only-of-type {\n",
              "        vertical-align: middle;\n",
              "    }\n",
              "\n",
              "    .dataframe tbody tr th {\n",
              "        vertical-align: top;\n",
              "    }\n",
              "\n",
              "    .dataframe thead th {\n",
              "        text-align: right;\n",
              "    }\n",
              "</style>\n",
              "<table border=\"1\" class=\"dataframe\">\n",
              "  <thead>\n",
              "    <tr style=\"text-align: right;\">\n",
              "      <th></th>\n",
              "      <th>id</th>\n",
              "      <th>@username</th>\n",
              "      <th>display name</th>\n",
              "      <th>text</th>\n",
              "      <th>date</th>\n",
              "      <th>retweets</th>\n",
              "      <th>likes</th>\n",
              "      <th>clean text</th>\n",
              "      <th>tokens</th>\n",
              "    </tr>\n",
              "  </thead>\n",
              "  <tbody>\n",
              "    <tr>\n",
              "      <th>0</th>\n",
              "      <td>1456153547188445185</td>\n",
              "      <td>jiil3r</td>\n",
              "      <td>حجز العمرة #اعتمرنا</td>\n",
              "      <td>اعتمرنا اصدار تصريح 🛑. متوفر حجز تصاريح  العمر...</td>\n",
              "      <td>2021-11-04T06:57:14+00:00</td>\n",
              "      <td>0</td>\n",
              "      <td>0</td>\n",
              "      <td>اعتمرنا اصدار تصريح 🛑 متوفر حجز تصاريح العمره📍...</td>\n",
              "      <td>[اعتمرنا, اصدار, تصريح, متوفر, حجز, تصاريح, ال...</td>\n",
              "    </tr>\n",
              "    <tr>\n",
              "      <th>2</th>\n",
              "      <td>1456151700822241284</td>\n",
              "      <td>eatmarna14</td>\n",
              "      <td>حجز تصاريح عمره #اعتمرنا</td>\n",
              "      <td>من حجوزاتي الان صلاة الروضة الشريفة ليوم الجمع...</td>\n",
              "      <td>2021-11-04T06:49:54+00:00</td>\n",
              "      <td>0</td>\n",
              "      <td>0</td>\n",
              "      <td>من حجوزاتي الان صلاه الروضه الشريفه ليوم الجمع...</td>\n",
              "      <td>[من, حجوزاتي, الان, صلاه, الروضه, الشريفه, ليو...</td>\n",
              "    </tr>\n",
              "    <tr>\n",
              "      <th>3</th>\n",
              "      <td>1456149271984680960</td>\n",
              "      <td>jiil3r</td>\n",
              "      <td>حجز العمرة #اعتمرنا</td>\n",
              "      <td>اصدار تصريح 🟢. نستخرج لكم تصاريح من تطبيق اعتم...</td>\n",
              "      <td>2021-11-04T06:40:15+00:00</td>\n",
              "      <td>0</td>\n",
              "      <td>0</td>\n",
              "      <td>اصدار تصريح 🟢 نستخرج لكم تصاريح من تطبيق اعتمر...</td>\n",
              "      <td>[اصدار, تصريح, نستخرج, لكم, تصاريح, من, تطبيق,...</td>\n",
              "    </tr>\n",
              "    <tr>\n",
              "      <th>4</th>\n",
              "      <td>1456147951710052354</td>\n",
              "      <td>9__Rema</td>\n",
              "      <td>ريما</td>\n",
              "      <td>الاتحاد الفتح اللي يبي حجز عمره أو صلاه أو زيا...</td>\n",
              "      <td>2021-11-04T06:35:00+00:00</td>\n",
              "      <td>0</td>\n",
              "      <td>0</td>\n",
              "      <td>الاتحاد الفتح الي يبي حجز عمره او صلاه او زيار...</td>\n",
              "      <td>[الاتحاد, الفتح, الي, يبي, حجز, عمره, او, صلاه...</td>\n",
              "    </tr>\n",
              "    <tr>\n",
              "      <th>5</th>\n",
              "      <td>1456147896798167044</td>\n",
              "      <td>9__Rema</td>\n",
              "      <td>ريما</td>\n",
              "      <td>كفر قوي اللي يبي حجز عمره أو صلاه أو زياره الي...</td>\n",
              "      <td>2021-11-04T06:34:47+00:00</td>\n",
              "      <td>0</td>\n",
              "      <td>0</td>\n",
              "      <td>كفر قوي الي يبي حجز عمره او صلاه او زياره اليو...</td>\n",
              "      <td>[كفر, قوي, الي, يبي, حجز, عمره, او, صلاه, او, ...</td>\n",
              "    </tr>\n",
              "  </tbody>\n",
              "</table>\n",
              "</div>"
            ],
            "text/plain": [
              "                    id  ...                                             tokens\n",
              "0  1456153547188445185  ...  [اعتمرنا, اصدار, تصريح, متوفر, حجز, تصاريح, ال...\n",
              "2  1456151700822241284  ...  [من, حجوزاتي, الان, صلاه, الروضه, الشريفه, ليو...\n",
              "3  1456149271984680960  ...  [اصدار, تصريح, نستخرج, لكم, تصاريح, من, تطبيق,...\n",
              "4  1456147951710052354  ...  [الاتحاد, الفتح, الي, يبي, حجز, عمره, او, صلاه...\n",
              "5  1456147896798167044  ...  [كفر, قوي, الي, يبي, حجز, عمره, او, صلاه, او, ...\n",
              "\n",
              "[5 rows x 9 columns]"
            ]
          },
          "metadata": {},
          "execution_count": 23
        }
      ]
    },
    {
      "cell_type": "code",
      "metadata": {
        "id": "KInWa9BtBx0C",
        "colab": {
          "base_uri": "https://localhost:8080/"
        },
        "outputId": "0bcd28c3-547a-406f-bc2a-0710de3225fb"
      },
      "source": [
        "print(Data.shape)"
      ],
      "execution_count": 24,
      "outputs": [
        {
          "output_type": "stream",
          "name": "stdout",
          "text": [
            "(24632, 9)\n"
          ]
        }
      ]
    },
    {
      "cell_type": "code",
      "metadata": {
        "id": "o6bHtAwUBx3S",
        "colab": {
          "base_uri": "https://localhost:8080/"
        },
        "outputId": "b1b95ca6-6042-46b5-a763-ac06a831511f"
      },
      "source": [
        "Data.columns"
      ],
      "execution_count": 25,
      "outputs": [
        {
          "output_type": "execute_result",
          "data": {
            "text/plain": [
              "Index(['id', '@username', 'display name', 'text', 'date', 'retweets', 'likes',\n",
              "       'clean text', 'tokens'],\n",
              "      dtype='object')"
            ]
          },
          "metadata": {},
          "execution_count": 25
        }
      ]
    },
    {
      "cell_type": "markdown",
      "metadata": {
        "id": "rQIg7JcP62a6"
      },
      "source": [
        "# **Labelling** **the** **data**\n",
        "Analysis on the \"text\" column to one of the classes (Positive, Negative, Neutral) "
      ]
    },
    {
      "cell_type": "code",
      "metadata": {
        "id": "u--y4xPuBx6_",
        "colab": {
          "base_uri": "https://localhost:8080/"
        },
        "outputId": "35743d6b-9bcf-410e-b9e8-e7e6183224c7"
      },
      "source": [
        "import nltk\n",
        "nltk.download('vader_lexicon')\n",
        "from nltk.sentiment.vader import SentimentIntensityAnalyzer\n",
        "\n",
        "analyser = SentimentIntensityAnalyzer()"
      ],
      "execution_count": 26,
      "outputs": [
        {
          "output_type": "stream",
          "name": "stdout",
          "text": [
            "[nltk_data] Downloading package vader_lexicon to /root/nltk_data...\n"
          ]
        },
        {
          "output_type": "stream",
          "name": "stderr",
          "text": [
            "/usr/local/lib/python3.7/dist-packages/nltk/twitter/__init__.py:20: UserWarning: The twython library has not been installed. Some functionality from the twitter package will not be available.\n",
            "  warnings.warn(\"The twython library has not been installed. \"\n"
          ]
        }
      ]
    },
    {
      "cell_type": "code",
      "metadata": {
        "id": "w5-gh8wMBx-_"
      },
      "source": [
        "# Using polarity scores for knowing the polarity of each text\n",
        "def sentiment_analyzer_score(sentence):\n",
        "    score = analyser.polarity_scores(sentence)\n",
        "    print(\"{:-<40} {}\".format(sentence, str(score)))"
      ],
      "execution_count": 27,
      "outputs": []
    },
    {
      "cell_type": "code",
      "metadata": {
        "id": "THh_9dxoByDN",
        "colab": {
          "base_uri": "https://localhost:8080/",
          "height": 476
        },
        "outputId": "d8606d8b-1d9e-4ab6-b52c-e9a144c2e1d1"
      },
      "source": [
        "Data['scores'] = Data['clean text'].apply(lambda review: analyser.polarity_scores(review))\n",
        "Data.head(5)"
      ],
      "execution_count": 28,
      "outputs": [
        {
          "output_type": "execute_result",
          "data": {
            "text/html": [
              "<div>\n",
              "<style scoped>\n",
              "    .dataframe tbody tr th:only-of-type {\n",
              "        vertical-align: middle;\n",
              "    }\n",
              "\n",
              "    .dataframe tbody tr th {\n",
              "        vertical-align: top;\n",
              "    }\n",
              "\n",
              "    .dataframe thead th {\n",
              "        text-align: right;\n",
              "    }\n",
              "</style>\n",
              "<table border=\"1\" class=\"dataframe\">\n",
              "  <thead>\n",
              "    <tr style=\"text-align: right;\">\n",
              "      <th></th>\n",
              "      <th>id</th>\n",
              "      <th>@username</th>\n",
              "      <th>display name</th>\n",
              "      <th>text</th>\n",
              "      <th>date</th>\n",
              "      <th>retweets</th>\n",
              "      <th>likes</th>\n",
              "      <th>clean text</th>\n",
              "      <th>tokens</th>\n",
              "      <th>scores</th>\n",
              "    </tr>\n",
              "  </thead>\n",
              "  <tbody>\n",
              "    <tr>\n",
              "      <th>0</th>\n",
              "      <td>1456153547188445185</td>\n",
              "      <td>jiil3r</td>\n",
              "      <td>حجز العمرة #اعتمرنا</td>\n",
              "      <td>اعتمرنا اصدار تصريح 🛑. متوفر حجز تصاريح  العمر...</td>\n",
              "      <td>2021-11-04T06:57:14+00:00</td>\n",
              "      <td>0</td>\n",
              "      <td>0</td>\n",
              "      <td>اعتمرنا اصدار تصريح 🛑 متوفر حجز تصاريح العمره📍...</td>\n",
              "      <td>[اعتمرنا, اصدار, تصريح, متوفر, حجز, تصاريح, ال...</td>\n",
              "      <td>{'neg': 0.0, 'neu': 1.0, 'pos': 0.0, 'compound...</td>\n",
              "    </tr>\n",
              "    <tr>\n",
              "      <th>2</th>\n",
              "      <td>1456151700822241284</td>\n",
              "      <td>eatmarna14</td>\n",
              "      <td>حجز تصاريح عمره #اعتمرنا</td>\n",
              "      <td>من حجوزاتي الان صلاة الروضة الشريفة ليوم الجمع...</td>\n",
              "      <td>2021-11-04T06:49:54+00:00</td>\n",
              "      <td>0</td>\n",
              "      <td>0</td>\n",
              "      <td>من حجوزاتي الان صلاه الروضه الشريفه ليوم الجمع...</td>\n",
              "      <td>[من, حجوزاتي, الان, صلاه, الروضه, الشريفه, ليو...</td>\n",
              "      <td>{'neg': 0.0, 'neu': 1.0, 'pos': 0.0, 'compound...</td>\n",
              "    </tr>\n",
              "    <tr>\n",
              "      <th>3</th>\n",
              "      <td>1456149271984680960</td>\n",
              "      <td>jiil3r</td>\n",
              "      <td>حجز العمرة #اعتمرنا</td>\n",
              "      <td>اصدار تصريح 🟢. نستخرج لكم تصاريح من تطبيق اعتم...</td>\n",
              "      <td>2021-11-04T06:40:15+00:00</td>\n",
              "      <td>0</td>\n",
              "      <td>0</td>\n",
              "      <td>اصدار تصريح 🟢 نستخرج لكم تصاريح من تطبيق اعتمر...</td>\n",
              "      <td>[اصدار, تصريح, نستخرج, لكم, تصاريح, من, تطبيق,...</td>\n",
              "      <td>{'neg': 0.0, 'neu': 1.0, 'pos': 0.0, 'compound...</td>\n",
              "    </tr>\n",
              "    <tr>\n",
              "      <th>4</th>\n",
              "      <td>1456147951710052354</td>\n",
              "      <td>9__Rema</td>\n",
              "      <td>ريما</td>\n",
              "      <td>الاتحاد الفتح اللي يبي حجز عمره أو صلاه أو زيا...</td>\n",
              "      <td>2021-11-04T06:35:00+00:00</td>\n",
              "      <td>0</td>\n",
              "      <td>0</td>\n",
              "      <td>الاتحاد الفتح الي يبي حجز عمره او صلاه او زيار...</td>\n",
              "      <td>[الاتحاد, الفتح, الي, يبي, حجز, عمره, او, صلاه...</td>\n",
              "      <td>{'neg': 0.0, 'neu': 1.0, 'pos': 0.0, 'compound...</td>\n",
              "    </tr>\n",
              "    <tr>\n",
              "      <th>5</th>\n",
              "      <td>1456147896798167044</td>\n",
              "      <td>9__Rema</td>\n",
              "      <td>ريما</td>\n",
              "      <td>كفر قوي اللي يبي حجز عمره أو صلاه أو زياره الي...</td>\n",
              "      <td>2021-11-04T06:34:47+00:00</td>\n",
              "      <td>0</td>\n",
              "      <td>0</td>\n",
              "      <td>كفر قوي الي يبي حجز عمره او صلاه او زياره اليو...</td>\n",
              "      <td>[كفر, قوي, الي, يبي, حجز, عمره, او, صلاه, او, ...</td>\n",
              "      <td>{'neg': 0.0, 'neu': 1.0, 'pos': 0.0, 'compound...</td>\n",
              "    </tr>\n",
              "  </tbody>\n",
              "</table>\n",
              "</div>"
            ],
            "text/plain": [
              "                    id  ...                                             scores\n",
              "0  1456153547188445185  ...  {'neg': 0.0, 'neu': 1.0, 'pos': 0.0, 'compound...\n",
              "2  1456151700822241284  ...  {'neg': 0.0, 'neu': 1.0, 'pos': 0.0, 'compound...\n",
              "3  1456149271984680960  ...  {'neg': 0.0, 'neu': 1.0, 'pos': 0.0, 'compound...\n",
              "4  1456147951710052354  ...  {'neg': 0.0, 'neu': 1.0, 'pos': 0.0, 'compound...\n",
              "5  1456147896798167044  ...  {'neg': 0.0, 'neu': 1.0, 'pos': 0.0, 'compound...\n",
              "\n",
              "[5 rows x 10 columns]"
            ]
          },
          "metadata": {},
          "execution_count": 28
        }
      ]
    },
    {
      "cell_type": "code",
      "metadata": {
        "id": "Os6MKv5KByHi",
        "colab": {
          "base_uri": "https://localhost:8080/",
          "height": 561
        },
        "outputId": "15c0ccdb-714b-40c4-b83f-def23c623948"
      },
      "source": [
        "Data['compound']  = Data['scores'].apply(lambda score_dict: score_dict['compound'])\n",
        "Data.head(5)"
      ],
      "execution_count": 29,
      "outputs": [
        {
          "output_type": "execute_result",
          "data": {
            "text/html": [
              "<div>\n",
              "<style scoped>\n",
              "    .dataframe tbody tr th:only-of-type {\n",
              "        vertical-align: middle;\n",
              "    }\n",
              "\n",
              "    .dataframe tbody tr th {\n",
              "        vertical-align: top;\n",
              "    }\n",
              "\n",
              "    .dataframe thead th {\n",
              "        text-align: right;\n",
              "    }\n",
              "</style>\n",
              "<table border=\"1\" class=\"dataframe\">\n",
              "  <thead>\n",
              "    <tr style=\"text-align: right;\">\n",
              "      <th></th>\n",
              "      <th>id</th>\n",
              "      <th>@username</th>\n",
              "      <th>display name</th>\n",
              "      <th>text</th>\n",
              "      <th>date</th>\n",
              "      <th>retweets</th>\n",
              "      <th>likes</th>\n",
              "      <th>clean text</th>\n",
              "      <th>tokens</th>\n",
              "      <th>scores</th>\n",
              "      <th>compound</th>\n",
              "    </tr>\n",
              "  </thead>\n",
              "  <tbody>\n",
              "    <tr>\n",
              "      <th>0</th>\n",
              "      <td>1456153547188445185</td>\n",
              "      <td>jiil3r</td>\n",
              "      <td>حجز العمرة #اعتمرنا</td>\n",
              "      <td>اعتمرنا اصدار تصريح 🛑. متوفر حجز تصاريح  العمر...</td>\n",
              "      <td>2021-11-04T06:57:14+00:00</td>\n",
              "      <td>0</td>\n",
              "      <td>0</td>\n",
              "      <td>اعتمرنا اصدار تصريح 🛑 متوفر حجز تصاريح العمره📍...</td>\n",
              "      <td>[اعتمرنا, اصدار, تصريح, متوفر, حجز, تصاريح, ال...</td>\n",
              "      <td>{'neg': 0.0, 'neu': 1.0, 'pos': 0.0, 'compound...</td>\n",
              "      <td>0.0</td>\n",
              "    </tr>\n",
              "    <tr>\n",
              "      <th>2</th>\n",
              "      <td>1456151700822241284</td>\n",
              "      <td>eatmarna14</td>\n",
              "      <td>حجز تصاريح عمره #اعتمرنا</td>\n",
              "      <td>من حجوزاتي الان صلاة الروضة الشريفة ليوم الجمع...</td>\n",
              "      <td>2021-11-04T06:49:54+00:00</td>\n",
              "      <td>0</td>\n",
              "      <td>0</td>\n",
              "      <td>من حجوزاتي الان صلاه الروضه الشريفه ليوم الجمع...</td>\n",
              "      <td>[من, حجوزاتي, الان, صلاه, الروضه, الشريفه, ليو...</td>\n",
              "      <td>{'neg': 0.0, 'neu': 1.0, 'pos': 0.0, 'compound...</td>\n",
              "      <td>0.0</td>\n",
              "    </tr>\n",
              "    <tr>\n",
              "      <th>3</th>\n",
              "      <td>1456149271984680960</td>\n",
              "      <td>jiil3r</td>\n",
              "      <td>حجز العمرة #اعتمرنا</td>\n",
              "      <td>اصدار تصريح 🟢. نستخرج لكم تصاريح من تطبيق اعتم...</td>\n",
              "      <td>2021-11-04T06:40:15+00:00</td>\n",
              "      <td>0</td>\n",
              "      <td>0</td>\n",
              "      <td>اصدار تصريح 🟢 نستخرج لكم تصاريح من تطبيق اعتمر...</td>\n",
              "      <td>[اصدار, تصريح, نستخرج, لكم, تصاريح, من, تطبيق,...</td>\n",
              "      <td>{'neg': 0.0, 'neu': 1.0, 'pos': 0.0, 'compound...</td>\n",
              "      <td>0.0</td>\n",
              "    </tr>\n",
              "    <tr>\n",
              "      <th>4</th>\n",
              "      <td>1456147951710052354</td>\n",
              "      <td>9__Rema</td>\n",
              "      <td>ريما</td>\n",
              "      <td>الاتحاد الفتح اللي يبي حجز عمره أو صلاه أو زيا...</td>\n",
              "      <td>2021-11-04T06:35:00+00:00</td>\n",
              "      <td>0</td>\n",
              "      <td>0</td>\n",
              "      <td>الاتحاد الفتح الي يبي حجز عمره او صلاه او زيار...</td>\n",
              "      <td>[الاتحاد, الفتح, الي, يبي, حجز, عمره, او, صلاه...</td>\n",
              "      <td>{'neg': 0.0, 'neu': 1.0, 'pos': 0.0, 'compound...</td>\n",
              "      <td>0.0</td>\n",
              "    </tr>\n",
              "    <tr>\n",
              "      <th>5</th>\n",
              "      <td>1456147896798167044</td>\n",
              "      <td>9__Rema</td>\n",
              "      <td>ريما</td>\n",
              "      <td>كفر قوي اللي يبي حجز عمره أو صلاه أو زياره الي...</td>\n",
              "      <td>2021-11-04T06:34:47+00:00</td>\n",
              "      <td>0</td>\n",
              "      <td>0</td>\n",
              "      <td>كفر قوي الي يبي حجز عمره او صلاه او زياره اليو...</td>\n",
              "      <td>[كفر, قوي, الي, يبي, حجز, عمره, او, صلاه, او, ...</td>\n",
              "      <td>{'neg': 0.0, 'neu': 1.0, 'pos': 0.0, 'compound...</td>\n",
              "      <td>0.0</td>\n",
              "    </tr>\n",
              "  </tbody>\n",
              "</table>\n",
              "</div>"
            ],
            "text/plain": [
              "                    id  ... compound\n",
              "0  1456153547188445185  ...      0.0\n",
              "2  1456151700822241284  ...      0.0\n",
              "3  1456149271984680960  ...      0.0\n",
              "4  1456147951710052354  ...      0.0\n",
              "5  1456147896798167044  ...      0.0\n",
              "\n",
              "[5 rows x 11 columns]"
            ]
          },
          "metadata": {},
          "execution_count": 29
        }
      ]
    },
    {
      "cell_type": "code",
      "metadata": {
        "id": "Nl5sZrgzByMY",
        "colab": {
          "base_uri": "https://localhost:8080/",
          "height": 782
        },
        "outputId": "a6cbadbc-203c-486d-a83c-da533e131281"
      },
      "source": [
        "def Sentimnt(x):\n",
        "    if x>= 0.05:\n",
        "        return \"Positive\"\n",
        "    elif x<= -0.05:\n",
        "        return \"Negative\"\n",
        "    else:\n",
        "        return \"Neutral\"\n",
        "Data['Sentiment'] = Data['compound'].apply(Sentimnt)\n",
        "Data.head(5)"
      ],
      "execution_count": 30,
      "outputs": [
        {
          "output_type": "execute_result",
          "data": {
            "text/html": [
              "<div>\n",
              "<style scoped>\n",
              "    .dataframe tbody tr th:only-of-type {\n",
              "        vertical-align: middle;\n",
              "    }\n",
              "\n",
              "    .dataframe tbody tr th {\n",
              "        vertical-align: top;\n",
              "    }\n",
              "\n",
              "    .dataframe thead th {\n",
              "        text-align: right;\n",
              "    }\n",
              "</style>\n",
              "<table border=\"1\" class=\"dataframe\">\n",
              "  <thead>\n",
              "    <tr style=\"text-align: right;\">\n",
              "      <th></th>\n",
              "      <th>id</th>\n",
              "      <th>@username</th>\n",
              "      <th>display name</th>\n",
              "      <th>text</th>\n",
              "      <th>date</th>\n",
              "      <th>retweets</th>\n",
              "      <th>likes</th>\n",
              "      <th>clean text</th>\n",
              "      <th>tokens</th>\n",
              "      <th>scores</th>\n",
              "      <th>compound</th>\n",
              "      <th>Sentiment</th>\n",
              "    </tr>\n",
              "  </thead>\n",
              "  <tbody>\n",
              "    <tr>\n",
              "      <th>0</th>\n",
              "      <td>1456153547188445185</td>\n",
              "      <td>jiil3r</td>\n",
              "      <td>حجز العمرة #اعتمرنا</td>\n",
              "      <td>اعتمرنا اصدار تصريح 🛑. متوفر حجز تصاريح  العمر...</td>\n",
              "      <td>2021-11-04T06:57:14+00:00</td>\n",
              "      <td>0</td>\n",
              "      <td>0</td>\n",
              "      <td>اعتمرنا اصدار تصريح 🛑 متوفر حجز تصاريح العمره📍...</td>\n",
              "      <td>[اعتمرنا, اصدار, تصريح, متوفر, حجز, تصاريح, ال...</td>\n",
              "      <td>{'neg': 0.0, 'neu': 1.0, 'pos': 0.0, 'compound...</td>\n",
              "      <td>0.0</td>\n",
              "      <td>Neutral</td>\n",
              "    </tr>\n",
              "    <tr>\n",
              "      <th>2</th>\n",
              "      <td>1456151700822241284</td>\n",
              "      <td>eatmarna14</td>\n",
              "      <td>حجز تصاريح عمره #اعتمرنا</td>\n",
              "      <td>من حجوزاتي الان صلاة الروضة الشريفة ليوم الجمع...</td>\n",
              "      <td>2021-11-04T06:49:54+00:00</td>\n",
              "      <td>0</td>\n",
              "      <td>0</td>\n",
              "      <td>من حجوزاتي الان صلاه الروضه الشريفه ليوم الجمع...</td>\n",
              "      <td>[من, حجوزاتي, الان, صلاه, الروضه, الشريفه, ليو...</td>\n",
              "      <td>{'neg': 0.0, 'neu': 1.0, 'pos': 0.0, 'compound...</td>\n",
              "      <td>0.0</td>\n",
              "      <td>Neutral</td>\n",
              "    </tr>\n",
              "    <tr>\n",
              "      <th>3</th>\n",
              "      <td>1456149271984680960</td>\n",
              "      <td>jiil3r</td>\n",
              "      <td>حجز العمرة #اعتمرنا</td>\n",
              "      <td>اصدار تصريح 🟢. نستخرج لكم تصاريح من تطبيق اعتم...</td>\n",
              "      <td>2021-11-04T06:40:15+00:00</td>\n",
              "      <td>0</td>\n",
              "      <td>0</td>\n",
              "      <td>اصدار تصريح 🟢 نستخرج لكم تصاريح من تطبيق اعتمر...</td>\n",
              "      <td>[اصدار, تصريح, نستخرج, لكم, تصاريح, من, تطبيق,...</td>\n",
              "      <td>{'neg': 0.0, 'neu': 1.0, 'pos': 0.0, 'compound...</td>\n",
              "      <td>0.0</td>\n",
              "      <td>Neutral</td>\n",
              "    </tr>\n",
              "    <tr>\n",
              "      <th>4</th>\n",
              "      <td>1456147951710052354</td>\n",
              "      <td>9__Rema</td>\n",
              "      <td>ريما</td>\n",
              "      <td>الاتحاد الفتح اللي يبي حجز عمره أو صلاه أو زيا...</td>\n",
              "      <td>2021-11-04T06:35:00+00:00</td>\n",
              "      <td>0</td>\n",
              "      <td>0</td>\n",
              "      <td>الاتحاد الفتح الي يبي حجز عمره او صلاه او زيار...</td>\n",
              "      <td>[الاتحاد, الفتح, الي, يبي, حجز, عمره, او, صلاه...</td>\n",
              "      <td>{'neg': 0.0, 'neu': 1.0, 'pos': 0.0, 'compound...</td>\n",
              "      <td>0.0</td>\n",
              "      <td>Neutral</td>\n",
              "    </tr>\n",
              "    <tr>\n",
              "      <th>5</th>\n",
              "      <td>1456147896798167044</td>\n",
              "      <td>9__Rema</td>\n",
              "      <td>ريما</td>\n",
              "      <td>كفر قوي اللي يبي حجز عمره أو صلاه أو زياره الي...</td>\n",
              "      <td>2021-11-04T06:34:47+00:00</td>\n",
              "      <td>0</td>\n",
              "      <td>0</td>\n",
              "      <td>كفر قوي الي يبي حجز عمره او صلاه او زياره اليو...</td>\n",
              "      <td>[كفر, قوي, الي, يبي, حجز, عمره, او, صلاه, او, ...</td>\n",
              "      <td>{'neg': 0.0, 'neu': 1.0, 'pos': 0.0, 'compound...</td>\n",
              "      <td>0.0</td>\n",
              "      <td>Neutral</td>\n",
              "    </tr>\n",
              "  </tbody>\n",
              "</table>\n",
              "</div>"
            ],
            "text/plain": [
              "                    id   @username  ... compound Sentiment\n",
              "0  1456153547188445185      jiil3r  ...      0.0   Neutral\n",
              "2  1456151700822241284  eatmarna14  ...      0.0   Neutral\n",
              "3  1456149271984680960      jiil3r  ...      0.0   Neutral\n",
              "4  1456147951710052354     9__Rema  ...      0.0   Neutral\n",
              "5  1456147896798167044     9__Rema  ...      0.0   Neutral\n",
              "\n",
              "[5 rows x 12 columns]"
            ]
          },
          "metadata": {},
          "execution_count": 30
        }
      ]
    },
    {
      "cell_type": "code",
      "metadata": {
        "id": "mRH9YbE2FqZ-",
        "colab": {
          "base_uri": "https://localhost:8080/",
          "height": 142
        },
        "outputId": "c4eb3717-7b60-44d8-e7b3-c0faa45cb93f"
      },
      "source": [
        "#Number of Neutral,Positive,Negative tweets\n",
        "import seaborn as sns\n",
        "%matplotlib inline\n",
        "var1 = Data.groupby('Sentiment').count()['text'].reset_index().sort_values(by='text',ascending=False)\n",
        "sns.set_style(\"white\")\n",
        "sns.set_palette(\"Set2\")\n",
        "var1.style.background_gradient()"
      ],
      "execution_count": 31,
      "outputs": [
        {
          "output_type": "execute_result",
          "data": {
            "text/html": [
              "<style  type=\"text/css\" >\n",
              "#T_c3d1b29e_47f7_11ec_b772_0242ac1c0002row0_col1{\n",
              "            background-color:  #023858;\n",
              "            color:  #f1f1f1;\n",
              "        }#T_c3d1b29e_47f7_11ec_b772_0242ac1c0002row1_col1{\n",
              "            background-color:  #fef6fb;\n",
              "            color:  #000000;\n",
              "        }#T_c3d1b29e_47f7_11ec_b772_0242ac1c0002row2_col1{\n",
              "            background-color:  #fff7fb;\n",
              "            color:  #000000;\n",
              "        }</style><table id=\"T_c3d1b29e_47f7_11ec_b772_0242ac1c0002\" class=\"dataframe\"><thead>    <tr>        <th class=\"blank level0\" ></th>        <th class=\"col_heading level0 col0\" >Sentiment</th>        <th class=\"col_heading level0 col1\" >text</th>    </tr></thead><tbody>\n",
              "                <tr>\n",
              "                        <th id=\"T_c3d1b29e_47f7_11ec_b772_0242ac1c0002level0_row0\" class=\"row_heading level0 row0\" >1</th>\n",
              "                        <td id=\"T_c3d1b29e_47f7_11ec_b772_0242ac1c0002row0_col0\" class=\"data row0 col0\" >Neutral</td>\n",
              "                        <td id=\"T_c3d1b29e_47f7_11ec_b772_0242ac1c0002row0_col1\" class=\"data row0 col1\" >24358</td>\n",
              "            </tr>\n",
              "            <tr>\n",
              "                        <th id=\"T_c3d1b29e_47f7_11ec_b772_0242ac1c0002level0_row1\" class=\"row_heading level0 row1\" >2</th>\n",
              "                        <td id=\"T_c3d1b29e_47f7_11ec_b772_0242ac1c0002row1_col0\" class=\"data row1 col0\" >Positive</td>\n",
              "                        <td id=\"T_c3d1b29e_47f7_11ec_b772_0242ac1c0002row1_col1\" class=\"data row1 col1\" >219</td>\n",
              "            </tr>\n",
              "            <tr>\n",
              "                        <th id=\"T_c3d1b29e_47f7_11ec_b772_0242ac1c0002level0_row2\" class=\"row_heading level0 row2\" >0</th>\n",
              "                        <td id=\"T_c3d1b29e_47f7_11ec_b772_0242ac1c0002row2_col0\" class=\"data row2 col0\" >Negative</td>\n",
              "                        <td id=\"T_c3d1b29e_47f7_11ec_b772_0242ac1c0002row2_col1\" class=\"data row2 col1\" >55</td>\n",
              "            </tr>\n",
              "    </tbody></table>"
            ],
            "text/plain": [
              "<pandas.io.formats.style.Styler at 0x7f5735e905d0>"
            ]
          },
          "metadata": {},
          "execution_count": 31
        }
      ]
    },
    {
      "cell_type": "markdown",
      "metadata": {
        "id": "cTEv47Pd7R7f"
      },
      "source": [
        "# **Descriptive** **data**"
      ]
    },
    {
      "cell_type": "code",
      "metadata": {
        "id": "ZKrzG9pMFqdq",
        "colab": {
          "base_uri": "https://localhost:8080/",
          "height": 297
        },
        "outputId": "ee2192b2-c9de-40d6-8063-c3f8aef428b3"
      },
      "source": [
        "Data.describe()"
      ],
      "execution_count": 32,
      "outputs": [
        {
          "output_type": "execute_result",
          "data": {
            "text/html": [
              "<div>\n",
              "<style scoped>\n",
              "    .dataframe tbody tr th:only-of-type {\n",
              "        vertical-align: middle;\n",
              "    }\n",
              "\n",
              "    .dataframe tbody tr th {\n",
              "        vertical-align: top;\n",
              "    }\n",
              "\n",
              "    .dataframe thead th {\n",
              "        text-align: right;\n",
              "    }\n",
              "</style>\n",
              "<table border=\"1\" class=\"dataframe\">\n",
              "  <thead>\n",
              "    <tr style=\"text-align: right;\">\n",
              "      <th></th>\n",
              "      <th>id</th>\n",
              "      <th>retweets</th>\n",
              "      <th>likes</th>\n",
              "      <th>compound</th>\n",
              "    </tr>\n",
              "  </thead>\n",
              "  <tbody>\n",
              "    <tr>\n",
              "      <th>count</th>\n",
              "      <td>2.463200e+04</td>\n",
              "      <td>24632.000000</td>\n",
              "      <td>24632.000000</td>\n",
              "      <td>24632.000000</td>\n",
              "    </tr>\n",
              "    <tr>\n",
              "      <th>mean</th>\n",
              "      <td>1.416248e+18</td>\n",
              "      <td>0.658128</td>\n",
              "      <td>1.107056</td>\n",
              "      <td>0.002922</td>\n",
              "    </tr>\n",
              "    <tr>\n",
              "      <th>std</th>\n",
              "      <td>3.320730e+16</td>\n",
              "      <td>8.704501</td>\n",
              "      <td>15.787707</td>\n",
              "      <td>0.046866</td>\n",
              "    </tr>\n",
              "    <tr>\n",
              "      <th>min</th>\n",
              "      <td>1.308018e+18</td>\n",
              "      <td>0.000000</td>\n",
              "      <td>0.000000</td>\n",
              "      <td>-0.790600</td>\n",
              "    </tr>\n",
              "    <tr>\n",
              "      <th>25%</th>\n",
              "      <td>1.408900e+18</td>\n",
              "      <td>0.000000</td>\n",
              "      <td>0.000000</td>\n",
              "      <td>0.000000</td>\n",
              "    </tr>\n",
              "    <tr>\n",
              "      <th>50%</th>\n",
              "      <td>1.415691e+18</td>\n",
              "      <td>0.000000</td>\n",
              "      <td>0.000000</td>\n",
              "      <td>0.000000</td>\n",
              "    </tr>\n",
              "    <tr>\n",
              "      <th>75%</th>\n",
              "      <td>1.443199e+18</td>\n",
              "      <td>0.000000</td>\n",
              "      <td>0.000000</td>\n",
              "      <td>0.000000</td>\n",
              "    </tr>\n",
              "    <tr>\n",
              "      <th>max</th>\n",
              "      <td>1.456479e+18</td>\n",
              "      <td>535.000000</td>\n",
              "      <td>1027.000000</td>\n",
              "      <td>0.947900</td>\n",
              "    </tr>\n",
              "  </tbody>\n",
              "</table>\n",
              "</div>"
            ],
            "text/plain": [
              "                 id      retweets         likes      compound\n",
              "count  2.463200e+04  24632.000000  24632.000000  24632.000000\n",
              "mean   1.416248e+18      0.658128      1.107056      0.002922\n",
              "std    3.320730e+16      8.704501     15.787707      0.046866\n",
              "min    1.308018e+18      0.000000      0.000000     -0.790600\n",
              "25%    1.408900e+18      0.000000      0.000000      0.000000\n",
              "50%    1.415691e+18      0.000000      0.000000      0.000000\n",
              "75%    1.443199e+18      0.000000      0.000000      0.000000\n",
              "max    1.456479e+18    535.000000   1027.000000      0.947900"
            ]
          },
          "metadata": {},
          "execution_count": 32
        }
      ]
    },
    {
      "cell_type": "markdown",
      "metadata": {
        "id": "FuQmQ8oz7nz9"
      },
      "source": [
        "# **Predictive** **Analytics**\n",
        " using the Naive Bayesian Classifier model in our predictive analysis which is probabilistic classifiers that aim to process, analyze, and categorize data. It has been a popular tool for text categorization, which is the sorting of data based upon the textual content and it is the most appropriate model for texts. Moreover, Logistic Regression \n",
        "In our case, the input of our analysis is Tweet text while the Eatmarna  Clients’ opinion is the output variable.\n"
      ]
    },
    {
      "cell_type": "code",
      "metadata": {
        "id": "jiYoa22SI5Kz"
      },
      "source": [
        "# remove the \"Neutral\" class\n",
        "Data=Data[Data['Sentiment'] != \"Neutral\"]"
      ],
      "execution_count": 33,
      "outputs": []
    },
    {
      "cell_type": "code",
      "metadata": {
        "id": "8qthEix3I5Q6",
        "colab": {
          "base_uri": "https://localhost:8080/",
          "height": 332
        },
        "outputId": "daf44d15-8ca4-4287-b044-432ca3be27a3"
      },
      "source": [
        "# preview dataframe to verify that neutral tweets are removed\n",
        "Data.head(2)"
      ],
      "execution_count": 34,
      "outputs": [
        {
          "output_type": "execute_result",
          "data": {
            "text/html": [
              "<div>\n",
              "<style scoped>\n",
              "    .dataframe tbody tr th:only-of-type {\n",
              "        vertical-align: middle;\n",
              "    }\n",
              "\n",
              "    .dataframe tbody tr th {\n",
              "        vertical-align: top;\n",
              "    }\n",
              "\n",
              "    .dataframe thead th {\n",
              "        text-align: right;\n",
              "    }\n",
              "</style>\n",
              "<table border=\"1\" class=\"dataframe\">\n",
              "  <thead>\n",
              "    <tr style=\"text-align: right;\">\n",
              "      <th></th>\n",
              "      <th>id</th>\n",
              "      <th>@username</th>\n",
              "      <th>display name</th>\n",
              "      <th>text</th>\n",
              "      <th>date</th>\n",
              "      <th>retweets</th>\n",
              "      <th>likes</th>\n",
              "      <th>clean text</th>\n",
              "      <th>tokens</th>\n",
              "      <th>scores</th>\n",
              "      <th>compound</th>\n",
              "      <th>Sentiment</th>\n",
              "    </tr>\n",
              "  </thead>\n",
              "  <tbody>\n",
              "    <tr>\n",
              "      <th>478</th>\n",
              "      <td>1454799825971695617</td>\n",
              "      <td>si12_20</td>\n",
              "      <td>سما لخدمات العمره .. 🌱🕋</td>\n",
              "      <td>لحجز الروضه الشريفه  لليوم رجال ونساء حجز فوري...</td>\n",
              "      <td>2021-10-31T13:18:02+00:00</td>\n",
              "      <td>1</td>\n",
              "      <td>0</td>\n",
              "      <td>لحجز الروضه الشريفه ليوم رجال ونساء حجز فوري ح...</td>\n",
              "      <td>[لحجز, الروضه, الشريفه, ليوم, رجال, ونساء, حجز...</td>\n",
              "      <td>{'neg': 0.0, 'neu': 0.843, 'pos': 0.157, 'comp...</td>\n",
              "      <td>0.4215</td>\n",
              "      <td>Positive</td>\n",
              "    </tr>\n",
              "    <tr>\n",
              "      <th>481</th>\n",
              "      <td>1454779374000132097</td>\n",
              "      <td>Zowar_</td>\n",
              "      <td>Zowar OTA</td>\n",
              "      <td>أجواء روحانية تأسر القلوب ..   \"Join us\" ( اعت...</td>\n",
              "      <td>2021-10-31T11:56:45+00:00</td>\n",
              "      <td>1</td>\n",
              "      <td>2</td>\n",
              "      <td>اجواء روحانيه تاسر القلوب Join us اعتمرنا</td>\n",
              "      <td>[اجواء, روحانيه, تاسر, القلوب, Join, us, اعتمرنا]</td>\n",
              "      <td>{'neg': 0.0, 'neu': 0.732, 'pos': 0.268, 'comp...</td>\n",
              "      <td>0.2960</td>\n",
              "      <td>Positive</td>\n",
              "    </tr>\n",
              "  </tbody>\n",
              "</table>\n",
              "</div>"
            ],
            "text/plain": [
              "                      id @username  ... compound Sentiment\n",
              "478  1454799825971695617   si12_20  ...   0.4215  Positive\n",
              "481  1454779374000132097    Zowar_  ...   0.2960  Positive\n",
              "\n",
              "[2 rows x 12 columns]"
            ]
          },
          "metadata": {},
          "execution_count": 34
        }
      ]
    },
    {
      "cell_type": "code",
      "metadata": {
        "id": "r_zQrPfwI5XF",
        "colab": {
          "base_uri": "https://localhost:8080/"
        },
        "outputId": "d8af68db-f45d-49a1-b953-28899038255a"
      },
      "source": [
        "# change values to numeric\n",
        "Data['Sentiment'] = Data['Sentiment'].map({'Positive': 1, 'Negative': 0})"
      ],
      "execution_count": 35,
      "outputs": [
        {
          "output_type": "stream",
          "name": "stderr",
          "text": [
            "/usr/local/lib/python3.7/dist-packages/ipykernel_launcher.py:2: SettingWithCopyWarning: \n",
            "A value is trying to be set on a copy of a slice from a DataFrame.\n",
            "Try using .loc[row_indexer,col_indexer] = value instead\n",
            "\n",
            "See the caveats in the documentation: https://pandas.pydata.org/pandas-docs/stable/user_guide/indexing.html#returning-a-view-versus-a-copy\n",
            "  \n"
          ]
        }
      ]
    },
    {
      "cell_type": "code",
      "metadata": {
        "id": "xnqsj8NWRXOo",
        "colab": {
          "base_uri": "https://localhost:8080/",
          "height": 332
        },
        "outputId": "3de7141f-a73f-4f23-cd2c-0bf5974892b6"
      },
      "source": [
        "Data.head(2)"
      ],
      "execution_count": 36,
      "outputs": [
        {
          "output_type": "execute_result",
          "data": {
            "text/html": [
              "<div>\n",
              "<style scoped>\n",
              "    .dataframe tbody tr th:only-of-type {\n",
              "        vertical-align: middle;\n",
              "    }\n",
              "\n",
              "    .dataframe tbody tr th {\n",
              "        vertical-align: top;\n",
              "    }\n",
              "\n",
              "    .dataframe thead th {\n",
              "        text-align: right;\n",
              "    }\n",
              "</style>\n",
              "<table border=\"1\" class=\"dataframe\">\n",
              "  <thead>\n",
              "    <tr style=\"text-align: right;\">\n",
              "      <th></th>\n",
              "      <th>id</th>\n",
              "      <th>@username</th>\n",
              "      <th>display name</th>\n",
              "      <th>text</th>\n",
              "      <th>date</th>\n",
              "      <th>retweets</th>\n",
              "      <th>likes</th>\n",
              "      <th>clean text</th>\n",
              "      <th>tokens</th>\n",
              "      <th>scores</th>\n",
              "      <th>compound</th>\n",
              "      <th>Sentiment</th>\n",
              "    </tr>\n",
              "  </thead>\n",
              "  <tbody>\n",
              "    <tr>\n",
              "      <th>478</th>\n",
              "      <td>1454799825971695617</td>\n",
              "      <td>si12_20</td>\n",
              "      <td>سما لخدمات العمره .. 🌱🕋</td>\n",
              "      <td>لحجز الروضه الشريفه  لليوم رجال ونساء حجز فوري...</td>\n",
              "      <td>2021-10-31T13:18:02+00:00</td>\n",
              "      <td>1</td>\n",
              "      <td>0</td>\n",
              "      <td>لحجز الروضه الشريفه ليوم رجال ونساء حجز فوري ح...</td>\n",
              "      <td>[لحجز, الروضه, الشريفه, ليوم, رجال, ونساء, حجز...</td>\n",
              "      <td>{'neg': 0.0, 'neu': 0.843, 'pos': 0.157, 'comp...</td>\n",
              "      <td>0.4215</td>\n",
              "      <td>1</td>\n",
              "    </tr>\n",
              "    <tr>\n",
              "      <th>481</th>\n",
              "      <td>1454779374000132097</td>\n",
              "      <td>Zowar_</td>\n",
              "      <td>Zowar OTA</td>\n",
              "      <td>أجواء روحانية تأسر القلوب ..   \"Join us\" ( اعت...</td>\n",
              "      <td>2021-10-31T11:56:45+00:00</td>\n",
              "      <td>1</td>\n",
              "      <td>2</td>\n",
              "      <td>اجواء روحانيه تاسر القلوب Join us اعتمرنا</td>\n",
              "      <td>[اجواء, روحانيه, تاسر, القلوب, Join, us, اعتمرنا]</td>\n",
              "      <td>{'neg': 0.0, 'neu': 0.732, 'pos': 0.268, 'comp...</td>\n",
              "      <td>0.2960</td>\n",
              "      <td>1</td>\n",
              "    </tr>\n",
              "  </tbody>\n",
              "</table>\n",
              "</div>"
            ],
            "text/plain": [
              "                      id @username  ... compound Sentiment\n",
              "478  1454799825971695617   si12_20  ...   0.4215         1\n",
              "481  1454779374000132097    Zowar_  ...   0.2960         1\n",
              "\n",
              "[2 rows x 12 columns]"
            ]
          },
          "metadata": {},
          "execution_count": 36
        }
      ]
    },
    {
      "cell_type": "markdown",
      "metadata": {
        "id": "cXof4oePEpI9"
      },
      "source": [
        "created new variables to contain the input needed in the two classification models: \n",
        "•\t‘tweet’ variable contains the text of the tweets.\n",
        "•\t‘target’ variable contains the class labels (TEatmarna Clients’ opinion).\n"
      ]
    },
    {
      "cell_type": "code",
      "metadata": {
        "id": "vQekB7pGI5dG"
      },
      "source": [
        "# identify the data and the labels\n",
        "tweet = Data['text']\n",
        "target= Data['Sentiment']"
      ],
      "execution_count": 37,
      "outputs": []
    },
    {
      "cell_type": "code",
      "metadata": {
        "id": "-XN_sMDJVR65",
        "colab": {
          "base_uri": "https://localhost:8080/"
        },
        "outputId": "0bef40b0-aece-41f7-b7e5-417d8a03a4b5"
      },
      "source": [
        "# Use TfidfVectorizer for feature extraction (TFIDF to convert textual data to numeric form):\n",
        "from sklearn.feature_extraction.text import TfidfVectorizer\n",
        "tf_vec = TfidfVectorizer()\n",
        "X = tf_vec.fit_transform(tweet)\n",
        "X.shape"
      ],
      "execution_count": 38,
      "outputs": [
        {
          "output_type": "execute_result",
          "data": {
            "text/plain": [
              "(274, 1543)"
            ]
          },
          "metadata": {},
          "execution_count": 38
        }
      ]
    },
    {
      "cell_type": "code",
      "metadata": {
        "id": "CYnJluzPbwWU"
      },
      "source": [
        "# Training Phase divided the whole dataset into two parts 67% considered as training set and 33% as testing set.\n",
        "from sklearn.model_selection import train_test_split\n",
        "X_train, X_test, y_train, y_test = train_test_split(X, target, test_size=0.33, random_state=0)"
      ],
      "execution_count": 39,
      "outputs": []
    },
    {
      "cell_type": "code",
      "metadata": {
        "id": "P8LeJKDsbwfd",
        "colab": {
          "base_uri": "https://localhost:8080/"
        },
        "outputId": "a41a3249-11d6-441c-bd33-a08a16ca0f7e"
      },
      "source": [
        "print(X_train.shape,X_test.shape,y_train.shape,y_test.shape)"
      ],
      "execution_count": 40,
      "outputs": [
        {
          "output_type": "stream",
          "name": "stdout",
          "text": [
            "(183, 1543) (91, 1543) (183,) (91,)\n"
          ]
        }
      ]
    },
    {
      "cell_type": "markdown",
      "metadata": {
        "id": "0xUCAa68cANT"
      },
      "source": [
        "# **NAIVE** **BAYES** **model**"
      ]
    },
    {
      "cell_type": "code",
      "metadata": {
        "id": "FJY-l8VZcpC2"
      },
      "source": [
        "# import library\n",
        "from sklearn.linear_model import LogisticRegression\n",
        "from sklearn.naive_bayes import MultinomialNB\n",
        "from sklearn.model_selection import cross_val_score\n",
        "from sklearn.metrics  import confusion_matrix, classification_report\n",
        "from sklearn import metrics"
      ],
      "execution_count": 41,
      "outputs": []
    },
    {
      "cell_type": "code",
      "metadata": {
        "id": "JgNcR7QRbwoK",
        "colab": {
          "base_uri": "https://localhost:8080/"
        },
        "outputId": "19e49a08-5bbb-4795-e77e-624037024815"
      },
      "source": [
        "# create the classifer and fit the training data and lables\n",
        "classifier_nb = MultinomialNB().fit(X_train.todense(),y_train)\n",
        "\n",
        "print(\"MultinomialNB accuracy: %.2f\"%classifier_nb.score(X_test.todense(), y_test))\n",
        "\n",
        "#do a 10 fold cross-validation \n",
        "results_nb = cross_val_score(classifier_nb, X.todense(),target, cv=10)\n",
        "print(\"\\n10-fold cross-validation:\")\n",
        "print(results_nb)\n",
        "\n",
        "print(\"The average accuracy of the MultinomialNB classifier is : %.2f\" % np.mean(results_nb))\n",
        "\n",
        "print(\"\\nConfusion matrix of the MultinomialNB classifier:\")\n",
        "predicted_nb = classifier_nb.predict(X_test.todense())\n",
        "print(confusion_matrix(y_test,predicted_nb))\n",
        "\n",
        "\n",
        "print(\"\\nClassification_report of MultinomialNB classifier:\")\n",
        "print(classification_report(y_test,predicted_nb))\n",
        "print(\"----------------------------------------------------------------------------\")"
      ],
      "execution_count": 42,
      "outputs": [
        {
          "output_type": "stream",
          "name": "stderr",
          "text": [
            "/usr/local/lib/python3.7/dist-packages/sklearn/utils/validation.py:590: FutureWarning: np.matrix usage is deprecated in 1.0 and will raise a TypeError in 1.2. Please convert to a numpy array with np.asarray. For more information see: https://numpy.org/doc/stable/reference/generated/numpy.matrix.html\n",
            "  FutureWarning,\n",
            "/usr/local/lib/python3.7/dist-packages/sklearn/utils/validation.py:590: FutureWarning: np.matrix usage is deprecated in 1.0 and will raise a TypeError in 1.2. Please convert to a numpy array with np.asarray. For more information see: https://numpy.org/doc/stable/reference/generated/numpy.matrix.html\n",
            "  FutureWarning,\n",
            "/usr/local/lib/python3.7/dist-packages/sklearn/utils/validation.py:590: FutureWarning: np.matrix usage is deprecated in 1.0 and will raise a TypeError in 1.2. Please convert to a numpy array with np.asarray. For more information see: https://numpy.org/doc/stable/reference/generated/numpy.matrix.html\n",
            "  FutureWarning,\n",
            "/usr/local/lib/python3.7/dist-packages/sklearn/utils/validation.py:590: FutureWarning: np.matrix usage is deprecated in 1.0 and will raise a TypeError in 1.2. Please convert to a numpy array with np.asarray. For more information see: https://numpy.org/doc/stable/reference/generated/numpy.matrix.html\n",
            "  FutureWarning,\n",
            "/usr/local/lib/python3.7/dist-packages/sklearn/utils/validation.py:590: FutureWarning: np.matrix usage is deprecated in 1.0 and will raise a TypeError in 1.2. Please convert to a numpy array with np.asarray. For more information see: https://numpy.org/doc/stable/reference/generated/numpy.matrix.html\n",
            "  FutureWarning,\n"
          ]
        },
        {
          "output_type": "stream",
          "name": "stdout",
          "text": [
            "MultinomialNB accuracy: 0.78\n",
            "\n",
            "10-fold cross-validation:\n",
            "[0.78571429 0.78571429 0.78571429 0.75       0.81481481 0.81481481\n",
            " 0.81481481 0.81481481 0.81481481 0.77777778]\n",
            "The average accuracy of the MultinomialNB classifier is : 0.80\n",
            "\n",
            "Confusion matrix of the MultinomialNB classifier:\n",
            "[[ 0 20]\n",
            " [ 0 71]]\n",
            "\n",
            "Classification_report of MultinomialNB classifier:\n",
            "              precision    recall  f1-score   support\n",
            "\n",
            "           0       0.00      0.00      0.00        20\n",
            "           1       0.78      1.00      0.88        71\n",
            "\n",
            "    accuracy                           0.78        91\n",
            "   macro avg       0.39      0.50      0.44        91\n",
            "weighted avg       0.61      0.78      0.68        91\n",
            "\n",
            "----------------------------------------------------------------------------\n"
          ]
        },
        {
          "output_type": "stream",
          "name": "stderr",
          "text": [
            "/usr/local/lib/python3.7/dist-packages/sklearn/utils/validation.py:590: FutureWarning: np.matrix usage is deprecated in 1.0 and will raise a TypeError in 1.2. Please convert to a numpy array with np.asarray. For more information see: https://numpy.org/doc/stable/reference/generated/numpy.matrix.html\n",
            "  FutureWarning,\n",
            "/usr/local/lib/python3.7/dist-packages/sklearn/utils/validation.py:590: FutureWarning: np.matrix usage is deprecated in 1.0 and will raise a TypeError in 1.2. Please convert to a numpy array with np.asarray. For more information see: https://numpy.org/doc/stable/reference/generated/numpy.matrix.html\n",
            "  FutureWarning,\n",
            "/usr/local/lib/python3.7/dist-packages/sklearn/utils/validation.py:590: FutureWarning: np.matrix usage is deprecated in 1.0 and will raise a TypeError in 1.2. Please convert to a numpy array with np.asarray. For more information see: https://numpy.org/doc/stable/reference/generated/numpy.matrix.html\n",
            "  FutureWarning,\n",
            "/usr/local/lib/python3.7/dist-packages/sklearn/utils/validation.py:590: FutureWarning: np.matrix usage is deprecated in 1.0 and will raise a TypeError in 1.2. Please convert to a numpy array with np.asarray. For more information see: https://numpy.org/doc/stable/reference/generated/numpy.matrix.html\n",
            "  FutureWarning,\n",
            "/usr/local/lib/python3.7/dist-packages/sklearn/utils/validation.py:590: FutureWarning: np.matrix usage is deprecated in 1.0 and will raise a TypeError in 1.2. Please convert to a numpy array with np.asarray. For more information see: https://numpy.org/doc/stable/reference/generated/numpy.matrix.html\n",
            "  FutureWarning,\n",
            "/usr/local/lib/python3.7/dist-packages/sklearn/utils/validation.py:590: FutureWarning: np.matrix usage is deprecated in 1.0 and will raise a TypeError in 1.2. Please convert to a numpy array with np.asarray. For more information see: https://numpy.org/doc/stable/reference/generated/numpy.matrix.html\n",
            "  FutureWarning,\n",
            "/usr/local/lib/python3.7/dist-packages/sklearn/utils/validation.py:590: FutureWarning: np.matrix usage is deprecated in 1.0 and will raise a TypeError in 1.2. Please convert to a numpy array with np.asarray. For more information see: https://numpy.org/doc/stable/reference/generated/numpy.matrix.html\n",
            "  FutureWarning,\n",
            "/usr/local/lib/python3.7/dist-packages/sklearn/utils/validation.py:590: FutureWarning: np.matrix usage is deprecated in 1.0 and will raise a TypeError in 1.2. Please convert to a numpy array with np.asarray. For more information see: https://numpy.org/doc/stable/reference/generated/numpy.matrix.html\n",
            "  FutureWarning,\n",
            "/usr/local/lib/python3.7/dist-packages/sklearn/utils/validation.py:590: FutureWarning: np.matrix usage is deprecated in 1.0 and will raise a TypeError in 1.2. Please convert to a numpy array with np.asarray. For more information see: https://numpy.org/doc/stable/reference/generated/numpy.matrix.html\n",
            "  FutureWarning,\n",
            "/usr/local/lib/python3.7/dist-packages/sklearn/utils/validation.py:590: FutureWarning: np.matrix usage is deprecated in 1.0 and will raise a TypeError in 1.2. Please convert to a numpy array with np.asarray. For more information see: https://numpy.org/doc/stable/reference/generated/numpy.matrix.html\n",
            "  FutureWarning,\n",
            "/usr/local/lib/python3.7/dist-packages/sklearn/utils/validation.py:590: FutureWarning: np.matrix usage is deprecated in 1.0 and will raise a TypeError in 1.2. Please convert to a numpy array with np.asarray. For more information see: https://numpy.org/doc/stable/reference/generated/numpy.matrix.html\n",
            "  FutureWarning,\n",
            "/usr/local/lib/python3.7/dist-packages/sklearn/utils/validation.py:590: FutureWarning: np.matrix usage is deprecated in 1.0 and will raise a TypeError in 1.2. Please convert to a numpy array with np.asarray. For more information see: https://numpy.org/doc/stable/reference/generated/numpy.matrix.html\n",
            "  FutureWarning,\n",
            "/usr/local/lib/python3.7/dist-packages/sklearn/utils/validation.py:590: FutureWarning: np.matrix usage is deprecated in 1.0 and will raise a TypeError in 1.2. Please convert to a numpy array with np.asarray. For more information see: https://numpy.org/doc/stable/reference/generated/numpy.matrix.html\n",
            "  FutureWarning,\n",
            "/usr/local/lib/python3.7/dist-packages/sklearn/utils/validation.py:590: FutureWarning: np.matrix usage is deprecated in 1.0 and will raise a TypeError in 1.2. Please convert to a numpy array with np.asarray. For more information see: https://numpy.org/doc/stable/reference/generated/numpy.matrix.html\n",
            "  FutureWarning,\n",
            "/usr/local/lib/python3.7/dist-packages/sklearn/utils/validation.py:590: FutureWarning: np.matrix usage is deprecated in 1.0 and will raise a TypeError in 1.2. Please convert to a numpy array with np.asarray. For more information see: https://numpy.org/doc/stable/reference/generated/numpy.matrix.html\n",
            "  FutureWarning,\n",
            "/usr/local/lib/python3.7/dist-packages/sklearn/utils/validation.py:590: FutureWarning: np.matrix usage is deprecated in 1.0 and will raise a TypeError in 1.2. Please convert to a numpy array with np.asarray. For more information see: https://numpy.org/doc/stable/reference/generated/numpy.matrix.html\n",
            "  FutureWarning,\n",
            "/usr/local/lib/python3.7/dist-packages/sklearn/utils/validation.py:590: FutureWarning: np.matrix usage is deprecated in 1.0 and will raise a TypeError in 1.2. Please convert to a numpy array with np.asarray. For more information see: https://numpy.org/doc/stable/reference/generated/numpy.matrix.html\n",
            "  FutureWarning,\n",
            "/usr/local/lib/python3.7/dist-packages/sklearn/utils/validation.py:590: FutureWarning: np.matrix usage is deprecated in 1.0 and will raise a TypeError in 1.2. Please convert to a numpy array with np.asarray. For more information see: https://numpy.org/doc/stable/reference/generated/numpy.matrix.html\n",
            "  FutureWarning,\n",
            "/usr/local/lib/python3.7/dist-packages/sklearn/metrics/_classification.py:1308: UndefinedMetricWarning: Precision and F-score are ill-defined and being set to 0.0 in labels with no predicted samples. Use `zero_division` parameter to control this behavior.\n",
            "  _warn_prf(average, modifier, msg_start, len(result))\n",
            "/usr/local/lib/python3.7/dist-packages/sklearn/metrics/_classification.py:1308: UndefinedMetricWarning: Precision and F-score are ill-defined and being set to 0.0 in labels with no predicted samples. Use `zero_division` parameter to control this behavior.\n",
            "  _warn_prf(average, modifier, msg_start, len(result))\n",
            "/usr/local/lib/python3.7/dist-packages/sklearn/metrics/_classification.py:1308: UndefinedMetricWarning: Precision and F-score are ill-defined and being set to 0.0 in labels with no predicted samples. Use `zero_division` parameter to control this behavior.\n",
            "  _warn_prf(average, modifier, msg_start, len(result))\n"
          ]
        }
      ]
    },
    {
      "cell_type": "code",
      "metadata": {
        "id": "tvPA7Kdsbwwx"
      },
      "source": [
        "# calculate the fpr and tpr for all thresholds of the classification\n",
        "probs = classifier_nb.predict_proba(X_test)\n",
        "preds = probs[:,1]\n",
        "\n",
        "fpr, tpr, threshold = metrics.roc_curve(y_test, preds)\n",
        "roc_auc = metrics.auc(fpr, tpr)"
      ],
      "execution_count": 43,
      "outputs": []
    },
    {
      "cell_type": "code",
      "metadata": {
        "id": "XBTZv9r4bw6E",
        "colab": {
          "base_uri": "https://localhost:8080/",
          "height": 295
        },
        "outputId": "69b6b24b-5366-49a3-c4ee-d1dd42d64a3f"
      },
      "source": [
        "# plot the AUC for Naive Bayesian Classifier\n",
        "import matplotlib.pyplot as plt\n",
        "plt.title('Receiver Operating Characteristic NB classifier')\n",
        "plt.plot(fpr, tpr, 'b', label = 'AUC = %0.2f' % roc_auc)\n",
        "plt.legend(loc = 'lower right')\n",
        "plt.plot([0, 1], [0, 1],'r--')\n",
        "plt.xlim([0, 1])\n",
        "plt.ylim([0, 1])\n",
        "plt.ylabel('True Positive Rate')\n",
        "plt.xlabel('False Positive Rate')\n",
        "plt.show()"
      ],
      "execution_count": 44,
      "outputs": [
        {
          "output_type": "display_data",
          "data": {
            "image/png": "[encoded data removed]",
            "text/plain": [
              "<Figure size 432x288 with 1 Axes>"
            ]
          },
          "metadata": {}
        }
      ]
    },
    {
      "cell_type": "markdown",
      "metadata": {
        "id": "XNfmM17AdXTV"
      },
      "source": [
        "# **LOGISTIC** **REGRESSION** **model**"
      ]
    },
    {
      "cell_type": "code",
      "metadata": {
        "id": "ENnGSTZkbxC3"
      },
      "source": [
        "# build the second classifer, logsitic regrssion \n",
        "classifier_log =  LogisticRegression().fit(X_train,y_train)"
      ],
      "execution_count": 45,
      "outputs": []
    },
    {
      "cell_type": "code",
      "metadata": {
        "id": "sVViECdwbxOz",
        "colab": {
          "base_uri": "https://localhost:8080/"
        },
        "outputId": "32103da9-7ca6-4722-bd0b-71a347299081"
      },
      "source": [
        "print(\"Logisitic Accuracy: %.2F\"%classifier_log.score(X_test, y_test))\n",
        "results_log = cross_val_score(classifier_log, X,target, cv=10)\n",
        "\n",
        "\n",
        "print(\"\\n10-fold cross-validation:\")\n",
        "print(results_log)\n",
        "\n",
        "\n",
        "print(\"The average accuracy of the Logisitic classifier is : %.2f\" % np.mean(results_log))\n",
        "print(\"\\nConfusion matrix of the Logisitic classifier:\")\n",
        "predicted_log= classifier_log.predict(X_test)\n",
        "print(confusion_matrix(y_test,predicted_log))\n",
        "\n",
        "\n",
        "print(\"\\nClassification_report of Logisitic classifier:\")\n",
        "print(classification_report(y_test,predicted_log))\n",
        "print(\"----------------------------------------------------------------------------\")"
      ],
      "execution_count": 46,
      "outputs": [
        {
          "output_type": "stream",
          "name": "stdout",
          "text": [
            "Logisitic Accuracy: 0.78\n",
            "\n",
            "10-fold cross-validation:\n",
            "[0.78571429 0.78571429 0.78571429 0.78571429 0.81481481 0.81481481\n",
            " 0.81481481 0.81481481 0.81481481 0.77777778]\n",
            "The average accuracy of the Logisitic classifier is : 0.80\n",
            "\n",
            "Confusion matrix of the Logisitic classifier:\n",
            "[[ 0 20]\n",
            " [ 0 71]]\n",
            "\n",
            "Classification_report of Logisitic classifier:\n",
            "              precision    recall  f1-score   support\n",
            "\n",
            "           0       0.00      0.00      0.00        20\n",
            "           1       0.78      1.00      0.88        71\n",
            "\n",
            "    accuracy                           0.78        91\n",
            "   macro avg       0.39      0.50      0.44        91\n",
            "weighted avg       0.61      0.78      0.68        91\n",
            "\n",
            "----------------------------------------------------------------------------\n"
          ]
        },
        {
          "output_type": "stream",
          "name": "stderr",
          "text": [
            "/usr/local/lib/python3.7/dist-packages/sklearn/metrics/_classification.py:1308: UndefinedMetricWarning: Precision and F-score are ill-defined and being set to 0.0 in labels with no predicted samples. Use `zero_division` parameter to control this behavior.\n",
            "  _warn_prf(average, modifier, msg_start, len(result))\n",
            "/usr/local/lib/python3.7/dist-packages/sklearn/metrics/_classification.py:1308: UndefinedMetricWarning: Precision and F-score are ill-defined and being set to 0.0 in labels with no predicted samples. Use `zero_division` parameter to control this behavior.\n",
            "  _warn_prf(average, modifier, msg_start, len(result))\n",
            "/usr/local/lib/python3.7/dist-packages/sklearn/metrics/_classification.py:1308: UndefinedMetricWarning: Precision and F-score are ill-defined and being set to 0.0 in labels with no predicted samples. Use `zero_division` parameter to control this behavior.\n",
            "  _warn_prf(average, modifier, msg_start, len(result))\n"
          ]
        }
      ]
    },
    {
      "cell_type": "code",
      "metadata": {
        "id": "quQwYGGobxXo"
      },
      "source": [
        "# calculate the fpr and tpr for all thresholds of the classification\n",
        "\n",
        "probs = classifier_log.predict_proba(X_test)\n",
        "preds = probs[:,1]\n",
        "\n",
        "fpr, tpr, threshold = metrics.roc_curve(y_test, preds)\n",
        "roc_auc = metrics.auc(fpr, tpr)"
      ],
      "execution_count": 47,
      "outputs": []
    },
    {
      "cell_type": "code",
      "metadata": {
        "id": "3LJ7JRTBbxgP",
        "colab": {
          "base_uri": "https://localhost:8080/",
          "height": 295
        },
        "outputId": "4fdd292f-575e-48eb-d8a8-4873d6da07e2"
      },
      "source": [
        "# polt AUC for Logistic Regression\n",
        "plt.title('Receiver Operating Characteristic for Logisitic classifier')\n",
        "plt.plot(fpr, tpr, 'b', label = 'AUC = %0.2f' % roc_auc)\n",
        "plt.legend(loc = 'lower right')\n",
        "plt.plot([0, 1], [0, 1],'r--')\n",
        "plt.xlim([0, 1])\n",
        "plt.ylim([0, 1])\n",
        "plt.ylabel('True Positive Rate')\n",
        "plt.xlabel('False Positive Rate')\n",
        "plt.show()"
      ],
      "execution_count": 48,
      "outputs": [
        {
          "output_type": "display_data",
          "data": {
            "image/png": "[encoded data removed]",
            "text/plain": [
              "<Figure size 432x288 with 1 Axes>"
            ]
          },
          "metadata": {}
        }
      ]
    },
    {
      "cell_type": "markdown",
      "metadata": {
        "id": "dCOpgdLTFPTs"
      },
      "source": [
        "The comparisons show that both Naive Bayes and Logistic Regression model have a same results based on the different aspects mentioned above."
      ]
    },
    {
      "cell_type": "markdown",
      "metadata": {
        "id": "Qp35O8BlFg0b"
      },
      "source": [
        "# **Communicate** **Results**"
      ]
    },
    {
      "cell_type": "markdown",
      "metadata": {
        "id": "k53POvpK9Flh"
      },
      "source": [
        "# **Number** **of** **Tweets** **by** **opinion**"
      ]
    },
    {
      "cell_type": "code",
      "metadata": {
        "id": "7oJrYOE-9MXa"
      },
      "source": [
        "import pandas as pd\n",
        "\n",
        "import csv\n",
        "import re # for regular expression\n",
        "import string\n",
        "from datetime import datetime\n",
        "\n",
        "import nltk \n",
        "from nltk.tokenize import RegexpTokenizer # devide the words \n",
        "from collections import Counter #count the number of word for each list \n",
        "\n",
        "import numpy as np \n",
        "import matplotlib.pyplot as plt\n",
        "\n",
        "import seaborn\n",
        "import plotly.graph_objs as go\n",
        "import plotly.offline as py\n",
        "\n",
        "%matplotlib inline"
      ],
      "execution_count": 49,
      "outputs": []
    },
    {
      "cell_type": "code",
      "metadata": {
        "id": "o6EgRf-b9f9B"
      },
      "source": [
        "# Q: How many positive, negative, and neutral tweets we have?\n",
        "tweets_by_sentiment = Data['Sentiment'].value_counts()"
      ],
      "execution_count": 50,
      "outputs": []
    },
    {
      "cell_type": "code",
      "metadata": {
        "id": "nLjHlB8x9ztj",
        "colab": {
          "base_uri": "https://localhost:8080/",
          "height": 306
        },
        "outputId": "da351982-7067-4b07-a6f8-2dcfd0653e0e"
      },
      "source": [
        "# visualize the results \n",
        "fig, ax = plt.subplots()\n",
        "\n",
        "ax.tick_params(axis='x', labelsize=15)\n",
        "ax.tick_params(axis='y', labelsize=10)\n",
        "\n",
        "ax.set_xlabel('Sentiment', fontsize=15)\n",
        "ax.set_ylabel('Number of tweets' , fontsize=15)\n",
        "\n",
        "tweets_by_sentiment.plot(ax=ax, kind='barh')"
      ],
      "execution_count": 51,
      "outputs": [
        {
          "output_type": "execute_result",
          "data": {
            "text/plain": [
              "<matplotlib.axes._subplots.AxesSubplot at 0x7f57369a5550>"
            ]
          },
          "metadata": {},
          "execution_count": 51
        },
        {
          "output_type": "display_data",
          "data": {
            "image/png": "[encoded data removed]",
            "text/plain": [
              "<Figure size 432x288 with 1 Axes>"
            ]
          },
          "metadata": {
            "needs_background": "light"
          }
        }
      ]
    },
    {
      "cell_type": "code",
      "metadata": {
        "id": "mfRALrgz9lO-",
        "colab": {
          "base_uri": "https://localhost:8080/",
          "height": 265
        },
        "outputId": "0299bdf8-8ce6-47ed-e0c8-8d586f7b759d"
      },
      "source": [
        "tweets_by_sentiment.plot(kind='pie')"
      ],
      "execution_count": 52,
      "outputs": [
        {
          "output_type": "execute_result",
          "data": {
            "text/plain": [
              "<matplotlib.axes._subplots.AxesSubplot at 0x7f57263bed50>"
            ]
          },
          "metadata": {},
          "execution_count": 52
        },
        {
          "output_type": "display_data",
          "data": {
            "image/png": "[encoded data removed]",
            "text/plain": [
              "<Figure size 432x288 with 1 Axes>"
            ]
          },
          "metadata": {}
        }
      ]
    },
    {
      "cell_type": "code",
      "metadata": {
        "id": "DWcykNbaREpN"
      },
      "source": [
        "# remove punctuations علامات الترقيم  \n",
        "\n",
        "arabic_punctuations = '''`÷×؛<>_()*&^%][ـ،/:\"؟.,'{}~¦+|!”…“–ـ'''\n",
        "english_punctuations = string.punctuation\n",
        "punctuations_list = arabic_punctuations + english_punctuations\n",
        "\n",
        "def remove_punctuations(text):\n",
        "    translator = str.maketrans('', '', punctuations_list)\n",
        "    return text.translate(translator)"
      ],
      "execution_count": 53,
      "outputs": []
    },
    {
      "cell_type": "code",
      "metadata": {
        "id": "Y_zWhzAWRFf1"
      },
      "source": [
        "def normalize_arabic(text):\n",
        "    text = re.sub(\"[إأآا]\", \"ا\", text)\n",
        "    text = re.sub(\"ى\", \"ي\", text)\n",
        "    text = re.sub(\"ة\", \"ه\", text)\n",
        "    text = re.sub(\"گ\", \"ك\", text)\n",
        "    return text"
      ],
      "execution_count": 54,
      "outputs": []
    },
    {
      "cell_type": "code",
      "metadata": {
        "id": "B-9h01nbRJmd"
      },
      "source": [
        "# remove repeated letters\n",
        "def remove_repeating_char(text):\n",
        "    return re.sub(r'(.)\\1+', r'\\1', text)"
      ],
      "execution_count": 55,
      "outputs": []
    },
    {
      "cell_type": "code",
      "metadata": {
        "id": "Z-LwD8YMRNAZ"
      },
      "source": [
        "#start processing the tweet\n",
        "def processPost(tweet):\n",
        "\n",
        "    #Replace @username with empty string\n",
        "    tweet = re.sub('@[^\\s]+', ' ', tweet)\n",
        "    \n",
        "    #Convert www.* or https?://* to \" \"\n",
        "    tweet = re.sub('((www\\.[^\\s]+)|(https://[^\\s]+))',' ',tweet)\n",
        "    \n",
        "    #Replace #word with word\n",
        "    tweet = re.sub(r'#([^\\s]+)', r'\\1', tweet)\n",
        "\n",
        "    # remove punctuations\n",
        "    tweet= remove_punctuations(tweet)\n",
        "    \n",
        "    # normalize the tweet\n",
        "    tweet= normalize_arabic(tweet)\n",
        "    \n",
        "    # remove repeated letters\n",
        "    tweet=remove_repeating_char(tweet)\n",
        "\n",
        "    #Remove new lines with white space\n",
        "    tweet = tweet.replace('\\n',' ')\n",
        "    tweet = tweet.replace('\\t',' ')\n",
        "        \n",
        "    return tweet"
      ],
      "execution_count": 56,
      "outputs": []
    },
    {
      "cell_type": "code",
      "metadata": {
        "id": "jLJhps8QRN7h"
      },
      "source": [
        "# apply the method in all the text and create another cloumn with the processed text\n",
        "Data[\"clean text\"] = Data['text'].apply(lambda x: processPost(x))"
      ],
      "execution_count": 57,
      "outputs": []
    },
    {
      "cell_type": "code",
      "metadata": {
        "id": "LIKuTh9aRR9a",
        "colab": {
          "base_uri": "https://localhost:8080/",
          "height": 332
        },
        "outputId": "480d873d-4531-4eba-c414-5208bda487b5"
      },
      "source": [
        "Data.head(2)"
      ],
      "execution_count": 58,
      "outputs": [
        {
          "output_type": "execute_result",
          "data": {
            "text/html": [
              "<div>\n",
              "<style scoped>\n",
              "    .dataframe tbody tr th:only-of-type {\n",
              "        vertical-align: middle;\n",
              "    }\n",
              "\n",
              "    .dataframe tbody tr th {\n",
              "        vertical-align: top;\n",
              "    }\n",
              "\n",
              "    .dataframe thead th {\n",
              "        text-align: right;\n",
              "    }\n",
              "</style>\n",
              "<table border=\"1\" class=\"dataframe\">\n",
              "  <thead>\n",
              "    <tr style=\"text-align: right;\">\n",
              "      <th></th>\n",
              "      <th>id</th>\n",
              "      <th>@username</th>\n",
              "      <th>display name</th>\n",
              "      <th>text</th>\n",
              "      <th>date</th>\n",
              "      <th>retweets</th>\n",
              "      <th>likes</th>\n",
              "      <th>clean text</th>\n",
              "      <th>tokens</th>\n",
              "      <th>scores</th>\n",
              "      <th>compound</th>\n",
              "      <th>Sentiment</th>\n",
              "    </tr>\n",
              "  </thead>\n",
              "  <tbody>\n",
              "    <tr>\n",
              "      <th>478</th>\n",
              "      <td>1454799825971695617</td>\n",
              "      <td>si12_20</td>\n",
              "      <td>سما لخدمات العمره .. 🌱🕋</td>\n",
              "      <td>لحجز الروضه الشريفه  لليوم رجال ونساء حجز فوري...</td>\n",
              "      <td>2021-10-31T13:18:02+00:00</td>\n",
              "      <td>1</td>\n",
              "      <td>0</td>\n",
              "      <td>لحجز الروضه الشريفه ليوم رجال ونساء حجز فوري ح...</td>\n",
              "      <td>[لحجز, الروضه, الشريفه, ليوم, رجال, ونساء, حجز...</td>\n",
              "      <td>{'neg': 0.0, 'neu': 0.843, 'pos': 0.157, 'comp...</td>\n",
              "      <td>0.4215</td>\n",
              "      <td>1</td>\n",
              "    </tr>\n",
              "    <tr>\n",
              "      <th>481</th>\n",
              "      <td>1454779374000132097</td>\n",
              "      <td>Zowar_</td>\n",
              "      <td>Zowar OTA</td>\n",
              "      <td>أجواء روحانية تأسر القلوب ..   \"Join us\" ( اعت...</td>\n",
              "      <td>2021-10-31T11:56:45+00:00</td>\n",
              "      <td>1</td>\n",
              "      <td>2</td>\n",
              "      <td>اجواء روحانيه تاسر القلوب Join us اعتمرنا</td>\n",
              "      <td>[اجواء, روحانيه, تاسر, القلوب, Join, us, اعتمرنا]</td>\n",
              "      <td>{'neg': 0.0, 'neu': 0.732, 'pos': 0.268, 'comp...</td>\n",
              "      <td>0.2960</td>\n",
              "      <td>1</td>\n",
              "    </tr>\n",
              "  </tbody>\n",
              "</table>\n",
              "</div>"
            ],
            "text/plain": [
              "                      id @username  ... compound Sentiment\n",
              "478  1454799825971695617   si12_20  ...   0.4215         1\n",
              "481  1454779374000132097    Zowar_  ...   0.2960         1\n",
              "\n",
              "[2 rows x 12 columns]"
            ]
          },
          "metadata": {},
          "execution_count": 58
        }
      ]
    },
    {
      "cell_type": "code",
      "metadata": {
        "id": "DbY2kza0RUfx"
      },
      "source": [
        "Data.drop_duplicates(subset='clean text',inplace=True)"
      ],
      "execution_count": 59,
      "outputs": []
    },
    {
      "cell_type": "code",
      "metadata": {
        "id": "zC3WaiU7AC1w",
        "colab": {
          "base_uri": "https://localhost:8080/",
          "height": 420
        },
        "outputId": "f186174e-75e7-4dd5-9e01-5fdba7de24ec"
      },
      "source": [
        "tokenizer = RegexpTokenizer(r'\\w+')\n",
        "Data[\"clean text tokens\"] = Data[\"clean text\"].apply(tokenizer.tokenize)\n",
        "Data.head(2)"
      ],
      "execution_count": 60,
      "outputs": [
        {
          "output_type": "execute_result",
          "data": {
            "text/html": [
              "<div>\n",
              "<style scoped>\n",
              "    .dataframe tbody tr th:only-of-type {\n",
              "        vertical-align: middle;\n",
              "    }\n",
              "\n",
              "    .dataframe tbody tr th {\n",
              "        vertical-align: top;\n",
              "    }\n",
              "\n",
              "    .dataframe thead th {\n",
              "        text-align: right;\n",
              "    }\n",
              "</style>\n",
              "<table border=\"1\" class=\"dataframe\">\n",
              "  <thead>\n",
              "    <tr style=\"text-align: right;\">\n",
              "      <th></th>\n",
              "      <th>id</th>\n",
              "      <th>@username</th>\n",
              "      <th>display name</th>\n",
              "      <th>text</th>\n",
              "      <th>date</th>\n",
              "      <th>retweets</th>\n",
              "      <th>likes</th>\n",
              "      <th>clean text</th>\n",
              "      <th>tokens</th>\n",
              "      <th>scores</th>\n",
              "      <th>compound</th>\n",
              "      <th>Sentiment</th>\n",
              "      <th>clean text tokens</th>\n",
              "    </tr>\n",
              "  </thead>\n",
              "  <tbody>\n",
              "    <tr>\n",
              "      <th>478</th>\n",
              "      <td>1454799825971695617</td>\n",
              "      <td>si12_20</td>\n",
              "      <td>سما لخدمات العمره .. 🌱🕋</td>\n",
              "      <td>لحجز الروضه الشريفه  لليوم رجال ونساء حجز فوري...</td>\n",
              "      <td>2021-10-31T13:18:02+00:00</td>\n",
              "      <td>1</td>\n",
              "      <td>0</td>\n",
              "      <td>لحجز الروضه الشريفه ليوم رجال ونساء حجز فوري ح...</td>\n",
              "      <td>[لحجز, الروضه, الشريفه, ليوم, رجال, ونساء, حجز...</td>\n",
              "      <td>{'neg': 0.0, 'neu': 0.843, 'pos': 0.157, 'comp...</td>\n",
              "      <td>0.4215</td>\n",
              "      <td>1</td>\n",
              "      <td>[لحجز, الروضه, الشريفه, ليوم, رجال, ونساء, حجز...</td>\n",
              "    </tr>\n",
              "    <tr>\n",
              "      <th>481</th>\n",
              "      <td>1454779374000132097</td>\n",
              "      <td>Zowar_</td>\n",
              "      <td>Zowar OTA</td>\n",
              "      <td>أجواء روحانية تأسر القلوب ..   \"Join us\" ( اعت...</td>\n",
              "      <td>2021-10-31T11:56:45+00:00</td>\n",
              "      <td>1</td>\n",
              "      <td>2</td>\n",
              "      <td>اجواء روحانيه تاسر القلوب Join us اعتمرنا</td>\n",
              "      <td>[اجواء, روحانيه, تاسر, القلوب, Join, us, اعتمرنا]</td>\n",
              "      <td>{'neg': 0.0, 'neu': 0.732, 'pos': 0.268, 'comp...</td>\n",
              "      <td>0.2960</td>\n",
              "      <td>1</td>\n",
              "      <td>[اجواء, روحانيه, تاسر, القلوب, Join, us, اعتمرنا]</td>\n",
              "    </tr>\n",
              "  </tbody>\n",
              "</table>\n",
              "</div>"
            ],
            "text/plain": [
              "                      id  ...                                  clean text tokens\n",
              "478  1454799825971695617  ...  [لحجز, الروضه, الشريفه, ليوم, رجال, ونساء, حجز...\n",
              "481  1454779374000132097  ...  [اجواء, روحانيه, تاسر, القلوب, Join, us, اعتمرنا]\n",
              "\n",
              "[2 rows x 13 columns]"
            ]
          },
          "metadata": {},
          "execution_count": 60
        }
      ]
    },
    {
      "cell_type": "markdown",
      "metadata": {
        "id": "VRFxSOBy9_SV"
      },
      "source": [
        "**Most** **Common** **Words**"
      ]
    },
    {
      "cell_type": "code",
      "metadata": {
        "id": "_1nKoMo8-mEG"
      },
      "source": [
        "ignore = {'', 'في', 'اله', 'RT', 'السلام', 'عليكم', 'و', 'تم', 'عندي', 'انا', 'الي', 'او', 'معنا', 'ان', 'عبر', 'يارب', 'اذا', 'يتم', 'من', \n",
        "          'مكن','تطبيق', 'احد', 'اي', 'علي', 'و', 'الي', 'التطبيق', 'ما', 'هل', 'لي', 'لم', 'عن', 'عن', 'ولا', 'مع', 'لا', 'الان',\n",
        "         'وبركاته', 'ا', 'م', 'كل', 'له', 'لك', 'الا', 'ورحمه', 'يكون', 'بك', 'فيه', 'غير', 'قياس', 'ال', 'الهم', 'معي', 'يا', 'بعد',\n",
        "         'توكلنا', 'اليوم', 'جميع', 'يوم', 'بنك', 'لكن', 'نور', 'الحمدله', 'الحمد', 'هذا', 'ايش', 'وش', 'يعني', 'قبل', 'انه', 'بشكل','مطار','تخفيض',\n",
        "         'ل', 'شي', 'اني', 'ف', 'ب' ,'تغير', 'مو', 'حتي', 'وانا', 'لو', 'التحصيلي', 'اخذ', 'كذا', 'يطلع', 'ايام', 'بس', 'عشان', 'الع','My' ,'after','JedahMadina','take','We','You','hey','or','am','receive','Umrah','الفنادق',  \n",
        "         'متي', 'مره', 'فقط', 'كنت', 'عند', 'ولم', 'لان', 'كم',\n",
        "         'the','to','you','and','for','is','my','I','of','of','have','in','from','wil',\n",
        "          'a','Haj','not','number','permit','me','please','on','Please','gt','can','i','does','dose',\n",
        "          'provide','be','it','received','Karwa','safe','ride','toward','no','width','with','refund','this','as',\n",
        "          'اعتمرنا','are','but','that','by','us','your','if','we','was','there','what','Airport','International', \n",
        "          'الفنادق', 'جده', 'مجانا' ,'واحدث', 'الموديلات', 'بجميع', 'انواع','السيارات', 'they','know','one','2','want','النقل','الحرم','mesage','wife','143','any','got','our','al','the','has'\n",
        "          }"
      ],
      "execution_count": 61,
      "outputs": []
    },
    {
      "cell_type": "code",
      "metadata": {
        "id": "GdMLr97ND7P2",
        "colab": {
          "base_uri": "https://localhost:8080/"
        },
        "outputId": "e3680c53-8e37-4299-cf51-7b107e8003ec"
      },
      "source": [
        "import nltk\n",
        "nltk.download('stopwords')\n",
        "from nltk.corpus import stopwords\n",
        "en_stops = set(stopwords.words('english'))"
      ],
      "execution_count": 62,
      "outputs": [
        {
          "output_type": "stream",
          "name": "stdout",
          "text": [
            "[nltk_data] Downloading package stopwords to /root/nltk_data...\n",
            "[nltk_data]   Package stopwords is already up-to-date!\n"
          ]
        }
      ]
    },
    {
      "cell_type": "code",
      "metadata": {
        "id": "knSxBSCPEJiB"
      },
      "source": [
        "# remove Arabic stop words from the tweets\n",
        "for word in Data['text']:\n",
        "    if word in en_stops:        \n",
        "        words_filtered.remove(word)"
      ],
      "execution_count": 63,
      "outputs": []
    },
    {
      "cell_type": "code",
      "metadata": {
        "id": "XI-Hohrp-mUZ",
        "colab": {
          "base_uri": "https://localhost:8080/"
        },
        "outputId": "15ddda80-ae36-4695-8877-5c17f97590ad"
      },
      "source": [
        "# remove words that is in the ignore list\n",
        "all_words = [word for tokens in Data[\"clean text tokens\"] for word in tokens if not word in ignore]\n",
        "\n",
        "sentence_lengths = [len(tokens) for tokens in Data[\"clean text tokens\"]]\n",
        "\n",
        "VOCAB = sorted(list(set(all_words)))\n",
        "\n",
        "print(\"%s words total, with a vocabulary size of %s\" % (len(all_words), len(VOCAB)))\n",
        "print(\"Max sentence length is %s\" % max(sentence_lengths))"
      ],
      "execution_count": 64,
      "outputs": [
        {
          "output_type": "stream",
          "name": "stdout",
          "text": [
            "3356 words total, with a vocabulary size of 1542\n",
            "Max sentence length is 59\n"
          ]
        }
      ]
    },
    {
      "cell_type": "code",
      "metadata": {
        "id": "QIpbVIj_-4i-",
        "colab": {
          "base_uri": "https://localhost:8080/"
        },
        "outputId": "1f37df14-0684-4a00-a667-21bcc74a43a1"
      },
      "source": [
        "# count the number of words\n",
        "word_counter = Counter(all_words)\n",
        "# show the most common words\n",
        "word_counter.most_common(50)"
      ],
      "execution_count": 65,
      "outputs": [
        {
          "output_type": "execute_result",
          "data": {
            "text/plain": [
              "[('عمره', 58),\n",
              " ('حجز', 42),\n",
              " ('توصيل', 29),\n",
              " ('حجوزات', 23),\n",
              " ('haj', 20),\n",
              " ('help', 19),\n",
              " ('Thank', 18),\n",
              " ('reservation', 18),\n",
              " ('update', 17),\n",
              " ('cancel', 16),\n",
              " ('مكه', 15),\n",
              " ('رحلتك', 15),\n",
              " ('لحرم', 15),\n",
              " ('التذاكر', 14),\n",
              " ('تذاكر', 14),\n",
              " ('stil', 14),\n",
              " ('status', 14),\n",
              " ('Kindly', 13),\n",
              " ('اخر', 12),\n",
              " ('Makah', 11),\n",
              " ('اعدادات', 11),\n",
              " ('استفسار', 11),\n",
              " ('boking', 11),\n",
              " ('pay', 10),\n",
              " ('reply', 10),\n",
              " ('days', 10),\n",
              " ('how', 10),\n",
              " ('paid', 10),\n",
              " ('reference', 10),\n",
              " ('الانتظار', 9),\n",
              " ('اهلا', 9),\n",
              " ('خدمات', 9),\n",
              " ('pilgrim', 9),\n",
              " ('vacine', 9),\n",
              " ('How', 9),\n",
              " ('isue', 9),\n",
              " ('already', 9),\n",
              " ('now', 9),\n",
              " ('The', 8),\n",
              " ('Dear', 8),\n",
              " ('ben', 8),\n",
              " ('enter', 8),\n",
              " ('which', 8),\n",
              " ('so', 8),\n",
              " ('do', 8),\n",
              " ('amount', 8),\n",
              " ('What', 8),\n",
              " ('other', 8),\n",
              " ('2nd', 8),\n",
              " ('package', 8)]"
            ]
          },
          "metadata": {},
          "execution_count": 65
        }
      ]
    },
    {
      "cell_type": "code",
      "metadata": {
        "id": "K-VkLwtwAxot",
        "colab": {
          "base_uri": "https://localhost:8080/"
        },
        "outputId": "e885de96-87ae-4e20-ec8a-b11ac27f9d91"
      },
      "source": [
        "# Display 10 least common lines\n",
        "word_counter.most_common()[-10:]"
      ],
      "execution_count": 66,
      "outputs": [
        {
          "output_type": "execute_result",
          "data": {
            "text/plain": [
              "[('couldnt', 1),\n",
              " ('ادخلي', 1),\n",
              " ('وحطي', 1),\n",
              " ('ويضبط', 1),\n",
              " ('otp', 1),\n",
              " ('By', 1),\n",
              " ('USA', 1),\n",
              " ('based', 1),\n",
              " ('lok', 1),\n",
              " ('advance', 1)]"
            ]
          },
          "metadata": {},
          "execution_count": 66
        }
      ]
    },
    {
      "cell_type": "code",
      "metadata": {
        "id": "5ViVxo4KZhLD",
        "colab": {
          "base_uri": "https://localhost:8080/"
        },
        "outputId": "e9e1bef7-e2cd-4449-90e3-443e817a00b6"
      },
      "source": [
        "for_df=Data[Data[\"Sentiment\"]==1]\n",
        "For_words = [ word for tokens in for_df[\"clean text tokens\"] for word in tokens if not word in ignore]\n",
        "for_word_counter = Counter(For_words)\n",
        "for_word_counter.most_common(30)"
      ],
      "execution_count": 67,
      "outputs": [
        {
          "output_type": "execute_result",
          "data": {
            "text/plain": [
              "[('عمره', 58),\n",
              " ('حجز', 42),\n",
              " ('توصيل', 29),\n",
              " ('حجوزات', 23),\n",
              " ('Thank', 18),\n",
              " ('help', 18),\n",
              " ('haj', 16),\n",
              " ('مكه', 15),\n",
              " ('رحلتك', 15),\n",
              " ('لحرم', 15),\n",
              " ('التذاكر', 14),\n",
              " ('تذاكر', 14),\n",
              " ('update', 14),\n",
              " ('Kindly', 13),\n",
              " ('Makah', 11),\n",
              " ('اعدادات', 11),\n",
              " ('اخر', 11),\n",
              " ('استفسار', 10),\n",
              " ('reply', 10),\n",
              " ('reservation', 10),\n",
              " ('الانتظار', 9),\n",
              " ('اهلا', 9),\n",
              " ('cancel', 9),\n",
              " ('stil', 8),\n",
              " ('days', 8),\n",
              " ('status', 8),\n",
              " ('reference', 8),\n",
              " ('العمره', 7),\n",
              " ('amp', 7),\n",
              " ('كلمه', 7)]"
            ]
          },
          "metadata": {},
          "execution_count": 67
        }
      ]
    },
    {
      "cell_type": "code",
      "metadata": {
        "id": "cdJii-KMuW1o",
        "colab": {
          "base_uri": "https://localhost:8080/"
        },
        "outputId": "7d02ef90-d7ee-46bf-db68-e80f6f975ff9"
      },
      "source": [
        "for_df=Data[Data[\"Sentiment\"]==0]\n",
        "For_words = [ word for tokens in for_df[\"clean text tokens\"] for word in tokens if not word in ignore]\n",
        "for_word_counter = Counter(For_words)\n",
        "for_word_counter.most_common(30)"
      ],
      "execution_count": 68,
      "outputs": [
        {
          "output_type": "execute_result",
          "data": {
            "text/plain": [
              "[('reservation', 8),\n",
              " ('cancel', 7),\n",
              " ('pay', 6),\n",
              " ('status', 6),\n",
              " ('There', 6),\n",
              " ('boking', 6),\n",
              " ('problem', 6),\n",
              " ('stil', 6),\n",
              " ('infected', 5),\n",
              " ('2nd', 5),\n",
              " ('How', 5),\n",
              " ('service', 4),\n",
              " ('amount', 4),\n",
              " ('haj', 4),\n",
              " ('package', 4),\n",
              " ('12', 4),\n",
              " ('how', 4),\n",
              " ('available', 4),\n",
              " ('yet', 4),\n",
              " ('already', 4),\n",
              " ('an', 4),\n",
              " ('SMS', 4),\n",
              " ('paid', 4),\n",
              " ('now', 4),\n",
              " ('What', 4),\n",
              " ('خدمات', 3),\n",
              " ('which', 3),\n",
              " ('due', 3),\n",
              " ('tickets', 3),\n",
              " ('were', 3)]"
            ]
          },
          "metadata": {},
          "execution_count": 68
        }
      ]
    },
    {
      "cell_type": "code",
      "metadata": {
        "id": "fIF0H1SQv7pH",
        "colab": {
          "base_uri": "https://localhost:8080/",
          "height": 395
        },
        "outputId": "96774514-5db7-4456-a0b0-577d32cc190b"
      },
      "source": [
        "# store the top 20 words in a new data frame\n",
        "lst = word_counter.most_common(20)\n",
        "word_df = pd.DataFrame(lst, columns = ['Word', 'Count'])\n",
        "word_df.head()\n",
        "word_df.set_index('Word', inplace=True)\n",
        "# visualize the top 20 words\n",
        "\n",
        "fig, ax = plt.subplots()\n",
        "\n",
        "ax.tick_params(axis='x', labelsize=15,rotation=45)\n",
        "ax.tick_params(axis='y', labelsize=10)\n",
        "\n",
        "ax.set_xlabel('Word', fontsize=15)\n",
        "ax.set_ylabel('Count' , fontsize=15)\n",
        "ax.set_title('Distribution of words', fontsize=15, fontweight='bold')\n",
        "\n",
        "word_df.plot(ax=ax, kind='bar')"
      ],
      "execution_count": 69,
      "outputs": [
        {
          "output_type": "execute_result",
          "data": {
            "text/plain": [
              "<matplotlib.axes._subplots.AxesSubplot at 0x7f57261a9c90>"
            ]
          },
          "metadata": {},
          "execution_count": 69
        },
        {
          "output_type": "display_data",
          "data": {
            "image/png": "[encoded data removed]",
            "text/plain": [
              "<Figure size 432x288 with 1 Axes>"
            ]
          },
          "metadata": {
            "needs_background": "light"
          }
        }
      ]
    },
    {
      "cell_type": "markdown",
      "metadata": {
        "id": "QBmlBYefxAxx"
      },
      "source": [
        ""
      ]
    },
    {
      "cell_type": "markdown",
      "metadata": {
        "id": "NRN1hMiG33Cy"
      },
      "source": [
        "# **Tweets** **Distribution** **Per** **Week**"
      ]
    },
    {
      "cell_type": "code",
      "metadata": {
        "id": "mGpk8wtGwSz9"
      },
      "source": [
        "#first, we need to convert the date column to a datetime object\n",
        "Data['date'] = Data['date'].astype('datetime64[ns]')"
      ],
      "execution_count": 70,
      "outputs": []
    },
    {
      "cell_type": "code",
      "metadata": {
        "id": "PRJ8zfBFnwNa"
      },
      "source": [
        "#creat a new data frame\n",
        "Date_df4= Data[['date','text','Sentiment']].copy()"
      ],
      "execution_count": 71,
      "outputs": []
    },
    {
      "cell_type": "code",
      "metadata": {
        "id": "4Q2pELgtn48q"
      },
      "source": [
        "# create a new column for dates\n",
        "Date_df4['date'] = Date_df4['date'].dt.date"
      ],
      "execution_count": 72,
      "outputs": []
    },
    {
      "cell_type": "code",
      "metadata": {
        "id": "A6hMtScNVpEL"
      },
      "source": [
        "df_by_date = Date_df4.groupby('date').count()"
      ],
      "execution_count": 73,
      "outputs": []
    },
    {
      "cell_type": "code",
      "metadata": {
        "id": "jRI3HAd1nFEJ",
        "colab": {
          "base_uri": "https://localhost:8080/",
          "height": 235
        },
        "outputId": "4874c4b6-197a-4b12-a3fd-a15300d0a7cf"
      },
      "source": [
        "df_by_date.tail()"
      ],
      "execution_count": 74,
      "outputs": [
        {
          "output_type": "execute_result",
          "data": {
            "text/html": [
              "<div>\n",
              "<style scoped>\n",
              "    .dataframe tbody tr th:only-of-type {\n",
              "        vertical-align: middle;\n",
              "    }\n",
              "\n",
              "    .dataframe tbody tr th {\n",
              "        vertical-align: top;\n",
              "    }\n",
              "\n",
              "    .dataframe thead th {\n",
              "        text-align: right;\n",
              "    }\n",
              "</style>\n",
              "<table border=\"1\" class=\"dataframe\">\n",
              "  <thead>\n",
              "    <tr style=\"text-align: right;\">\n",
              "      <th></th>\n",
              "      <th>text</th>\n",
              "      <th>Sentiment</th>\n",
              "    </tr>\n",
              "    <tr>\n",
              "      <th>date</th>\n",
              "      <th></th>\n",
              "      <th></th>\n",
              "    </tr>\n",
              "  </thead>\n",
              "  <tbody>\n",
              "    <tr>\n",
              "      <th>2021-10-19</th>\n",
              "      <td>5</td>\n",
              "      <td>5</td>\n",
              "    </tr>\n",
              "    <tr>\n",
              "      <th>2021-10-24</th>\n",
              "      <td>1</td>\n",
              "      <td>1</td>\n",
              "    </tr>\n",
              "    <tr>\n",
              "      <th>2021-10-27</th>\n",
              "      <td>1</td>\n",
              "      <td>1</td>\n",
              "    </tr>\n",
              "    <tr>\n",
              "      <th>2021-10-31</th>\n",
              "      <td>2</td>\n",
              "      <td>2</td>\n",
              "    </tr>\n",
              "    <tr>\n",
              "      <th>2021-11-03</th>\n",
              "      <td>1</td>\n",
              "      <td>1</td>\n",
              "    </tr>\n",
              "  </tbody>\n",
              "</table>\n",
              "</div>"
            ],
            "text/plain": [
              "            text  Sentiment\n",
              "date                       \n",
              "2021-10-19     5          5\n",
              "2021-10-24     1          1\n",
              "2021-10-27     1          1\n",
              "2021-10-31     2          2\n",
              "2021-11-03     1          1"
            ]
          },
          "metadata": {},
          "execution_count": 74
        }
      ]
    },
    {
      "cell_type": "code",
      "metadata": {
        "id": "3W6Wtmptldtp"
      },
      "source": [
        "# make the date as the index for the visualization \n",
        "df_by_date['date'] = df_by_date.index"
      ],
      "execution_count": 75,
      "outputs": []
    },
    {
      "cell_type": "code",
      "metadata": {
        "id": "SqHgdDkGl1Xb",
        "colab": {
          "base_uri": "https://localhost:8080/",
          "height": 542
        },
        "outputId": "76c272ff-d325-4838-ef3f-7c3785ddcb7c"
      },
      "source": [
        "data = [go.Scatter(x=df_by_date['date'], y=df_by_date['text'])]\n",
        "\n",
        "py.iplot(data)"
      ],
      "execution_count": 76,
      "outputs": [
        {
          "output_type": "display_data",
          "data": {
            "text/html": [
              "<html>\n",
              "<head><meta charset=\"utf-8\" /></head>\n",
              "<body>\n",
              "    <div>\n",
              "            <script src=\"https://cdnjs.cloudflare.com/ajax/libs/mathjax/2.7.5/MathJax.js?config=TeX-AMS-MML_SVG\"></script><script type=\"text/javascript\">if (window.MathJax) {MathJax.Hub.Config({SVG: {font: \"STIX-Web\"}});}</script>\n",
              "                <script type=\"text/javascript\">window.PlotlyConfig = {MathJaxConfig: 'local'};</script>\n",
              "        <script src=\"https://cdn.plot.ly/plotly-latest.min.js\"></script>    \n",
              "            <div id=\"bed43af4-2963-49f9-8864-e38a097a075c\" class=\"plotly-graph-div\" style=\"height:525px; width:100%;\"></div>\n",
              "            <script type=\"text/javascript\">\n",
              "                \n",
              "                    window.PLOTLYENV=window.PLOTLYENV || {};\n",
              "                    \n",
              "                if (document.getElementById(\"bed43af4-2963-49f9-8864-e38a097a075c\")) {\n",
              "                    Plotly.newPlot(\n",
              "                        'bed43af4-2963-49f9-8864-e38a097a075c',\n",
              "                        [{\"type\": \"scatter\", \"x\": [\"2020-09-26\", \"2020-10-01\", \"2020-10-21\", \"2020-10-22\", \"2020-12-25\", \"2021-04-15\", \"2021-04-18\", \"2021-04-19\", \"2021-04-20\", \"2021-04-25\", \"2021-04-27\", \"2021-04-29\", \"2021-04-30\", \"2021-05-01\", \"2021-05-03\", \"2021-05-12\", \"2021-06-26\", \"2021-06-27\", \"2021-06-28\", \"2021-06-29\", \"2021-06-30\", \"2021-07-01\", \"2021-07-02\", \"2021-07-03\", \"2021-07-04\", \"2021-07-05\", \"2021-07-06\", \"2021-07-07\", \"2021-07-08\", \"2021-07-09\", \"2021-07-10\", \"2021-07-12\", \"2021-07-13\", \"2021-07-14\", \"2021-07-15\", \"2021-07-16\", \"2021-07-18\", \"2021-07-19\", \"2021-07-22\", \"2021-07-23\", \"2021-07-26\", \"2021-07-31\", \"2021-08-03\", \"2021-08-04\", \"2021-08-06\", \"2021-08-07\", \"2021-08-08\", \"2021-08-13\", \"2021-08-22\", \"2021-08-24\", \"2021-08-30\", \"2021-08-31\", \"2021-09-18\", \"2021-09-19\", \"2021-09-20\", \"2021-09-23\", \"2021-09-24\", \"2021-09-26\", \"2021-09-28\", \"2021-09-30\", \"2021-10-01\", \"2021-10-03\", \"2021-10-04\", \"2021-10-05\", \"2021-10-09\", \"2021-10-10\", \"2021-10-12\", \"2021-10-14\", \"2021-10-15\", \"2021-10-16\", \"2021-10-17\", \"2021-10-19\", \"2021-10-24\", \"2021-10-27\", \"2021-10-31\", \"2021-11-03\"], \"y\": [1, 1, 1, 1, 1, 1, 2, 1, 1, 1, 1, 1, 2, 5, 2, 1, 3, 18, 25, 14, 12, 14, 13, 1, 10, 18, 11, 10, 2, 1, 2, 5, 5, 1, 2, 1, 3, 4, 1, 1, 1, 1, 5, 1, 1, 2, 4, 2, 2, 1, 3, 2, 1, 4, 2, 2, 1, 1, 1, 1, 1, 3, 2, 2, 1, 1, 1, 1, 1, 1, 1, 5, 1, 1, 2, 1]}],\n",
              "                        {\"template\": {\"data\": {\"bar\": [{\"error_x\": {\"color\": \"#2a3f5f\"}, \"error_y\": {\"color\": \"#2a3f5f\"}, \"marker\": {\"line\": {\"color\": \"#E5ECF6\", \"width\": 0.5}}, \"type\": \"bar\"}], \"barpolar\": [{\"marker\": {\"line\": {\"color\": \"#E5ECF6\", \"width\": 0.5}}, \"type\": \"barpolar\"}], \"carpet\": [{\"aaxis\": {\"endlinecolor\": \"#2a3f5f\", \"gridcolor\": \"white\", \"linecolor\": \"white\", \"minorgridcolor\": \"white\", \"startlinecolor\": \"#2a3f5f\"}, \"baxis\": {\"endlinecolor\": \"#2a3f5f\", \"gridcolor\": \"white\", \"linecolor\": \"white\", \"minorgridcolor\": \"white\", \"startlinecolor\": \"#2a3f5f\"}, \"type\": \"carpet\"}], \"choropleth\": [{\"colorbar\": {\"outlinewidth\": 0, \"ticks\": \"\"}, \"type\": \"choropleth\"}], \"contour\": [{\"colorbar\": {\"outlinewidth\": 0, \"ticks\": \"\"}, \"colorscale\": [[0.0, \"#0d0887\"], [0.1111111111111111, \"#46039f\"], [0.2222222222222222, \"#7201a8\"], [0.3333333333333333, \"#9c179e\"], [0.4444444444444444, \"#bd3786\"], [0.5555555555555556, \"#d8576b\"], [0.6666666666666666, \"#ed7953\"], [0.7777777777777778, \"#fb9f3a\"], [0.8888888888888888, \"#fdca26\"], [1.0, \"#f0f921\"]], \"type\": \"contour\"}], \"contourcarpet\": [{\"colorbar\": {\"outlinewidth\": 0, \"ticks\": \"\"}, \"type\": \"contourcarpet\"}], \"heatmap\": [{\"colorbar\": {\"outlinewidth\": 0, \"ticks\": \"\"}, \"colorscale\": [[0.0, \"#0d0887\"], [0.1111111111111111, \"#46039f\"], [0.2222222222222222, \"#7201a8\"], [0.3333333333333333, \"#9c179e\"], [0.4444444444444444, \"#bd3786\"], [0.5555555555555556, \"#d8576b\"], [0.6666666666666666, \"#ed7953\"], [0.7777777777777778, \"#fb9f3a\"], [0.8888888888888888, \"#fdca26\"], [1.0, \"#f0f921\"]], \"type\": \"heatmap\"}], \"heatmapgl\": [{\"colorbar\": {\"outlinewidth\": 0, \"ticks\": \"\"}, \"colorscale\": [[0.0, \"#0d0887\"], [0.1111111111111111, \"#46039f\"], [0.2222222222222222, \"#7201a8\"], [0.3333333333333333, \"#9c179e\"], [0.4444444444444444, \"#bd3786\"], [0.5555555555555556, \"#d8576b\"], [0.6666666666666666, \"#ed7953\"], [0.7777777777777778, \"#fb9f3a\"], [0.8888888888888888, \"#fdca26\"], [1.0, \"#f0f921\"]], \"type\": \"heatmapgl\"}], \"histogram\": [{\"marker\": {\"colorbar\": {\"outlinewidth\": 0, \"ticks\": \"\"}}, \"type\": \"histogram\"}], \"histogram2d\": [{\"colorbar\": {\"outlinewidth\": 0, \"ticks\": \"\"}, \"colorscale\": [[0.0, \"#0d0887\"], [0.1111111111111111, \"#46039f\"], [0.2222222222222222, \"#7201a8\"], [0.3333333333333333, \"#9c179e\"], [0.4444444444444444, \"#bd3786\"], [0.5555555555555556, \"#d8576b\"], [0.6666666666666666, \"#ed7953\"], [0.7777777777777778, \"#fb9f3a\"], [0.8888888888888888, \"#fdca26\"], [1.0, \"#f0f921\"]], \"type\": \"histogram2d\"}], \"histogram2dcontour\": [{\"colorbar\": {\"outlinewidth\": 0, \"ticks\": \"\"}, \"colorscale\": [[0.0, \"#0d0887\"], [0.1111111111111111, \"#46039f\"], [0.2222222222222222, \"#7201a8\"], [0.3333333333333333, \"#9c179e\"], [0.4444444444444444, \"#bd3786\"], [0.5555555555555556, \"#d8576b\"], [0.6666666666666666, \"#ed7953\"], [0.7777777777777778, \"#fb9f3a\"], [0.8888888888888888, \"#fdca26\"], [1.0, \"#f0f921\"]], \"type\": \"histogram2dcontour\"}], \"mesh3d\": [{\"colorbar\": {\"outlinewidth\": 0, \"ticks\": \"\"}, \"type\": \"mesh3d\"}], \"parcoords\": [{\"line\": {\"colorbar\": {\"outlinewidth\": 0, \"ticks\": \"\"}}, \"type\": \"parcoords\"}], \"pie\": [{\"automargin\": true, \"type\": \"pie\"}], \"scatter\": [{\"marker\": {\"colorbar\": {\"outlinewidth\": 0, \"ticks\": \"\"}}, \"type\": \"scatter\"}], \"scatter3d\": [{\"line\": {\"colorbar\": {\"outlinewidth\": 0, \"ticks\": \"\"}}, \"marker\": {\"colorbar\": {\"outlinewidth\": 0, \"ticks\": \"\"}}, \"type\": \"scatter3d\"}], \"scattercarpet\": [{\"marker\": {\"colorbar\": {\"outlinewidth\": 0, \"ticks\": \"\"}}, \"type\": \"scattercarpet\"}], \"scattergeo\": [{\"marker\": {\"colorbar\": {\"outlinewidth\": 0, \"ticks\": \"\"}}, \"type\": \"scattergeo\"}], \"scattergl\": [{\"marker\": {\"colorbar\": {\"outlinewidth\": 0, \"ticks\": \"\"}}, \"type\": \"scattergl\"}], \"scattermapbox\": [{\"marker\": {\"colorbar\": {\"outlinewidth\": 0, \"ticks\": \"\"}}, \"type\": \"scattermapbox\"}], \"scatterpolar\": [{\"marker\": {\"colorbar\": {\"outlinewidth\": 0, \"ticks\": \"\"}}, \"type\": \"scatterpolar\"}], \"scatterpolargl\": [{\"marker\": {\"colorbar\": {\"outlinewidth\": 0, \"ticks\": \"\"}}, \"type\": \"scatterpolargl\"}], \"scatterternary\": [{\"marker\": {\"colorbar\": {\"outlinewidth\": 0, \"ticks\": \"\"}}, \"type\": \"scatterternary\"}], \"surface\": [{\"colorbar\": {\"outlinewidth\": 0, \"ticks\": \"\"}, \"colorscale\": [[0.0, \"#0d0887\"], [0.1111111111111111, \"#46039f\"], [0.2222222222222222, \"#7201a8\"], [0.3333333333333333, \"#9c179e\"], [0.4444444444444444, \"#bd3786\"], [0.5555555555555556, \"#d8576b\"], [0.6666666666666666, \"#ed7953\"], [0.7777777777777778, \"#fb9f3a\"], [0.8888888888888888, \"#fdca26\"], [1.0, \"#f0f921\"]], \"type\": \"surface\"}], \"table\": [{\"cells\": {\"fill\": {\"color\": \"#EBF0F8\"}, \"line\": {\"color\": \"white\"}}, \"header\": {\"fill\": {\"color\": \"#C8D4E3\"}, \"line\": {\"color\": \"white\"}}, \"type\": \"table\"}]}, \"layout\": {\"annotationdefaults\": {\"arrowcolor\": \"#2a3f5f\", \"arrowhead\": 0, \"arrowwidth\": 1}, \"coloraxis\": {\"colorbar\": {\"outlinewidth\": 0, \"ticks\": \"\"}}, \"colorscale\": {\"diverging\": [[0, \"#8e0152\"], [0.1, \"#c51b7d\"], [0.2, \"#de77ae\"], [0.3, \"#f1b6da\"], [0.4, \"#fde0ef\"], [0.5, \"#f7f7f7\"], [0.6, \"#e6f5d0\"], [0.7, \"#b8e186\"], [0.8, \"#7fbc41\"], [0.9, \"#4d9221\"], [1, \"#276419\"]], \"sequential\": [[0.0, \"#0d0887\"], [0.1111111111111111, \"#46039f\"], [0.2222222222222222, \"#7201a8\"], [0.3333333333333333, \"#9c179e\"], [0.4444444444444444, \"#bd3786\"], [0.5555555555555556, \"#d8576b\"], [0.6666666666666666, \"#ed7953\"], [0.7777777777777778, \"#fb9f3a\"], [0.8888888888888888, \"#fdca26\"], [1.0, \"#f0f921\"]], \"sequentialminus\": [[0.0, \"#0d0887\"], [0.1111111111111111, \"#46039f\"], [0.2222222222222222, \"#7201a8\"], [0.3333333333333333, \"#9c179e\"], [0.4444444444444444, \"#bd3786\"], [0.5555555555555556, \"#d8576b\"], [0.6666666666666666, \"#ed7953\"], [0.7777777777777778, \"#fb9f3a\"], [0.8888888888888888, \"#fdca26\"], [1.0, \"#f0f921\"]]}, \"colorway\": [\"#636efa\", \"#EF553B\", \"#00cc96\", \"#ab63fa\", \"#FFA15A\", \"#19d3f3\", \"#FF6692\", \"#B6E880\", \"#FF97FF\", \"#FECB52\"], \"font\": {\"color\": \"#2a3f5f\"}, \"geo\": {\"bgcolor\": \"white\", \"lakecolor\": \"white\", \"landcolor\": \"#E5ECF6\", \"showlakes\": true, \"showland\": true, \"subunitcolor\": \"white\"}, \"hoverlabel\": {\"align\": \"left\"}, \"hovermode\": \"closest\", \"mapbox\": {\"style\": \"light\"}, \"paper_bgcolor\": \"white\", \"plot_bgcolor\": \"#E5ECF6\", \"polar\": {\"angularaxis\": {\"gridcolor\": \"white\", \"linecolor\": \"white\", \"ticks\": \"\"}, \"bgcolor\": \"#E5ECF6\", \"radialaxis\": {\"gridcolor\": \"white\", \"linecolor\": \"white\", \"ticks\": \"\"}}, \"scene\": {\"xaxis\": {\"backgroundcolor\": \"#E5ECF6\", \"gridcolor\": \"white\", \"gridwidth\": 2, \"linecolor\": \"white\", \"showbackground\": true, \"ticks\": \"\", \"zerolinecolor\": \"white\"}, \"yaxis\": {\"backgroundcolor\": \"#E5ECF6\", \"gridcolor\": \"white\", \"gridwidth\": 2, \"linecolor\": \"white\", \"showbackground\": true, \"ticks\": \"\", \"zerolinecolor\": \"white\"}, \"zaxis\": {\"backgroundcolor\": \"#E5ECF6\", \"gridcolor\": \"white\", \"gridwidth\": 2, \"linecolor\": \"white\", \"showbackground\": true, \"ticks\": \"\", \"zerolinecolor\": \"white\"}}, \"shapedefaults\": {\"line\": {\"color\": \"#2a3f5f\"}}, \"ternary\": {\"aaxis\": {\"gridcolor\": \"white\", \"linecolor\": \"white\", \"ticks\": \"\"}, \"baxis\": {\"gridcolor\": \"white\", \"linecolor\": \"white\", \"ticks\": \"\"}, \"bgcolor\": \"#E5ECF6\", \"caxis\": {\"gridcolor\": \"white\", \"linecolor\": \"white\", \"ticks\": \"\"}}, \"title\": {\"x\": 0.05}, \"xaxis\": {\"automargin\": true, \"gridcolor\": \"white\", \"linecolor\": \"white\", \"ticks\": \"\", \"title\": {\"standoff\": 15}, \"zerolinecolor\": \"white\", \"zerolinewidth\": 2}, \"yaxis\": {\"automargin\": true, \"gridcolor\": \"white\", \"linecolor\": \"white\", \"ticks\": \"\", \"title\": {\"standoff\": 15}, \"zerolinecolor\": \"white\", \"zerolinewidth\": 2}}}},\n",
              "                        {\"responsive\": true}\n",
              "                    ).then(function(){\n",
              "                            \n",
              "var gd = document.getElementById('bed43af4-2963-49f9-8864-e38a097a075c');\n",
              "var x = new MutationObserver(function (mutations, observer) {{\n",
              "        var display = window.getComputedStyle(gd).display;\n",
              "        if (!display || display === 'none') {{\n",
              "            console.log([gd, 'removed!']);\n",
              "            Plotly.purge(gd);\n",
              "            observer.disconnect();\n",
              "        }}\n",
              "}});\n",
              "\n",
              "// Listen for the removal of the full notebook cells\n",
              "var notebookContainer = gd.closest('#notebook-container');\n",
              "if (notebookContainer) {{\n",
              "    x.observe(notebookContainer, {childList: true});\n",
              "}}\n",
              "\n",
              "// Listen for the clearing of the current output cell\n",
              "var outputEl = gd.closest('.output');\n",
              "if (outputEl) {{\n",
              "    x.observe(outputEl, {childList: true});\n",
              "}}\n",
              "\n",
              "                        })\n",
              "                };\n",
              "                \n",
              "            </script>\n",
              "        </div>\n",
              "</body>\n",
              "</html>"
            ]
          },
          "metadata": {}
        }
      ]
    },
    {
      "cell_type": "markdown",
      "metadata": {
        "id": "IeNjBULMcktx"
      },
      "source": [
        "# **After** **visualizing** **the** **data** **that**  **collected**, **findings**  **the** **following**:\n",
        " \n",
        "•\tPositive opinion tweets are more than negative opinion tweets.\n",
        "•\tThe order of tweets number from bigger to smaller based on tweets semantic are neutral then positive followed by negative.\n",
        "•\tThe tweets distribution per week starts increasing from  june till  jul then tweets start decreasing.\n"
      ]
    },
    {
      "cell_type": "markdown",
      "metadata": {
        "id": "hCNNwi8ldKqk"
      },
      "source": [
        "**At** **the** **end** **analysis** **project** **and** **regarding** **the** **visualization** **phase** **proved** **the** **following**:\n",
        " \n",
        "\n",
        "*   From the output of negative  common words used in tweets proved the “there is a problem related to registration process” \n",
        "by these words: (cancel، ، How، problem).\n",
        "*   From the output of positive common words used in tweets, proved the  “the application’s customer services team high responsiveness” by these words: ('Thank، اهلا، حجز )\n",
        "\n",
        "\n"
      ]
    }
  ]
}